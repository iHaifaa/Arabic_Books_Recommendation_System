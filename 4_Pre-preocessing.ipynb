{
 "metadata": {
  "language_info": {
   "codemirror_mode": {
    "name": "ipython",
    "version": 3
   },
   "file_extension": ".py",
   "mimetype": "text/x-python",
   "name": "python",
   "nbconvert_exporter": "python",
   "pygments_lexer": "ipython3",
   "version": "3.8.6-final"
  },
  "orig_nbformat": 2,
  "kernelspec": {
   "name": "python3",
   "display_name": "Python 3",
   "language": "python"
  }
 },
 "nbformat": 4,
 "nbformat_minor": 2,
 "cells": [
  {
   "source": [
    "# Pre-processing"
   ],
   "cell_type": "markdown",
   "metadata": {}
  },
  {
   "source": [
    "This notebook is used to pre-process the dataset (Descriptions of the books) to prepare it for the recommendation system. It includes several methods, a lot of them was taken from [arabic-text-preprocessing](https://github.com/saobou/arabic-text-preprocessing/blob/master/Preprocess.ipynb). In addition, a couple of different modules were used, so you have to install them before running this notebook.\n",
    "\n",
    "Note: later on, I will try to re-write this notebook via [pyarabic](https://github.com/linuxscout/pyarabic/blob/master/doc/features.md), [farasapy](https://github.com/MagedSaeed/farasapy), [tnkeeh](https://github.com/ARBML/tnkeeh), and [tkseem] (https://github.com/ARBML/tkseem)."
   ],
   "cell_type": "markdown",
   "metadata": {}
  },
  {
   "source": [
    "## 1. Seeting up"
   ],
   "cell_type": "markdown",
   "metadata": {}
  },
  {
   "source": [
    "### 1.1 Importing The Modules"
   ],
   "cell_type": "markdown",
   "metadata": {}
  },
  {
   "cell_type": "code",
   "execution_count": 1,
   "metadata": {},
   "outputs": [],
   "source": [
    "import pandas as pd\n",
    "\n",
    "pd.set_option('display.max_rows', 999)\n",
    "pd.set_option('display.max_columns', 999)\n",
    "#pd.set_option('display.max_colwidth', -1) # To display whole data in columns"
   ]
  },
  {
   "cell_type": "code",
   "execution_count": 2,
   "metadata": {},
   "outputs": [],
   "source": [
    "import nltk\n",
    "import ssl"
   ]
  },
  {
   "cell_type": "code",
   "execution_count": 3,
   "metadata": {},
   "outputs": [
    {
     "output_type": "execute_result",
     "data": {
      "text/plain": [
       "'try:\\n    _create_unverified_https_context = ssl._create_unverified_context\\nexcept AttributeError:\\n    pass\\nelse:\\n    ssl._create_default_https_context = _create_unverified_https_context\\n\\nnltk.download()'"
      ]
     },
     "metadata": {},
     "execution_count": 3
    }
   ],
   "source": [
    "# https://stackoverflow.com/questions/41610543/corpora-stopwords-not-found-when-import-nltk-library\n",
    "# You have to do it once in the begining \n",
    "'''try:\n",
    "    _create_unverified_https_context = ssl._create_unverified_context\n",
    "except AttributeError:\n",
    "    pass\n",
    "else:\n",
    "    ssl._create_default_https_context = _create_unverified_https_context\n",
    "\n",
    "nltk.download()'''"
   ]
  },
  {
   "cell_type": "code",
   "execution_count": 4,
   "metadata": {},
   "outputs": [],
   "source": [
    "from nltk.corpus import stopwords\n",
    "\n",
    "import pyarabic.araby as araby\n",
    "import pyarabic.number as number\n",
    "\n",
    "from textblob import TextBlob\n",
    "import re\n",
    "\n",
    "#from tashaphyne.stemming import ArabicLightStemmer # I did it but it led to bad stemming\n",
    "#from nltk.stem.isri import ISRIStemmer"
   ]
  },
  {
   "cell_type": "code",
   "execution_count": 5,
   "metadata": {},
   "outputs": [],
   "source": [
    "from farasa.pos import FarasaPOSTagger # EDA\n",
    "from farasa.ner import FarasaNamedEntityRecognizer # EDA\n",
    "from farasa.segmenter import FarasaSegmenter # Done on description, I should do it on \n",
    "from farasa.stemmer import FarasaStemmer "
   ]
  },
  {
   "source": [
    "### 1.2 Preparing The Dataset"
   ],
   "cell_type": "markdown",
   "metadata": {}
  },
  {
   "cell_type": "code",
   "execution_count": 6,
   "metadata": {},
   "outputs": [],
   "source": [
    "books = pd.read_csv('Data/Books_Data/Descriptions_Dataset.csv')"
   ]
  },
  {
   "cell_type": "code",
   "execution_count": 7,
   "metadata": {},
   "outputs": [],
   "source": [
    "books = books.drop(['Unnamed: 0'], axis = 1) #, 'ISBN', 'Title', 'Author', 'Genres', 'URL', 'Cover_URL'"
   ]
  },
  {
   "cell_type": "code",
   "execution_count": 8,
   "metadata": {},
   "outputs": [
    {
     "output_type": "execute_result",
     "data": {
      "text/plain": [
       "                                 Title                   Author  \\\n",
       "0                        استمتع بحياتك  محمد عبد الرحمن العريفي   \n",
       "1                           عبقرية عمر        عباس محمود العقاد   \n",
       "2                          عبقرية محمد        عباس محمود العقاد   \n",
       "3  لأنك الله : رحلة إلى السماء السابعة       علي بن جابر الفيفي   \n",
       "4                    عبقرية الإمام علي        عباس محمود العقاد   \n",
       "\n",
       "                                         Description  \\\n",
       "0  لما كنت فى السادسة عشرة من عمري وقع فى يدي كتا...   \n",
       "1  يزخر التاريخ الإسلامي برجال عِظام سطروا حوادثه...   \n",
       "2  احتفى التاريخ العربي بالسيرة المُحمدية؛ فأفرد ...   \n",
       "3  كتاب يتحدث عن بعض أسماء الله الحسنى وكيف نعيشه...   \n",
       "4  بَرَع «عباس محمود العقاد» في تناول شخصية الإما...   \n",
       "\n",
       "                        Genres  \\\n",
       "0           علوم إسلامية رقائق   \n",
       "1    علوم إسلامية سيرة الصحابة   \n",
       "2  علوم إسلامية السيرة النبوية   \n",
       "3           علوم إسلامية رقائق   \n",
       "4    علوم إسلامية سيرة الصحابة   \n",
       "\n",
       "                                                 URL  \\\n",
       "0  https://www.abjjad.com/book/15445916/%D8%A7%D8...   \n",
       "1  https://www.abjjad.com/book/15445340/%D8%B9%D8...   \n",
       "2  https://www.abjjad.com/book/15445339/%D8%B9%D8...   \n",
       "3  https://www.abjjad.com/book/2653683959/%D9%84%...   \n",
       "4  https://www.abjjad.com/book/15445343/%D8%B9%D8...   \n",
       "\n",
       "                                           Cover_URL  \n",
       "0  https://abjjadst.blob.core.windows.net/pub/2f2...  \n",
       "1  https://abjjadst.blob.core.windows.net/pub/e5f...  \n",
       "2  https://abjjadst.blob.core.windows.net/pub/7df...  \n",
       "3  https://abjjadst.blob.core.windows.net/pub/c35...  \n",
       "4  https://abjjadst.blob.core.windows.net/pub/0b2...  "
      ],
      "text/html": "<div>\n<style scoped>\n    .dataframe tbody tr th:only-of-type {\n        vertical-align: middle;\n    }\n\n    .dataframe tbody tr th {\n        vertical-align: top;\n    }\n\n    .dataframe thead th {\n        text-align: right;\n    }\n</style>\n<table border=\"1\" class=\"dataframe\">\n  <thead>\n    <tr style=\"text-align: right;\">\n      <th></th>\n      <th>Title</th>\n      <th>Author</th>\n      <th>Description</th>\n      <th>Genres</th>\n      <th>URL</th>\n      <th>Cover_URL</th>\n    </tr>\n  </thead>\n  <tbody>\n    <tr>\n      <th>0</th>\n      <td>استمتع بحياتك</td>\n      <td>محمد عبد الرحمن العريفي</td>\n      <td>لما كنت فى السادسة عشرة من عمري وقع فى يدي كتا...</td>\n      <td>علوم إسلامية رقائق</td>\n      <td>https://www.abjjad.com/book/15445916/%D8%A7%D8...</td>\n      <td>https://abjjadst.blob.core.windows.net/pub/2f2...</td>\n    </tr>\n    <tr>\n      <th>1</th>\n      <td>عبقرية عمر</td>\n      <td>عباس محمود العقاد</td>\n      <td>يزخر التاريخ الإسلامي برجال عِظام سطروا حوادثه...</td>\n      <td>علوم إسلامية سيرة الصحابة</td>\n      <td>https://www.abjjad.com/book/15445340/%D8%B9%D8...</td>\n      <td>https://abjjadst.blob.core.windows.net/pub/e5f...</td>\n    </tr>\n    <tr>\n      <th>2</th>\n      <td>عبقرية محمد</td>\n      <td>عباس محمود العقاد</td>\n      <td>احتفى التاريخ العربي بالسيرة المُحمدية؛ فأفرد ...</td>\n      <td>علوم إسلامية السيرة النبوية</td>\n      <td>https://www.abjjad.com/book/15445339/%D8%B9%D8...</td>\n      <td>https://abjjadst.blob.core.windows.net/pub/7df...</td>\n    </tr>\n    <tr>\n      <th>3</th>\n      <td>لأنك الله : رحلة إلى السماء السابعة</td>\n      <td>علي بن جابر الفيفي</td>\n      <td>كتاب يتحدث عن بعض أسماء الله الحسنى وكيف نعيشه...</td>\n      <td>علوم إسلامية رقائق</td>\n      <td>https://www.abjjad.com/book/2653683959/%D9%84%...</td>\n      <td>https://abjjadst.blob.core.windows.net/pub/c35...</td>\n    </tr>\n    <tr>\n      <th>4</th>\n      <td>عبقرية الإمام علي</td>\n      <td>عباس محمود العقاد</td>\n      <td>بَرَع «عباس محمود العقاد» في تناول شخصية الإما...</td>\n      <td>علوم إسلامية سيرة الصحابة</td>\n      <td>https://www.abjjad.com/book/15445343/%D8%B9%D8...</td>\n      <td>https://abjjadst.blob.core.windows.net/pub/0b2...</td>\n    </tr>\n  </tbody>\n</table>\n</div>"
     },
     "metadata": {},
     "execution_count": 8
    }
   ],
   "source": [
    "books.head()"
   ]
  },
  {
   "source": [
    "### 1.3 Examining The Data Before Pre-processing"
   ],
   "cell_type": "markdown",
   "metadata": {}
  },
  {
   "cell_type": "code",
   "execution_count": 9,
   "metadata": {},
   "outputs": [],
   "source": [
    "# Function to remove stop words\n",
    "def remove_stop_words(text):\n",
    "    zen = TextBlob(text)\n",
    "    words = zen.words\n",
    "    return \" \".join([w for w in words if not w in all_stopwords and len(w) >= 2])\n",
    "    #return \" \".join([w for w in words if not w in stop_words and not w in stop_word_comp and len(w) >= 2])\n",
    "\n",
    "# https://github.com/mohataher/arabic-stop-words\n",
    "all_stopwords = list(set(stopwords.words(\"arabic\"))) + pd.read_csv('Data/Pre-processing/Stopwords.txt').iloc[:, 0].values.tolist()\n",
    "\n",
    "#OR\n",
    "#stop_words1 = list(set(stopwords.words(\"arabic\")))\n",
    "#stop_words2 = pd.read_csv('arabic-stop-words/list.txt')\n",
    "#stop_words2 = stop_words2.iloc[:, 0].values.tolist()"
   ]
  },
  {
   "cell_type": "code",
   "execution_count": 10,
   "metadata": {},
   "outputs": [],
   "source": [
    "# Getting stats about Description of the books\n",
    "import emoji\n",
    "def avg_word(sentence):\n",
    "    words = sentence.split()\n",
    "    if len(words) == 0:\n",
    "        return 0\n",
    "    return (sum(len(word) for word in words)/len(words))\n",
    "\n",
    "def emoji_counter(sentence):\n",
    "    return emoji.emoji_count(sentence)\n",
    "\n",
    "books['word_count'] = books['Description'].apply(lambda x: len(str(x).split(\" \")))\n",
    "books['char_count'] = books['Description'].str.len() ## this also includes spaces\n",
    "books['avg_char_per_word'] = books['Description'].apply(lambda x: avg_word(x)) \n",
    "books['stopwords'] = books['Description'].apply(lambda x: len([x for x in x.split() if x in all_stopwords])) # I did it instead of the next 2 lines, so I make sure to have the same list of stopped words in the whole notebook. OR: \n",
    "#stop = stopwords.words('arabic')\n",
    "#books['stopwords'] = books['Description'].apply(lambda x: len([x for x in x.split() if x in stop]))\n",
    "books['emoji_count'] = books['Description'].apply(lambda x: emoji_counter(x))"
   ]
  },
  {
   "cell_type": "code",
   "execution_count": 11,
   "metadata": {},
   "outputs": [
    {
     "output_type": "execute_result",
     "data": {
      "text/plain": [
       "                                               Title  \\\n",
       "97             سر الآيات والعدد في شفاء الروح والجسد   \n",
       "1807                       العلوم الغريبة في الميزان   \n",
       "1800                       العلوم الغريبة في الميزان   \n",
       "135              الكنوز العلية في العلاجات الروحانية   \n",
       "5354   الحقائق العلمية في الاستشفاء بالطاقة القرآنية   \n",
       "...                                              ...   \n",
       "4744         سفرة أناهيد الصينية (سلسلة سفرة اناهيد)   \n",
       "4745                            أشهى الأطباق الشامية   \n",
       "4746                          أروع الفطائر والمعجنات   \n",
       "4747                                    حلا لا يقاوم   \n",
       "14199                                الجريمة المنظمة   \n",
       "\n",
       "                           Author  \\\n",
       "97                رضوان سعيد فقيه   \n",
       "1807              رضوان سعيد فقيه   \n",
       "1800              رضوان سعيد فقيه   \n",
       "135               رضوان سعيد فقيه   \n",
       "5354              رضوان سعيد فقيه   \n",
       "...                           ...   \n",
       "4744              أﻧﺎھﯿﺪ دوﻧﯿﻜﯿﺎن   \n",
       "4745   دار الحضارة للنشر والتوزيع   \n",
       "4746        زينة عبد القادر مريشد   \n",
       "4747      حنان محمد السيد إبراهيم   \n",
       "14199            كوركيس يوسف داود   \n",
       "\n",
       "                                             Description  \\\n",
       "97     أخطأ كلّ من ظنّ أن القرآن شفاء للروح والقلب فق...   \n",
       "1807   يحتوي هذا الكتاب على: - السحر - النجوم - الحرو...   \n",
       "1800   هذا كتاب يتحدث فيه المؤلف عن جملة من العلوم ال...   \n",
       "135    يتضمن هذا الكتاب بعض من الاحاديث التي تتحدث عن...   \n",
       "5354   هذا الكتاب الذي بين يديك يتضمن دراسات عديدة حو...   \n",
       "...                                                  ...   \n",
       "4744   من الشرق إلى الغرب ومن الشمال إلى الجنوب تنقلك...   \n",
       "4745   الكتاب طبعة ثانية.\\n\\nهذا الكتاب يطرح الكثير م...   \n",
       "4746   الكتاب طبعة أولى.\\n\\nمجموعة متنوعة من الأطعمة ...   \n",
       "4747   الكتاب طبعة ثانية.\\n\\nيحتوي هذا الكتاب على وصف...   \n",
       "14199  يلقي كتاب \"الجريمة المنظمة\" الضوء على هذه الظا...   \n",
       "\n",
       "                                                  Genres  \\\n",
       "97     علوم إسلامية علوم القرآن علوم إسلامية الطب النبوي   \n",
       "1807             غرائب وأساطير غرائب العلوم والطبيعة عام   \n",
       "1800                                 غرائب وأساطير غرائب   \n",
       "135         غرائب وأساطير أسرار علوم إسلامية الطب النبوي   \n",
       "5354                                                 NaN   \n",
       "...                                                  ...   \n",
       "4744                                طبخ وطعام مطبخ عالمي   \n",
       "4745                                 طبخ وطعام مطبخ عربي   \n",
       "4746                                   طبخ وطعام مخبوزات   \n",
       "4747                                    طبخ وطعام حلويات   \n",
       "14199                                  قانون قانون جنائي   \n",
       "\n",
       "                                                     URL  \\\n",
       "97     https://www.abjjad.com/book/2195818503/%D8%B3%...   \n",
       "1807   https://www.abjjad.com/book/2210365934/%D8%A7%...   \n",
       "1800   https://www.abjjad.com/book/2195818455/%D8%A7%...   \n",
       "135    https://www.abjjad.com/book/2195883917/%D8%A7%...   \n",
       "5354   https://www.abjjad.com/book/2195785466/%D8%A7%...   \n",
       "...                                                  ...   \n",
       "4744   https://www.abjjad.com/book/2179597020/%D8%B3%...   \n",
       "4745   https://www.abjjad.com/book/2181923362/%D8%A7%...   \n",
       "4746   https://www.abjjad.com/book/2181923483/%D8%A7%...   \n",
       "4747   https://www.abjjad.com/book/2181956229/%D8%AD%...   \n",
       "14199  https://www.abjjad.com/book/2177598778/%D8%A7%...   \n",
       "\n",
       "                                               Cover_URL  word_count  \\\n",
       "97     https://abjjadst.blob.core.windows.net/pub/322...         215   \n",
       "1807   https://abjjadst.blob.core.windows.net/pub/e70...         172   \n",
       "1800   https://abjjadst.blob.core.windows.net/pub/092...         160   \n",
       "135    https://abjjadst.blob.core.windows.net/pub/98d...         181   \n",
       "5354   https://abjjadst.blob.core.windows.net/pub/e99...         182   \n",
       "...                                                  ...         ...   \n",
       "4744   https://abjjadst.blob.core.windows.net/pub/dec...          34   \n",
       "4745   https://abjjadst.blob.core.windows.net/pub/170...          48   \n",
       "4746   https://abjjadst.blob.core.windows.net/pub/54e...          17   \n",
       "4747   https://abjjadst.blob.core.windows.net/pub/3f2...          36   \n",
       "14199  https://abjjadst.blob.core.windows.net/pub/f7d...         139   \n",
       "\n",
       "       char_count  avg_char_per_word  stopwords  emoji_count  \n",
       "97           1341           5.247664         55           16  \n",
       "1807         1087           5.296512         26           16  \n",
       "1800         1061           5.606250         31           16  \n",
       "135          1171           5.447514         39           16  \n",
       "5354         1198           5.560440         43           16  \n",
       "...           ...                ...        ...          ...  \n",
       "4744          198           5.000000          8            0  \n",
       "4745          295           5.444444          7            0  \n",
       "4746          112           5.529412          1            0  \n",
       "4747          211           4.833333          7            0  \n",
       "14199         832           4.992806         38            0  \n",
       "\n",
       "[14200 rows x 11 columns]"
      ],
      "text/html": "<div>\n<style scoped>\n    .dataframe tbody tr th:only-of-type {\n        vertical-align: middle;\n    }\n\n    .dataframe tbody tr th {\n        vertical-align: top;\n    }\n\n    .dataframe thead th {\n        text-align: right;\n    }\n</style>\n<table border=\"1\" class=\"dataframe\">\n  <thead>\n    <tr style=\"text-align: right;\">\n      <th></th>\n      <th>Title</th>\n      <th>Author</th>\n      <th>Description</th>\n      <th>Genres</th>\n      <th>URL</th>\n      <th>Cover_URL</th>\n      <th>word_count</th>\n      <th>char_count</th>\n      <th>avg_char_per_word</th>\n      <th>stopwords</th>\n      <th>emoji_count</th>\n    </tr>\n  </thead>\n  <tbody>\n    <tr>\n      <th>97</th>\n      <td>سر الآيات والعدد في شفاء الروح والجسد</td>\n      <td>رضوان سعيد فقيه</td>\n      <td>أخطأ كلّ من ظنّ أن القرآن شفاء للروح والقلب فق...</td>\n      <td>علوم إسلامية علوم القرآن علوم إسلامية الطب النبوي</td>\n      <td>https://www.abjjad.com/book/2195818503/%D8%B3%...</td>\n      <td>https://abjjadst.blob.core.windows.net/pub/322...</td>\n      <td>215</td>\n      <td>1341</td>\n      <td>5.247664</td>\n      <td>55</td>\n      <td>16</td>\n    </tr>\n    <tr>\n      <th>1807</th>\n      <td>العلوم الغريبة في الميزان</td>\n      <td>رضوان سعيد فقيه</td>\n      <td>يحتوي هذا الكتاب على: - السحر - النجوم - الحرو...</td>\n      <td>غرائب وأساطير غرائب العلوم والطبيعة عام</td>\n      <td>https://www.abjjad.com/book/2210365934/%D8%A7%...</td>\n      <td>https://abjjadst.blob.core.windows.net/pub/e70...</td>\n      <td>172</td>\n      <td>1087</td>\n      <td>5.296512</td>\n      <td>26</td>\n      <td>16</td>\n    </tr>\n    <tr>\n      <th>1800</th>\n      <td>العلوم الغريبة في الميزان</td>\n      <td>رضوان سعيد فقيه</td>\n      <td>هذا كتاب يتحدث فيه المؤلف عن جملة من العلوم ال...</td>\n      <td>غرائب وأساطير غرائب</td>\n      <td>https://www.abjjad.com/book/2195818455/%D8%A7%...</td>\n      <td>https://abjjadst.blob.core.windows.net/pub/092...</td>\n      <td>160</td>\n      <td>1061</td>\n      <td>5.606250</td>\n      <td>31</td>\n      <td>16</td>\n    </tr>\n    <tr>\n      <th>135</th>\n      <td>الكنوز العلية في العلاجات الروحانية</td>\n      <td>رضوان سعيد فقيه</td>\n      <td>يتضمن هذا الكتاب بعض من الاحاديث التي تتحدث عن...</td>\n      <td>غرائب وأساطير أسرار علوم إسلامية الطب النبوي</td>\n      <td>https://www.abjjad.com/book/2195883917/%D8%A7%...</td>\n      <td>https://abjjadst.blob.core.windows.net/pub/98d...</td>\n      <td>181</td>\n      <td>1171</td>\n      <td>5.447514</td>\n      <td>39</td>\n      <td>16</td>\n    </tr>\n    <tr>\n      <th>5354</th>\n      <td>الحقائق العلمية في الاستشفاء بالطاقة القرآنية</td>\n      <td>رضوان سعيد فقيه</td>\n      <td>هذا الكتاب الذي بين يديك يتضمن دراسات عديدة حو...</td>\n      <td>NaN</td>\n      <td>https://www.abjjad.com/book/2195785466/%D8%A7%...</td>\n      <td>https://abjjadst.blob.core.windows.net/pub/e99...</td>\n      <td>182</td>\n      <td>1198</td>\n      <td>5.560440</td>\n      <td>43</td>\n      <td>16</td>\n    </tr>\n    <tr>\n      <th>...</th>\n      <td>...</td>\n      <td>...</td>\n      <td>...</td>\n      <td>...</td>\n      <td>...</td>\n      <td>...</td>\n      <td>...</td>\n      <td>...</td>\n      <td>...</td>\n      <td>...</td>\n      <td>...</td>\n    </tr>\n    <tr>\n      <th>4744</th>\n      <td>سفرة أناهيد الصينية (سلسلة سفرة اناهيد)</td>\n      <td>أﻧﺎھﯿﺪ دوﻧﯿﻜﯿﺎن</td>\n      <td>من الشرق إلى الغرب ومن الشمال إلى الجنوب تنقلك...</td>\n      <td>طبخ وطعام مطبخ عالمي</td>\n      <td>https://www.abjjad.com/book/2179597020/%D8%B3%...</td>\n      <td>https://abjjadst.blob.core.windows.net/pub/dec...</td>\n      <td>34</td>\n      <td>198</td>\n      <td>5.000000</td>\n      <td>8</td>\n      <td>0</td>\n    </tr>\n    <tr>\n      <th>4745</th>\n      <td>أشهى الأطباق الشامية</td>\n      <td>دار الحضارة للنشر والتوزيع</td>\n      <td>الكتاب طبعة ثانية.\\n\\nهذا الكتاب يطرح الكثير م...</td>\n      <td>طبخ وطعام مطبخ عربي</td>\n      <td>https://www.abjjad.com/book/2181923362/%D8%A7%...</td>\n      <td>https://abjjadst.blob.core.windows.net/pub/170...</td>\n      <td>48</td>\n      <td>295</td>\n      <td>5.444444</td>\n      <td>7</td>\n      <td>0</td>\n    </tr>\n    <tr>\n      <th>4746</th>\n      <td>أروع الفطائر والمعجنات</td>\n      <td>زينة عبد القادر مريشد</td>\n      <td>الكتاب طبعة أولى.\\n\\nمجموعة متنوعة من الأطعمة ...</td>\n      <td>طبخ وطعام مخبوزات</td>\n      <td>https://www.abjjad.com/book/2181923483/%D8%A7%...</td>\n      <td>https://abjjadst.blob.core.windows.net/pub/54e...</td>\n      <td>17</td>\n      <td>112</td>\n      <td>5.529412</td>\n      <td>1</td>\n      <td>0</td>\n    </tr>\n    <tr>\n      <th>4747</th>\n      <td>حلا لا يقاوم</td>\n      <td>حنان محمد السيد إبراهيم</td>\n      <td>الكتاب طبعة ثانية.\\n\\nيحتوي هذا الكتاب على وصف...</td>\n      <td>طبخ وطعام حلويات</td>\n      <td>https://www.abjjad.com/book/2181956229/%D8%AD%...</td>\n      <td>https://abjjadst.blob.core.windows.net/pub/3f2...</td>\n      <td>36</td>\n      <td>211</td>\n      <td>4.833333</td>\n      <td>7</td>\n      <td>0</td>\n    </tr>\n    <tr>\n      <th>14199</th>\n      <td>الجريمة المنظمة</td>\n      <td>كوركيس يوسف داود</td>\n      <td>يلقي كتاب \"الجريمة المنظمة\" الضوء على هذه الظا...</td>\n      <td>قانون قانون جنائي</td>\n      <td>https://www.abjjad.com/book/2177598778/%D8%A7%...</td>\n      <td>https://abjjadst.blob.core.windows.net/pub/f7d...</td>\n      <td>139</td>\n      <td>832</td>\n      <td>4.992806</td>\n      <td>38</td>\n      <td>0</td>\n    </tr>\n  </tbody>\n</table>\n<p>14200 rows × 11 columns</p>\n</div>"
     },
     "metadata": {},
     "execution_count": 11
    }
   ],
   "source": [
    "books.sort_values(by='emoji_count',ascending=[0])\n",
    "#books.head()"
   ]
  },
  {
   "source": [
    "## 2. Text Cleaning"
   ],
   "cell_type": "markdown",
   "metadata": {}
  },
  {
   "source": [
    "### 2.1 Text Segmentation"
   ],
   "cell_type": "markdown",
   "metadata": {}
  },
  {
   "cell_type": "code",
   "execution_count": 12,
   "metadata": {
    "tags": []
   },
   "outputs": [
    {
     "output_type": "stream",
     "name": "stderr",
     "text": [
      "[2020-12-16 20:12:56,091 - farasapy_logger - WARNING]: Be careful with large lines as they may break on interactive mode. You may switch to Standalone mode for such cases.\n"
     ]
    }
   ],
   "source": [
    "# instantiate Farasa segmenter and preprocess text\n",
    "segmenter = FarasaSegmenter(interactive=True)\n",
    "\n",
    "for index, i in enumerate(books['Description']):\n",
    "        text = segmenter.segment(i)     # segment all texts in Description\n",
    "        books['Description'][index] = text"
   ]
  },
  {
   "source": [],
   "cell_type": "markdown",
   "metadata": {}
  },
  {
   "cell_type": "code",
   "execution_count": 13,
   "metadata": {},
   "outputs": [],
   "source": [
    "for index, i in enumerate(books['Description']):\n",
    "        books['Description'][index] = re.sub(\" +\", \" \", i) # removes all sepcial chars"
   ]
  },
  {
   "source": [
    "### 2.2 Remove emojis in a string\n"
   ],
   "cell_type": "markdown",
   "metadata": {}
  },
  {
   "cell_type": "code",
   "execution_count": 14,
   "metadata": {},
   "outputs": [],
   "source": [
    "with open('Data/Pre-processing/emojis.csv','r',encoding='utf-8') as f:\n",
    "    lines = f.readlines()\n",
    "    emojis_ar = {}\n",
    "    for line in lines:\n",
    "        line = line.strip('\\n').split(';')\n",
    "        emojis_ar.update({line[0].strip():line[1].strip()})"
   ]
  },
  {
   "cell_type": "code",
   "execution_count": 15,
   "metadata": {},
   "outputs": [],
   "source": [
    "from __future__ import unicode_literals\n",
    "\n",
    "def remove_emoji(text):\n",
    "    emoji_pattern = re.compile(\"[\"\n",
    "                                   u\"\\U0001F600-\\U0001F64F\"  # emoticons\n",
    "                                   u\"\\U0001F300-\\U0001F5FF\"  # symbols & pictographs\n",
    "                                   u\"\\U0001F680-\\U0001F6FF\"  # transport & map symbols\n",
    "                                   u\"\\U0001F1E0-\\U0001F1FF\"  # flags (iOS)\n",
    "                                   u\"\\U00002702-\\U000027B0\"\n",
    "                                   u\"\\U000024C2-\\U0001F251\"\n",
    "                                   \"]+\", flags=re.UNICODE)\n",
    "    text = emoji_pattern.sub(r'', text)\n",
    "    return text\n",
    "\n",
    "import unicodedata\n",
    "from unidecode import unidecode\n",
    "\n",
    "def emoji_native_translation(text):\n",
    "    text = text.lower()\n",
    "    loves = [\"<3\", \"♥\",'❤']\n",
    "    smilefaces = []\n",
    "    sadfaces = []\n",
    "    neutralfaces = []\n",
    "\n",
    "    eyes = [\"8\",\":\",\"=\",\";\"]\n",
    "    nose = [\"'\",\"`\",\"-\",r\"\\\\\"]\n",
    "    for e in eyes:\n",
    "        for n in nose:\n",
    "            for s in [\"\\)\", \"d\", \"]\", \"}\",\"p\"]:\n",
    "                smilefaces.append(e+n+s)\n",
    "                smilefaces.append(e+s)\n",
    "            for s in [\"\\(\", \"\\[\", \"{\"]:\n",
    "                sadfaces.append(e+n+s)\n",
    "                sadfaces.append(e+s)\n",
    "            for s in [\"\\|\", \"\\/\", r\"\\\\\"]:\n",
    "                neutralfaces.append(e+n+s)\n",
    "                neutralfaces.append(e+s)\n",
    "            #reversed\n",
    "            for s in [\"\\(\", \"\\[\", \"{\"]:\n",
    "                smilefaces.append(s+n+e)\n",
    "                smilefaces.append(s+e)\n",
    "            for s in [\"\\)\", \"\\]\", \"}\"]:\n",
    "                sadfaces.append(s+n+e)\n",
    "                sadfaces.append(s+e)\n",
    "            for s in [\"\\|\", \"\\/\", r\"\\\\\"]:\n",
    "                neutralfaces.append(s+n+e)\n",
    "                neutralfaces.append(s+e)\n",
    "\n",
    "    smilefaces = list(set(smilefaces))\n",
    "    sadfaces = list(set(sadfaces))\n",
    "    neutralfaces = list(set(neutralfaces))\n",
    "    t = []\n",
    "    for w in text.split():\n",
    "        if w in loves:\n",
    "            t.append(\"حب\")\n",
    "        elif w in smilefaces:\n",
    "            t.append(\"مضحك\")\n",
    "        elif w in neutralfaces:\n",
    "            t.append(\"عادي\")\n",
    "        elif w in sadfaces:\n",
    "            t.append(\"محزن\")\n",
    "        else:\n",
    "            t.append(w)\n",
    "    newText = \" \".join(t)\n",
    "    return newText\n",
    "\n",
    "import emoji\n",
    "def is_emoji(word):\n",
    "    if word in emojis_ar:\n",
    "        return True\n",
    "    else:\n",
    "        return False\n",
    "    \n",
    "def add_space(text):\n",
    "    return ''.join(' ' + char if is_emoji(char) else char for char in text).strip()\n",
    "\n",
    "from aiogoogletrans import Translator\n",
    "translator = Translator()\n",
    "import asyncio\n",
    "loop = asyncio.get_event_loop()\n",
    "def translate_emojis(words):\n",
    "    word_list = list()\n",
    "    words_to_translate = list()\n",
    "    for word in words :\n",
    "        t = emojis_ar.get(word.get('emoji'),None)\n",
    "        if t is None:\n",
    "            word.update({'translation':'عادي','translated':True})\n",
    "            #words_to_translate.append('normal')\n",
    "        else:\n",
    "            word.update({'translated':False,'translation':t})\n",
    "            words_to_translate.append(t.replace(':','').replace('_',' '))\n",
    "        word_list.append(word)\n",
    "    return word_list\n",
    "\n",
    "def emoji_unicode_translation(text):\n",
    "    text = add_space(text)\n",
    "    words = text.split()\n",
    "    text_list = list()\n",
    "    emojis_list = list()\n",
    "    c = 0\n",
    "    for word in words:\n",
    "        if is_emoji(word):\n",
    "            emojis_list.append({'emoji':word,'emplacement':c})\n",
    "        else:\n",
    "            text_list.append(word)\n",
    "        c+=1\n",
    "    emojis_translated = translate_emojis(emojis_list)\n",
    "    for em in emojis_translated:\n",
    "        text_list.insert(em.get('emplacement'),em.get('translation'))\n",
    "    text = \" \".join(text_list)\n",
    "    return text\n",
    "    \n",
    "def clean_emoji(text):\n",
    "    text = emoji_native_translation(text)\n",
    "    text = emoji_unicode_translation(text)\n",
    "    return text"
   ]
  },
  {
   "source": [
    "### 2.3 Text Standarization and Cleaning"
   ],
   "cell_type": "markdown",
   "metadata": {}
  },
  {
   "cell_type": "code",
   "execution_count": 16,
   "metadata": {},
   "outputs": [],
   "source": [
    "# I used Farasa for segmentation and stemming\n",
    "\n",
    "'''ArListem = ArabicLightStemmer()\n",
    "\n",
    "def to_arabic(text):\n",
    "    return ds.transliterate(text)\n",
    "\n",
    "def stem(text):\n",
    "    zen = TextBlob(text)\n",
    "    words = zen.words\n",
    "    cleaned = list()\n",
    "    for w in words:\n",
    "        ArListem.light_stem(w)\n",
    "        cleaned.append(ArListem.get_root())\n",
    "    return \" \".join(cleaned)\n",
    "'''\n",
    "\n",
    "def normalizeArabic(text):\n",
    "    text = text.strip()\n",
    "    text = re.sub(\"[إأٱآا]\", \"ا\", text)\n",
    "    text = re.sub(\"ى\", \"ي\", text)\n",
    "    text = re.sub(\"ؤ\", \"ء\", text)\n",
    "    text = re.sub(\"ئ\", \"ء\", text)\n",
    "    text = re.sub(\"ة\", \"ه\", text)\n",
    "    noise = re.compile(\"\"\" ّ    | # Tashdid\n",
    "                             َ    | # Fatha\n",
    "                             ً    | # Tanwin Fath\n",
    "                             ُ    | # Damma\n",
    "                             ٌ    | # Tanwin Damm\n",
    "                             ِ    | # Kasra\n",
    "                             ٍ    | # Tanwin Kasr\n",
    "                             ْ    | # Sukun\n",
    "                             ـ     # Tatwil/Kashida\n",
    "                         \"\"\", re.VERBOSE)\n",
    "    text = re.sub(noise, '', text)\n",
    "    text = re.sub(r'(.)\\1+', r\"\\1\\1\", text) # Remove longation\n",
    "    return araby.strip_tashkeel(text)"
   ]
  },
  {
   "cell_type": "code",
   "execution_count": 17,
   "metadata": {},
   "outputs": [],
   "source": [
    "def clean_description(text):\n",
    "    text = re.sub('#\\d+K\\d+', ' ', text)  # years like 2K19\n",
    "    text = re.sub('http\\S+\\s*', ' ', text)  # remove URLs\n",
    "    text = re.sub('\\\\n|\\\\t', ' ', text)  # remove \\n and \\t\n",
    "    text = re.sub('@[^\\s]+',' ',text)\n",
    "    #text = clean_hashtag(text)\n",
    "    text = clean_emoji(text)\n",
    "    return text"
   ]
  },
  {
   "cell_type": "code",
   "execution_count": 18,
   "metadata": {},
   "outputs": [],
   "source": [
    "def clean_text(text):\n",
    "    ## Clean for description\n",
    "    text = clean_description(text)\n",
    "    ## Remove punctuations\n",
    "    text = re.sub('[%s]' % re.escape(\"\"\"!\"#$%&'()*+,،-./:;<=>؟?@[\\]^_`{|}~\"\"\"), ' ', text)  # remove punctuation\n",
    "    ## remove extra whitespace\n",
    "    text = re.sub('\\s+', ' ', text)  \n",
    "    ## Remove Emojis\n",
    "    text = remove_emoji(text)\n",
    "    ## Convert text to lowercases\n",
    "    text = text.lower()\n",
    "    ## Arabisy the text\n",
    "    #text = to_arabic(text)\n",
    "    ## Remove stop words\n",
    "    text = remove_stop_words(text)\n",
    "    ## Remove numbers\n",
    "    text = re.sub(\"\\d+\", \" \", text)\n",
    "    ## Remove Tashkeel\n",
    "    text = normalizeArabic(text)\n",
    "    #text = re.sub('\\W+', ' ', text)\n",
    "    text = re.sub('[A-Za-z]+',' ',text) \n",
    "    text = re.sub(r'\\s*[A-Za-z]+\\b', '' , text)\n",
    "    text = re.sub(r'\\\\u[A-Za-z0-9\\\\]+',' ',text)\n",
    "    ## remove extra whitespace\n",
    "    text = re.sub('\\s+', ' ', text)  \n",
    "    #Stemming\n",
    "    #text = stem(text)\n",
    "\n",
    "    return text\n",
    "\n",
    "books['Description'] = books['Description'].apply(lambda x:clean_text(x))"
   ]
  },
  {
   "source": [
    "### 2.4 Stemming"
   ],
   "cell_type": "markdown",
   "metadata": {}
  },
  {
   "cell_type": "code",
   "execution_count": 19,
   "metadata": {},
   "outputs": [
    {
     "output_type": "stream",
     "name": "stderr",
     "text": [
      "[2020-12-16 20:20:29,552 - farasapy_logger - WARNING]: Be careful with large lines as they may break on interactive mode. You may switch to Standalone mode for such cases.\n"
     ]
    }
   ],
   "source": [
    "# instantiate Farasa stemmer and preprocess text\n",
    "stemmer = FarasaStemmer(interactive=True)\n",
    "\n",
    "for index, i in enumerate(books['Description']):\n",
    "        text = stemmer.stem(i)     # stemming\n",
    "        books['Description'][index] = text"
   ]
  },
  {
   "source": [
    "### 2.5 Removing high frequent and rare words"
   ],
   "cell_type": "markdown",
   "metadata": {}
  },
  {
   "cell_type": "code",
   "execution_count": 20,
   "metadata": {},
   "outputs": [],
   "source": [
    "### Common word removal\n",
    "freq = pd.Series(' '.join(books['Description']).split()).value_counts()[:12]\n",
    "freq = list(freq.index)\n",
    "books['Description'] = books['Description'].apply(lambda x: \" \".join(x for x in x.split() if x not in freq))\n",
    "### Rare words removal\n",
    "freq = pd.Series(' '.join(books['Description']).split()).value_counts()[-50:]\n",
    "freq = list(freq.index)\n",
    "books['Description'] = books['Description'].apply(lambda x: \" \".join(x for x in x.split() if x not in freq))\n",
    "### Remove Numbers from text"
   ]
  },
  {
   "source": [
    "### 2.6 Examining The Data After Pre-processing"
   ],
   "cell_type": "markdown",
   "metadata": {}
  },
  {
   "cell_type": "code",
   "execution_count": 21,
   "metadata": {},
   "outputs": [],
   "source": [
    "### Discover Data again after cleaning\n",
    "books['word_count'] = books['Description'].apply(lambda x: len(str(x).split(\" \")))\n",
    "books['char_count'] = books['Description'].str.len() ## this also includes spaces\n",
    "books['avg_char_per_word'] = books['Description'].apply(lambda x: avg_word(x))\n",
    "stop = stopwords.words('arabic')\n",
    "books['stopwords'] = books['Description'].apply(lambda x: len([x for x in x.split() if x in stop]))\n",
    "books['emoji_count'] = books['Description'].apply(lambda x: emoji_counter(x))"
   ]
  },
  {
   "cell_type": "code",
   "execution_count": 22,
   "metadata": {},
   "outputs": [
    {
     "output_type": "execute_result",
     "data": {
      "text/plain": [
       "                                           Title  \\\n",
       "6598                               الفن والإنسان   \n",
       "9327         Essentials of Environmental Science   \n",
       "13753                                     تيست ٣   \n",
       "4777    اللحوم (سلسلة مطبخ العروس للطبخ العالمي)   \n",
       "9425                               THE DATE PALM   \n",
       "...                                          ...   \n",
       "986                         يوميات اتنين متجوزين   \n",
       "6344                     ديوان يوميات مجنون ليلى   \n",
       "11128  لا شيء لا أحد.. يوميات في الشمال الأوروبي   \n",
       "11002                     يوميات ميونخ 2001-2004   \n",
       "9108                 كتاب الحيوان 1/4 مع الفهارس   \n",
       "\n",
       "                                                  Author  \\\n",
       "6598   Mouad assila fkhatre wlad dar lgdari wahde wah...   \n",
       "9327                                      Kamala dorsner   \n",
       "13753                                          أبجد تيست   \n",
       "4777                                 إفتخار عدنان الهندي   \n",
       "9425                                    Warda H. Bircher   \n",
       "...                                                  ...   \n",
       "986                                            مروة حلمي   \n",
       "6344                                  محمد امين بني تميم   \n",
       "11128                                         فاروق يوسف   \n",
       "11002                                     حسونة المصباحي   \n",
       "9108                                  عمرو بن بحر الجاحظ   \n",
       "\n",
       "                                             Description  \\\n",
       "6598                                                       \n",
       "9327                                                       \n",
       "13753                                                      \n",
       "4777                                                       \n",
       "9425                                                       \n",
       "...                                                  ...   \n",
       "986                                          يوم لذيذ جد   \n",
       "6344   يوم مجنون ليلي ديوان شعر فصحي شاعر محمد أمين ب...   \n",
       "11128  يوم مزج كاتب تأمل خاطر سطر شعر سر تطغي جزء تحو...   \n",
       "11002  يوم ميونخ فتح حسون مصباح بابا ولج قارء كاتب اط...   \n",
       "9108   يوهم عنوان وسم مقصور حيوان تضمن علم معرفة أكبر...   \n",
       "\n",
       "                                                  Genres  \\\n",
       "6598                                                 NaN   \n",
       "9327   تاريخ وجغرافيا دراسات جغرافية زراعة وحيوان علم...   \n",
       "13753                              قانون قانون بحري وجوي   \n",
       "4777                                طبخ وطعام مطبخ عالمي   \n",
       "9425                             زراعة وحيوان علم النبات   \n",
       "...                                                  ...   \n",
       "986                                                  NaN   \n",
       "6344              فنون فن الكتابة أدب دواوين شعر أدب نثر   \n",
       "11128                               سفر ورحلات أدب رحلات   \n",
       "11002                               سفر ورحلات أدب رحلات   \n",
       "9108                            زراعة وحيوان علم الحيوان   \n",
       "\n",
       "                                                     URL  \\\n",
       "6598   https://www.abjjad.com/book/2174977603/%D8%A7%...   \n",
       "9327   https://www.abjjad.com/book/2749005827/essenti...   \n",
       "13753  https://www.abjjad.com/book/2706636800/%D8%AA%...   \n",
       "4777   https://www.abjjad.com/book/2181300447/%D8%A7%...   \n",
       "9425   https://www.abjjad.com/book/2196308008/the-dat...   \n",
       "...                                                  ...   \n",
       "986    https://www.abjjad.com/book/2170159300/%D9%8A%...   \n",
       "6344   https://www.abjjad.com/book/2198864279/%D8%AF%...   \n",
       "11128  https://www.abjjad.com/book/2173698441/%D9%84%...   \n",
       "11002  https://www.abjjad.com/book/2175535317/%D9%8A%...   \n",
       "9108   https://www.abjjad.com/book/15454686/%D9%83%D8...   \n",
       "\n",
       "                                               Cover_URL  word_count  \\\n",
       "6598   https://abjjadst.blob.core.windows.net/pub/b16...           1   \n",
       "9327   https://abjjadst.blob.core.windows.net/pub/0e7...           1   \n",
       "13753  https://abjjadst.blob.core.windows.net/pub/c08...           1   \n",
       "4777   https://abjjadst.blob.core.windows.net/pub/07e...           1   \n",
       "9425   https://abjjadst.blob.core.windows.net/pub/630...           1   \n",
       "...                                                  ...         ...   \n",
       "986    https://abjjadst.blob.core.windows.net/pub/386...           3   \n",
       "6344   https://abjjadst.blob.core.windows.net/pub/05e...          99   \n",
       "11128  https://abjjadst.blob.core.windows.net/pub/c39...          43   \n",
       "11002  https://abjjadst.blob.core.windows.net/pub/5cb...         157   \n",
       "9108   https://abjjadst.blob.core.windows.net/pub/930...         159   \n",
       "\n",
       "       char_count  avg_char_per_word  stopwords  emoji_count  \n",
       "6598            0           0.000000          0            0  \n",
       "9327            0           0.000000          0            0  \n",
       "13753           0           0.000000          0            0  \n",
       "4777            0           0.000000          0            0  \n",
       "9425            0           0.000000          0            0  \n",
       "...           ...                ...        ...          ...  \n",
       "986            11           3.000000          0            0  \n",
       "6344          520           4.262626          0            0  \n",
       "11128         202           3.720930          0            0  \n",
       "11002         765           3.878981          1            0  \n",
       "9108          766           3.823899          1            0  \n",
       "\n",
       "[14200 rows x 11 columns]"
      ],
      "text/html": "<div>\n<style scoped>\n    .dataframe tbody tr th:only-of-type {\n        vertical-align: middle;\n    }\n\n    .dataframe tbody tr th {\n        vertical-align: top;\n    }\n\n    .dataframe thead th {\n        text-align: right;\n    }\n</style>\n<table border=\"1\" class=\"dataframe\">\n  <thead>\n    <tr style=\"text-align: right;\">\n      <th></th>\n      <th>Title</th>\n      <th>Author</th>\n      <th>Description</th>\n      <th>Genres</th>\n      <th>URL</th>\n      <th>Cover_URL</th>\n      <th>word_count</th>\n      <th>char_count</th>\n      <th>avg_char_per_word</th>\n      <th>stopwords</th>\n      <th>emoji_count</th>\n    </tr>\n  </thead>\n  <tbody>\n    <tr>\n      <th>6598</th>\n      <td>الفن والإنسان</td>\n      <td>Mouad assila fkhatre wlad dar lgdari wahde wah...</td>\n      <td></td>\n      <td>NaN</td>\n      <td>https://www.abjjad.com/book/2174977603/%D8%A7%...</td>\n      <td>https://abjjadst.blob.core.windows.net/pub/b16...</td>\n      <td>1</td>\n      <td>0</td>\n      <td>0.000000</td>\n      <td>0</td>\n      <td>0</td>\n    </tr>\n    <tr>\n      <th>9327</th>\n      <td>Essentials of Environmental Science</td>\n      <td>Kamala dorsner</td>\n      <td></td>\n      <td>تاريخ وجغرافيا دراسات جغرافية زراعة وحيوان علم...</td>\n      <td>https://www.abjjad.com/book/2749005827/essenti...</td>\n      <td>https://abjjadst.blob.core.windows.net/pub/0e7...</td>\n      <td>1</td>\n      <td>0</td>\n      <td>0.000000</td>\n      <td>0</td>\n      <td>0</td>\n    </tr>\n    <tr>\n      <th>13753</th>\n      <td>تيست ٣</td>\n      <td>أبجد تيست</td>\n      <td></td>\n      <td>قانون قانون بحري وجوي</td>\n      <td>https://www.abjjad.com/book/2706636800/%D8%AA%...</td>\n      <td>https://abjjadst.blob.core.windows.net/pub/c08...</td>\n      <td>1</td>\n      <td>0</td>\n      <td>0.000000</td>\n      <td>0</td>\n      <td>0</td>\n    </tr>\n    <tr>\n      <th>4777</th>\n      <td>اللحوم (سلسلة مطبخ العروس للطبخ العالمي)</td>\n      <td>إفتخار عدنان الهندي</td>\n      <td></td>\n      <td>طبخ وطعام مطبخ عالمي</td>\n      <td>https://www.abjjad.com/book/2181300447/%D8%A7%...</td>\n      <td>https://abjjadst.blob.core.windows.net/pub/07e...</td>\n      <td>1</td>\n      <td>0</td>\n      <td>0.000000</td>\n      <td>0</td>\n      <td>0</td>\n    </tr>\n    <tr>\n      <th>9425</th>\n      <td>THE DATE PALM</td>\n      <td>Warda H. Bircher</td>\n      <td></td>\n      <td>زراعة وحيوان علم النبات</td>\n      <td>https://www.abjjad.com/book/2196308008/the-dat...</td>\n      <td>https://abjjadst.blob.core.windows.net/pub/630...</td>\n      <td>1</td>\n      <td>0</td>\n      <td>0.000000</td>\n      <td>0</td>\n      <td>0</td>\n    </tr>\n    <tr>\n      <th>...</th>\n      <td>...</td>\n      <td>...</td>\n      <td>...</td>\n      <td>...</td>\n      <td>...</td>\n      <td>...</td>\n      <td>...</td>\n      <td>...</td>\n      <td>...</td>\n      <td>...</td>\n      <td>...</td>\n    </tr>\n    <tr>\n      <th>986</th>\n      <td>يوميات اتنين متجوزين</td>\n      <td>مروة حلمي</td>\n      <td>يوم لذيذ جد</td>\n      <td>NaN</td>\n      <td>https://www.abjjad.com/book/2170159300/%D9%8A%...</td>\n      <td>https://abjjadst.blob.core.windows.net/pub/386...</td>\n      <td>3</td>\n      <td>11</td>\n      <td>3.000000</td>\n      <td>0</td>\n      <td>0</td>\n    </tr>\n    <tr>\n      <th>6344</th>\n      <td>ديوان يوميات مجنون ليلى</td>\n      <td>محمد امين بني تميم</td>\n      <td>يوم مجنون ليلي ديوان شعر فصحي شاعر محمد أمين ب...</td>\n      <td>فنون فن الكتابة أدب دواوين شعر أدب نثر</td>\n      <td>https://www.abjjad.com/book/2198864279/%D8%AF%...</td>\n      <td>https://abjjadst.blob.core.windows.net/pub/05e...</td>\n      <td>99</td>\n      <td>520</td>\n      <td>4.262626</td>\n      <td>0</td>\n      <td>0</td>\n    </tr>\n    <tr>\n      <th>11128</th>\n      <td>لا شيء لا أحد.. يوميات في الشمال الأوروبي</td>\n      <td>فاروق يوسف</td>\n      <td>يوم مزج كاتب تأمل خاطر سطر شعر سر تطغي جزء تحو...</td>\n      <td>سفر ورحلات أدب رحلات</td>\n      <td>https://www.abjjad.com/book/2173698441/%D9%84%...</td>\n      <td>https://abjjadst.blob.core.windows.net/pub/c39...</td>\n      <td>43</td>\n      <td>202</td>\n      <td>3.720930</td>\n      <td>0</td>\n      <td>0</td>\n    </tr>\n    <tr>\n      <th>11002</th>\n      <td>يوميات ميونخ 2001-2004</td>\n      <td>حسونة المصباحي</td>\n      <td>يوم ميونخ فتح حسون مصباح بابا ولج قارء كاتب اط...</td>\n      <td>سفر ورحلات أدب رحلات</td>\n      <td>https://www.abjjad.com/book/2175535317/%D9%8A%...</td>\n      <td>https://abjjadst.blob.core.windows.net/pub/5cb...</td>\n      <td>157</td>\n      <td>765</td>\n      <td>3.878981</td>\n      <td>1</td>\n      <td>0</td>\n    </tr>\n    <tr>\n      <th>9108</th>\n      <td>كتاب الحيوان 1/4 مع الفهارس</td>\n      <td>عمرو بن بحر الجاحظ</td>\n      <td>يوهم عنوان وسم مقصور حيوان تضمن علم معرفة أكبر...</td>\n      <td>زراعة وحيوان علم الحيوان</td>\n      <td>https://www.abjjad.com/book/15454686/%D9%83%D8...</td>\n      <td>https://abjjadst.blob.core.windows.net/pub/930...</td>\n      <td>159</td>\n      <td>766</td>\n      <td>3.823899</td>\n      <td>1</td>\n      <td>0</td>\n    </tr>\n  </tbody>\n</table>\n<p>14200 rows × 11 columns</p>\n</div>"
     },
     "metadata": {},
     "execution_count": 22
    }
   ],
   "source": [
    "books.sort_values(by='Description',ascending=[1])"
   ]
  },
  {
   "source": [
    "### 2.7 Remove Non-Arabic books or description\n",
    "After the preprocessing, some books descriptions became empty or consist of non Arabic text. So, we removed them manually. "
   ],
   "cell_type": "markdown",
   "metadata": {}
  },
  {
   "cell_type": "code",
   "execution_count": 23,
   "metadata": {},
   "outputs": [],
   "source": [
    "books = books[books['Description'].notna()]  # also used fillna but the empty descriptions look like not empty"
   ]
  },
  {
   "cell_type": "code",
   "execution_count": 24,
   "metadata": {},
   "outputs": [
    {
     "output_type": "stream",
     "name": "stdout",
     "text": [
      "<class 'pandas.core.frame.DataFrame'>\nInt64Index: 14200 entries, 0 to 14199\nData columns (total 11 columns):\n #   Column             Non-Null Count  Dtype  \n---  ------             --------------  -----  \n 0   Title              14200 non-null  object \n 1   Author             14193 non-null  object \n 2   Description        14200 non-null  object \n 3   Genres             13393 non-null  object \n 4   URL                14200 non-null  object \n 5   Cover_URL          14196 non-null  object \n 6   word_count         14200 non-null  int64  \n 7   char_count         14200 non-null  int64  \n 8   avg_char_per_word  14200 non-null  float64\n 9   stopwords          14200 non-null  int64  \n 10  emoji_count        14200 non-null  int64  \ndtypes: float64(1), int64(4), object(6)\nmemory usage: 1.3+ MB\n"
     ]
    }
   ],
   "source": [
    "books.info()"
   ]
  },
  {
   "cell_type": "code",
   "execution_count": 25,
   "metadata": {},
   "outputs": [],
   "source": [
    "# I can delete the books with word_count less than 5 words, they are almost have no description or it is just words like: عظيم! (Great!)\n",
    "books = books[books[\"word_count\"] >= 5]"
   ]
  },
  {
   "cell_type": "code",
   "execution_count": 26,
   "metadata": {},
   "outputs": [
    {
     "output_type": "execute_result",
     "data": {
      "text/plain": [
       "(14072, 11)"
      ]
     },
     "metadata": {},
     "execution_count": 26
    }
   ],
   "source": [
    "books.shape"
   ]
  },
  {
   "cell_type": "code",
   "execution_count": 27,
   "metadata": {},
   "outputs": [
    {
     "output_type": "execute_result",
     "data": {
      "text/plain": [
       "                                                   Title  \\\n",
       "13169                                     الإستــاتيــكا   \n",
       "10266  الثقة في النفس؛ كيف تتغلب على مخاوفك وتحقق أهد...   \n",
       "5966       قبيلة البوشعبان العربية الزبيدية ؛ تاريخ ونسب   \n",
       "12644                                        جبيل القديس   \n",
       "13457                   مهارات القيادة في المجال الرياضي   \n",
       "\n",
       "                               Author                       Description  \\\n",
       "13169              أمجد إبراهيم شحادة  تحدث استاتيكا اتزان اجسام احتكاك   \n",
       "10266                   مايك ماكليمنت          ثق تغلب مخافة تحقق أهداف   \n",
       "5966   هشام المسراوي الشعباني الزبيدي        ملحق صورة مشجر قباءل زبيدي   \n",
       "12644                يوسف محمود جربوع            جند قدس قيام مارون موت   \n",
       "13457                 مصطفى حسين باهي        تحميل مهار قياد مجال رياضي   \n",
       "\n",
       "                                                  Genres  \\\n",
       "13169                            العلوم والطبيعة رياضيات   \n",
       "10266  علوم إجتماعية علم إجتماع علم النفس تنمية بشرية...   \n",
       "5966                                                 NaN   \n",
       "12644                                                NaN   \n",
       "13457                                   رياضة وتسالي عام   \n",
       "\n",
       "                                                     URL  \\\n",
       "13169  https://www.abjjad.com/book/2188935256/%D8%A7%...   \n",
       "10266  https://www.abjjad.com/book/2200143482/%D8%A7%...   \n",
       "5966   https://www.abjjad.com/book/2209055153/%D9%82%...   \n",
       "12644  https://www.abjjad.com/book/2724823045/%D8%AC%...   \n",
       "13457  https://www.abjjad.com/book/2451572230/%D9%85%...   \n",
       "\n",
       "                                               Cover_URL  word_count  \\\n",
       "13169  https://abjjadst.blob.core.windows.net/pub/022...           5   \n",
       "10266  https://abjjadst.blob.core.windows.net/pub/590...           5   \n",
       "5966   https://abjjadst.blob.core.windows.net/pub/86e...           5   \n",
       "12644            https://www.abjjad.com/images/ubook.jpg           5   \n",
       "13457  https://abjjadst.blob.core.windows.net/pub/493...           5   \n",
       "\n",
       "       char_count  avg_char_per_word  stopwords  emoji_count  \n",
       "13169          32                5.6          0            0  \n",
       "10266          24                4.0          0            0  \n",
       "5966           26                4.4          0            0  \n",
       "12644          22                3.6          0            0  \n",
       "13457          26                4.4          0            0  "
      ],
      "text/html": "<div>\n<style scoped>\n    .dataframe tbody tr th:only-of-type {\n        vertical-align: middle;\n    }\n\n    .dataframe tbody tr th {\n        vertical-align: top;\n    }\n\n    .dataframe thead th {\n        text-align: right;\n    }\n</style>\n<table border=\"1\" class=\"dataframe\">\n  <thead>\n    <tr style=\"text-align: right;\">\n      <th></th>\n      <th>Title</th>\n      <th>Author</th>\n      <th>Description</th>\n      <th>Genres</th>\n      <th>URL</th>\n      <th>Cover_URL</th>\n      <th>word_count</th>\n      <th>char_count</th>\n      <th>avg_char_per_word</th>\n      <th>stopwords</th>\n      <th>emoji_count</th>\n    </tr>\n  </thead>\n  <tbody>\n    <tr>\n      <th>13169</th>\n      <td>الإستــاتيــكا</td>\n      <td>أمجد إبراهيم شحادة</td>\n      <td>تحدث استاتيكا اتزان اجسام احتكاك</td>\n      <td>العلوم والطبيعة رياضيات</td>\n      <td>https://www.abjjad.com/book/2188935256/%D8%A7%...</td>\n      <td>https://abjjadst.blob.core.windows.net/pub/022...</td>\n      <td>5</td>\n      <td>32</td>\n      <td>5.6</td>\n      <td>0</td>\n      <td>0</td>\n    </tr>\n    <tr>\n      <th>10266</th>\n      <td>الثقة في النفس؛ كيف تتغلب على مخاوفك وتحقق أهد...</td>\n      <td>مايك ماكليمنت</td>\n      <td>ثق تغلب مخافة تحقق أهداف</td>\n      <td>علوم إجتماعية علم إجتماع علم النفس تنمية بشرية...</td>\n      <td>https://www.abjjad.com/book/2200143482/%D8%A7%...</td>\n      <td>https://abjjadst.blob.core.windows.net/pub/590...</td>\n      <td>5</td>\n      <td>24</td>\n      <td>4.0</td>\n      <td>0</td>\n      <td>0</td>\n    </tr>\n    <tr>\n      <th>5966</th>\n      <td>قبيلة البوشعبان العربية الزبيدية ؛ تاريخ ونسب</td>\n      <td>هشام المسراوي الشعباني الزبيدي</td>\n      <td>ملحق صورة مشجر قباءل زبيدي</td>\n      <td>NaN</td>\n      <td>https://www.abjjad.com/book/2209055153/%D9%82%...</td>\n      <td>https://abjjadst.blob.core.windows.net/pub/86e...</td>\n      <td>5</td>\n      <td>26</td>\n      <td>4.4</td>\n      <td>0</td>\n      <td>0</td>\n    </tr>\n    <tr>\n      <th>12644</th>\n      <td>جبيل القديس</td>\n      <td>يوسف محمود جربوع</td>\n      <td>جند قدس قيام مارون موت</td>\n      <td>NaN</td>\n      <td>https://www.abjjad.com/book/2724823045/%D8%AC%...</td>\n      <td>https://www.abjjad.com/images/ubook.jpg</td>\n      <td>5</td>\n      <td>22</td>\n      <td>3.6</td>\n      <td>0</td>\n      <td>0</td>\n    </tr>\n    <tr>\n      <th>13457</th>\n      <td>مهارات القيادة في المجال الرياضي</td>\n      <td>مصطفى حسين باهي</td>\n      <td>تحميل مهار قياد مجال رياضي</td>\n      <td>رياضة وتسالي عام</td>\n      <td>https://www.abjjad.com/book/2451572230/%D9%85%...</td>\n      <td>https://abjjadst.blob.core.windows.net/pub/493...</td>\n      <td>5</td>\n      <td>26</td>\n      <td>4.4</td>\n      <td>0</td>\n      <td>0</td>\n    </tr>\n  </tbody>\n</table>\n</div>"
     },
     "metadata": {},
     "execution_count": 27
    }
   ],
   "source": [
    "books.sort_values(by='word_count',ascending=[1]).head() "
   ]
  },
  {
   "cell_type": "code",
   "execution_count": 28,
   "metadata": {},
   "outputs": [],
   "source": [
    "# Remove Non-Arabic books or description\n",
    "# books = books.drop([7762, 7306, 6598, 4915, 4916, 1843, 8010, 9425, 4942, 8185, 8207, 9327, 11870, 4777, 10583, 2128, 13753, 4244, 11184, 4943, 4048, 3847, 4464, 1842], axis=0)"
   ]
  },
  {
   "cell_type": "code",
   "execution_count": 29,
   "metadata": {},
   "outputs": [
    {
     "output_type": "execute_result",
     "data": {
      "text/plain": [
       "\"final = []\\nfor index, row in books.iterrows():\\n    if len(row['Description'].split()) > 3:\\n        final.append([row['Title'], row['Description'], row['Author'], row['Genres'], row['URL'], row['Cover_URL']])\\ndf = pd.DataFrame(final)\\ndf.columns = ['Title','Description', 'Author', 'Genres', 'URL', 'Cover_URL']\\ndf.to_csv('Final_Cleaned.csv',index=False)\""
      ]
     },
     "metadata": {},
     "execution_count": 29
    }
   ],
   "source": [
    "'''final = []\n",
    "for index, row in books.iterrows():\n",
    "    if len(row['Description'].split()) > 3:\n",
    "        final.append([row['Title'], row['Description'], row['Author'], row['Genres'], row['URL'], row['Cover_URL']])\n",
    "df = pd.DataFrame(final)\n",
    "df.columns = ['Title','Description', 'Author', 'Genres', 'URL', 'Cover_URL']\n",
    "df.to_csv('Final_Cleaned.csv',index=False)'''"
   ]
  },
  {
   "source": [
    "## 3. Exploring The Texts\n",
    "Explore the descriptions texts"
   ],
   "cell_type": "markdown",
   "metadata": {}
  },
  {
   "source": [
    "### 3.1 Basic Statistics"
   ],
   "cell_type": "markdown",
   "metadata": {}
  },
  {
   "cell_type": "code",
   "execution_count": 30,
   "metadata": {},
   "outputs": [],
   "source": [
    "from bayanat.bayanat import bayant"
   ]
  },
  {
   "cell_type": "code",
   "execution_count": 31,
   "metadata": {},
   "outputs": [],
   "source": [
    "books['Description'].to_csv('Data/Books_Data/Preprocessed_Descriptions.csv',index=False)"
   ]
  },
  {
   "cell_type": "code",
   "execution_count": 32,
   "metadata": {},
   "outputs": [],
   "source": [
    "Descriptions = bayant('Data/Books_Data/Preprocessed_Descriptions.csv')"
   ]
  },
  {
   "cell_type": "code",
   "execution_count": 33,
   "metadata": {},
   "outputs": [
    {
     "output_type": "execute_result",
     "data": {
      "text/plain": [
       "[('بيروتذاتشرفوردهامريكانليالتلصصالعمامه', 37),\n",
       " ('واقمارهاعطاردالزهرهالمريخالمشتريزحل', 35),\n",
       " ('الاداريهالفلسفهالفنونالقانوناللغه', 33),\n",
       " ('النفسالجغرافياالحاسوبالسياحه', 28),\n",
       " ('الصوتيهالتليفزيونالسنمامجلات', 28),\n",
       " ('يلحقبركبالحياهالعلميهالحديثه', 28),\n",
       " ('واعتذارمقدمهالماركسيهالقضيه', 27),\n",
       " ('ونماذجواهميتهمعاييرهاالفصل', 26),\n",
       " ('الفهرسالاهداءالمقدمهالفصل', 25),\n",
       " ('الكهروحيويالاورموسالنظريه', 25),\n",
       " ('المءلفالدكتورخزعلالماجدي', 24),\n",
       " ('الجامعهابراكسسشيزوفرينيا', 24),\n",
       " ('الاولالمراصدالمطيافالفصل', 24),\n",
       " ('التعليميهالقيادهالسيطره', 23),\n",
       " ('الولادهالرضاعهالتغيرات', 22),\n",
       " ('الرءيسيهالتاريخالتربيه', 22),\n",
       " ('العراقيهماجستيرالاداره', 22),\n",
       " ('الاليكترونيهتمرينالفصل', 22),\n",
       " ('اورانوسنبتونبلوتوالفصل', 22),\n",
       " ('الفريزالتمرالجزرشوربه', 21),\n",
       " ('والاعلامالعلميهالعلوم', 21),\n",
       " ('البكالوريوسوالماجستير', 21),\n",
       " ('اليوميهالطعامالعلاقات', 21),\n",
       " ('ويصدقونالاغنيهوهشاشه', 20),\n",
       " ('كاللسانياتالتوليديه', 19)]"
      ]
     },
     "metadata": {},
     "execution_count": 33
    }
   ],
   "source": [
    "Descriptions.get_top_largest_words(25) # as we see, some words have issue"
   ]
  },
  {
   "cell_type": "code",
   "execution_count": 34,
   "metadata": {},
   "outputs": [
    {
     "output_type": "execute_result",
     "data": {
      "text/plain": [
       "0.19621258889100845"
      ]
     },
     "metadata": {},
     "execution_count": 34
    }
   ],
   "source": [
    "Descriptions.get_ratio_of_non_arabic()"
   ]
  },
  {
   "cell_type": "code",
   "execution_count": 35,
   "metadata": {},
   "outputs": [
    {
     "output_type": "execute_result",
     "data": {
      "text/plain": [
       "1.304147770849855e-06"
      ]
     },
     "metadata": {},
     "execution_count": 35
    }
   ],
   "source": [
    "Descriptions.get_ratio_of_english()"
   ]
  },
  {
   "cell_type": "code",
   "execution_count": 36,
   "metadata": {},
   "outputs": [
    {
     "output_type": "execute_result",
     "data": {
      "text/plain": [
       "0.8037872925501033"
      ]
     },
     "metadata": {},
     "execution_count": 36
    }
   ],
   "source": [
    "Descriptions.get_ratio_of_arabic()"
   ]
  },
  {
   "source": [
    "### 3.2 Visualization"
   ],
   "cell_type": "markdown",
   "metadata": {}
  },
  {
   "cell_type": "code",
   "execution_count": 27,
   "metadata": {},
   "outputs": [
    {
     "output_type": "display_data",
     "data": {
      "text/plain": "<Figure size 864x720 with 1 Axes>",
      "image/svg+xml": "<?xml version=\"1.0\" encoding=\"utf-8\" standalone=\"no\"?>\n<!DOCTYPE svg PUBLIC \"-//W3C//DTD SVG 1.1//EN\"\n  \"http://www.w3.org/Graphics/SVG/1.1/DTD/svg11.dtd\">\n<!-- Created with matplotlib (https://matplotlib.org/) -->\n<svg height=\"603.474375pt\" version=\"1.1\" viewBox=\"0 0 730.128125 603.474375\" width=\"730.128125pt\" xmlns=\"http://www.w3.org/2000/svg\" xmlns:xlink=\"http://www.w3.org/1999/xlink\">\n <metadata>\n  <rdf:RDF xmlns:cc=\"http://creativecommons.org/ns#\" xmlns:dc=\"http://purl.org/dc/elements/1.1/\" xmlns:rdf=\"http://www.w3.org/1999/02/22-rdf-syntax-ns#\">\n   <cc:Work>\n    <dc:type rdf:resource=\"http://purl.org/dc/dcmitype/StillImage\"/>\n    <dc:date>2020-12-16T20:23:33.596928</dc:date>\n    <dc:format>image/svg+xml</dc:format>\n    <dc:creator>\n     <cc:Agent>\n      <dc:title>Matplotlib v3.3.3, https://matplotlib.org/</dc:title>\n     </cc:Agent>\n    </dc:creator>\n   </cc:Work>\n  </rdf:RDF>\n </metadata>\n <defs>\n  <style type=\"text/css\">*{stroke-linecap:butt;stroke-linejoin:round;}</style>\n </defs>\n <g id=\"figure_1\">\n  <g id=\"patch_1\">\n   <path d=\"M 0 603.474375 \nL 730.128125 603.474375 \nL 730.128125 0 \nL 0 0 \nz\n\" style=\"fill:none;\"/>\n  </g>\n  <g id=\"axes_1\">\n   <g id=\"patch_2\">\n    <path d=\"M 53.328125 565.918125 \nL 722.928125 565.918125 \nL 722.928125 22.318125 \nL 53.328125 22.318125 \nz\n\" style=\"fill:#ffffff;\"/>\n   </g>\n   <g id=\"patch_3\">\n    <path clip-path=\"url(#p92aedbc4bf)\" d=\"M 83.764489 565.918125 \nL 95.939034 565.918125 \nL 95.939034 48.203839 \nL 83.764489 48.203839 \nz\n\" style=\"fill:#1f77b4;\"/>\n   </g>\n   <g id=\"patch_4\">\n    <path clip-path=\"url(#p92aedbc4bf)\" d=\"M 95.939034 565.918125 \nL 108.11358 565.918125 \nL 108.11358 131.059452 \nL 95.939034 131.059452 \nz\n\" style=\"fill:#1f77b4;\"/>\n   </g>\n   <g id=\"patch_5\">\n    <path clip-path=\"url(#p92aedbc4bf)\" d=\"M 108.11358 565.918125 \nL 120.288125 565.918125 \nL 120.288125 224.258687 \nL 108.11358 224.258687 \nz\n\" style=\"fill:#1f77b4;\"/>\n   </g>\n   <g id=\"patch_6\">\n    <path clip-path=\"url(#p92aedbc4bf)\" d=\"M 120.288125 565.918125 \nL 132.46267 565.918125 \nL 132.46267 446.486611 \nL 120.288125 446.486611 \nz\n\" style=\"fill:#1f77b4;\"/>\n   </g>\n   <g id=\"patch_7\">\n    <path clip-path=\"url(#p92aedbc4bf)\" d=\"M 132.46267 565.918125 \nL 144.637216 565.918125 \nL 144.637216 522.944107 \nL 132.46267 522.944107 \nz\n\" style=\"fill:#1f77b4;\"/>\n   </g>\n   <g id=\"patch_8\">\n    <path clip-path=\"url(#p92aedbc4bf)\" d=\"M 144.637216 565.918125 \nL 156.811761 565.918125 \nL 156.811761 547.576857 \nL 144.637216 547.576857 \nz\n\" style=\"fill:#1f77b4;\"/>\n   </g>\n   <g id=\"patch_9\">\n    <path clip-path=\"url(#p92aedbc4bf)\" d=\"M 156.811761 565.918125 \nL 168.986307 565.918125 \nL 168.986307 558.240385 \nL 156.811761 558.240385 \nz\n\" style=\"fill:#1f77b4;\"/>\n   </g>\n   <g id=\"patch_10\">\n    <path clip-path=\"url(#p92aedbc4bf)\" d=\"M 168.986307 565.918125 \nL 181.160852 565.918125 \nL 181.160852 559.520008 \nL 168.986307 559.520008 \nz\n\" style=\"fill:#1f77b4;\"/>\n   </g>\n   <g id=\"patch_11\">\n    <path clip-path=\"url(#p92aedbc4bf)\" d=\"M 181.160852 565.918125 \nL 193.335398 565.918125 \nL 193.335398 563.358878 \nL 181.160852 563.358878 \nz\n\" style=\"fill:#1f77b4;\"/>\n   </g>\n   <g id=\"patch_12\">\n    <path clip-path=\"url(#p92aedbc4bf)\" d=\"M 193.335398 565.918125 \nL 205.509943 565.918125 \nL 205.509943 563.785419 \nL 193.335398 563.785419 \nz\n\" style=\"fill:#1f77b4;\"/>\n   </g>\n   <g id=\"patch_13\">\n    <path clip-path=\"url(#p92aedbc4bf)\" d=\"M 205.509943 565.918125 \nL 217.684489 565.918125 \nL 217.684489 564.318596 \nL 205.509943 564.318596 \nz\n\" style=\"fill:#1f77b4;\"/>\n   </g>\n   <g id=\"patch_14\">\n    <path clip-path=\"url(#p92aedbc4bf)\" d=\"M 217.684489 565.918125 \nL 229.859034 565.918125 \nL 229.859034 564.851772 \nL 217.684489 564.851772 \nz\n\" style=\"fill:#1f77b4;\"/>\n   </g>\n   <g id=\"patch_15\">\n    <path clip-path=\"url(#p92aedbc4bf)\" d=\"M 229.859034 565.918125 \nL 242.03358 565.918125 \nL 242.03358 565.065043 \nL 229.859034 565.065043 \nz\n\" style=\"fill:#1f77b4;\"/>\n   </g>\n   <g id=\"patch_16\">\n    <path clip-path=\"url(#p92aedbc4bf)\" d=\"M 242.03358 565.918125 \nL 254.208125 565.918125 \nL 254.208125 565.491584 \nL 242.03358 565.491584 \nz\n\" style=\"fill:#1f77b4;\"/>\n   </g>\n   <g id=\"patch_17\">\n    <path clip-path=\"url(#p92aedbc4bf)\" d=\"M 254.208125 565.918125 \nL 266.38267 565.918125 \nL 266.38267 565.704854 \nL 254.208125 565.704854 \nz\n\" style=\"fill:#1f77b4;\"/>\n   </g>\n   <g id=\"patch_18\">\n    <path clip-path=\"url(#p92aedbc4bf)\" d=\"M 266.38267 565.918125 \nL 278.557216 565.918125 \nL 278.557216 565.384949 \nL 266.38267 565.384949 \nz\n\" style=\"fill:#1f77b4;\"/>\n   </g>\n   <g id=\"patch_19\">\n    <path clip-path=\"url(#p92aedbc4bf)\" d=\"M 278.557216 565.918125 \nL 290.731761 565.918125 \nL 290.731761 565.704854 \nL 278.557216 565.704854 \nz\n\" style=\"fill:#1f77b4;\"/>\n   </g>\n   <g id=\"patch_20\">\n    <path clip-path=\"url(#p92aedbc4bf)\" d=\"M 290.731761 565.918125 \nL 302.906307 565.918125 \nL 302.906307 565.598219 \nL 290.731761 565.598219 \nz\n\" style=\"fill:#1f77b4;\"/>\n   </g>\n   <g id=\"patch_21\">\n    <path clip-path=\"url(#p92aedbc4bf)\" d=\"M 302.906307 565.918125 \nL 315.080852 565.918125 \nL 315.080852 565.704854 \nL 302.906307 565.704854 \nz\n\" style=\"fill:#1f77b4;\"/>\n   </g>\n   <g id=\"patch_22\">\n    <path clip-path=\"url(#p92aedbc4bf)\" d=\"M 315.080852 565.918125 \nL 327.255398 565.918125 \nL 327.255398 565.918125 \nL 315.080852 565.918125 \nz\n\" style=\"fill:#1f77b4;\"/>\n   </g>\n   <g id=\"patch_23\">\n    <path clip-path=\"url(#p92aedbc4bf)\" d=\"M 327.255398 565.918125 \nL 339.429943 565.918125 \nL 339.429943 565.81149 \nL 327.255398 565.81149 \nz\n\" style=\"fill:#1f77b4;\"/>\n   </g>\n   <g id=\"patch_24\">\n    <path clip-path=\"url(#p92aedbc4bf)\" d=\"M 339.429943 565.918125 \nL 351.604489 565.918125 \nL 351.604489 565.918125 \nL 339.429943 565.918125 \nz\n\" style=\"fill:#1f77b4;\"/>\n   </g>\n   <g id=\"patch_25\">\n    <path clip-path=\"url(#p92aedbc4bf)\" d=\"M 351.604489 565.918125 \nL 363.779034 565.918125 \nL 363.779034 565.598219 \nL 351.604489 565.598219 \nz\n\" style=\"fill:#1f77b4;\"/>\n   </g>\n   <g id=\"patch_26\">\n    <path clip-path=\"url(#p92aedbc4bf)\" d=\"M 363.779034 565.918125 \nL 375.95358 565.918125 \nL 375.95358 565.81149 \nL 363.779034 565.81149 \nz\n\" style=\"fill:#1f77b4;\"/>\n   </g>\n   <g id=\"patch_27\">\n    <path clip-path=\"url(#p92aedbc4bf)\" d=\"M 375.95358 565.918125 \nL 388.128125 565.918125 \nL 388.128125 565.918125 \nL 375.95358 565.918125 \nz\n\" style=\"fill:#1f77b4;\"/>\n   </g>\n   <g id=\"patch_28\">\n    <path clip-path=\"url(#p92aedbc4bf)\" d=\"M 388.128125 565.918125 \nL 400.30267 565.918125 \nL 400.30267 565.81149 \nL 388.128125 565.81149 \nz\n\" style=\"fill:#1f77b4;\"/>\n   </g>\n   <g id=\"patch_29\">\n    <path clip-path=\"url(#p92aedbc4bf)\" d=\"M 400.30267 565.918125 \nL 412.477216 565.918125 \nL 412.477216 565.81149 \nL 400.30267 565.81149 \nz\n\" style=\"fill:#1f77b4;\"/>\n   </g>\n   <g id=\"patch_30\">\n    <path clip-path=\"url(#p92aedbc4bf)\" d=\"M 412.477216 565.918125 \nL 424.651761 565.918125 \nL 424.651761 565.918125 \nL 412.477216 565.918125 \nz\n\" style=\"fill:#1f77b4;\"/>\n   </g>\n   <g id=\"patch_31\">\n    <path clip-path=\"url(#p92aedbc4bf)\" d=\"M 424.651761 565.918125 \nL 436.826307 565.918125 \nL 436.826307 565.918125 \nL 424.651761 565.918125 \nz\n\" style=\"fill:#1f77b4;\"/>\n   </g>\n   <g id=\"patch_32\">\n    <path clip-path=\"url(#p92aedbc4bf)\" d=\"M 436.826307 565.918125 \nL 449.000852 565.918125 \nL 449.000852 565.918125 \nL 436.826307 565.918125 \nz\n\" style=\"fill:#1f77b4;\"/>\n   </g>\n   <g id=\"patch_33\">\n    <path clip-path=\"url(#p92aedbc4bf)\" d=\"M 449.000852 565.918125 \nL 461.175398 565.918125 \nL 461.175398 565.918125 \nL 449.000852 565.918125 \nz\n\" style=\"fill:#1f77b4;\"/>\n   </g>\n   <g id=\"patch_34\">\n    <path clip-path=\"url(#p92aedbc4bf)\" d=\"M 461.175398 565.918125 \nL 473.349943 565.918125 \nL 473.349943 565.918125 \nL 461.175398 565.918125 \nz\n\" style=\"fill:#1f77b4;\"/>\n   </g>\n   <g id=\"patch_35\">\n    <path clip-path=\"url(#p92aedbc4bf)\" d=\"M 473.349943 565.918125 \nL 485.524489 565.918125 \nL 485.524489 565.81149 \nL 473.349943 565.81149 \nz\n\" style=\"fill:#1f77b4;\"/>\n   </g>\n   <g id=\"patch_36\">\n    <path clip-path=\"url(#p92aedbc4bf)\" d=\"M 485.524489 565.918125 \nL 497.699034 565.918125 \nL 497.699034 565.918125 \nL 485.524489 565.918125 \nz\n\" style=\"fill:#1f77b4;\"/>\n   </g>\n   <g id=\"patch_37\">\n    <path clip-path=\"url(#p92aedbc4bf)\" d=\"M 497.699034 565.918125 \nL 509.87358 565.918125 \nL 509.87358 565.918125 \nL 497.699034 565.918125 \nz\n\" style=\"fill:#1f77b4;\"/>\n   </g>\n   <g id=\"patch_38\">\n    <path clip-path=\"url(#p92aedbc4bf)\" d=\"M 509.87358 565.918125 \nL 522.048125 565.918125 \nL 522.048125 565.918125 \nL 509.87358 565.918125 \nz\n\" style=\"fill:#1f77b4;\"/>\n   </g>\n   <g id=\"patch_39\">\n    <path clip-path=\"url(#p92aedbc4bf)\" d=\"M 522.048125 565.918125 \nL 534.22267 565.918125 \nL 534.22267 565.918125 \nL 522.048125 565.918125 \nz\n\" style=\"fill:#1f77b4;\"/>\n   </g>\n   <g id=\"patch_40\">\n    <path clip-path=\"url(#p92aedbc4bf)\" d=\"M 534.22267 565.918125 \nL 546.397216 565.918125 \nL 546.397216 565.81149 \nL 534.22267 565.81149 \nz\n\" style=\"fill:#1f77b4;\"/>\n   </g>\n   <g id=\"patch_41\">\n    <path clip-path=\"url(#p92aedbc4bf)\" d=\"M 546.397216 565.918125 \nL 558.571761 565.918125 \nL 558.571761 565.81149 \nL 546.397216 565.81149 \nz\n\" style=\"fill:#1f77b4;\"/>\n   </g>\n   <g id=\"patch_42\">\n    <path clip-path=\"url(#p92aedbc4bf)\" d=\"M 558.571761 565.918125 \nL 570.746307 565.918125 \nL 570.746307 565.81149 \nL 558.571761 565.81149 \nz\n\" style=\"fill:#1f77b4;\"/>\n   </g>\n   <g id=\"patch_43\">\n    <path clip-path=\"url(#p92aedbc4bf)\" d=\"M 570.746307 565.918125 \nL 582.920852 565.918125 \nL 582.920852 565.918125 \nL 570.746307 565.918125 \nz\n\" style=\"fill:#1f77b4;\"/>\n   </g>\n   <g id=\"patch_44\">\n    <path clip-path=\"url(#p92aedbc4bf)\" d=\"M 582.920852 565.918125 \nL 595.095398 565.918125 \nL 595.095398 565.918125 \nL 582.920852 565.918125 \nz\n\" style=\"fill:#1f77b4;\"/>\n   </g>\n   <g id=\"patch_45\">\n    <path clip-path=\"url(#p92aedbc4bf)\" d=\"M 595.095398 565.918125 \nL 607.269943 565.918125 \nL 607.269943 565.918125 \nL 595.095398 565.918125 \nz\n\" style=\"fill:#1f77b4;\"/>\n   </g>\n   <g id=\"patch_46\">\n    <path clip-path=\"url(#p92aedbc4bf)\" d=\"M 607.269943 565.918125 \nL 619.444489 565.918125 \nL 619.444489 565.81149 \nL 607.269943 565.81149 \nz\n\" style=\"fill:#1f77b4;\"/>\n   </g>\n   <g id=\"patch_47\">\n    <path clip-path=\"url(#p92aedbc4bf)\" d=\"M 619.444489 565.918125 \nL 631.619034 565.918125 \nL 631.619034 565.918125 \nL 619.444489 565.918125 \nz\n\" style=\"fill:#1f77b4;\"/>\n   </g>\n   <g id=\"patch_48\">\n    <path clip-path=\"url(#p92aedbc4bf)\" d=\"M 631.619034 565.918125 \nL 643.79358 565.918125 \nL 643.79358 565.918125 \nL 631.619034 565.918125 \nz\n\" style=\"fill:#1f77b4;\"/>\n   </g>\n   <g id=\"patch_49\">\n    <path clip-path=\"url(#p92aedbc4bf)\" d=\"M 643.79358 565.918125 \nL 655.968125 565.918125 \nL 655.968125 565.918125 \nL 643.79358 565.918125 \nz\n\" style=\"fill:#1f77b4;\"/>\n   </g>\n   <g id=\"patch_50\">\n    <path clip-path=\"url(#p92aedbc4bf)\" d=\"M 655.968125 565.918125 \nL 668.14267 565.918125 \nL 668.14267 565.918125 \nL 655.968125 565.918125 \nz\n\" style=\"fill:#1f77b4;\"/>\n   </g>\n   <g id=\"patch_51\">\n    <path clip-path=\"url(#p92aedbc4bf)\" d=\"M 668.14267 565.918125 \nL 680.317216 565.918125 \nL 680.317216 565.918125 \nL 668.14267 565.918125 \nz\n\" style=\"fill:#1f77b4;\"/>\n   </g>\n   <g id=\"patch_52\">\n    <path clip-path=\"url(#p92aedbc4bf)\" d=\"M 680.317216 565.918125 \nL 692.491761 565.918125 \nL 692.491761 565.81149 \nL 680.317216 565.81149 \nz\n\" style=\"fill:#1f77b4;\"/>\n   </g>\n   <g id=\"matplotlib.axis_1\">\n    <g id=\"xtick_1\">\n     <g id=\"line2d_1\">\n      <defs>\n       <path d=\"M 0 0 \nL 0 3.5 \n\" id=\"m14a82ddff4\" style=\"stroke:#000000;stroke-width:0.8;\"/>\n      </defs>\n      <g>\n       <use style=\"stroke:#000000;stroke-width:0.8;\" x=\"82.788651\" xlink:href=\"#m14a82ddff4\" y=\"565.918125\"/>\n      </g>\n     </g>\n     <g id=\"text_1\">\n      <!-- 0 -->\n      <g transform=\"translate(79.607401 580.516562)scale(0.1 -0.1)\">\n       <defs>\n        <path d=\"M 31.78125 66.40625 \nQ 24.171875 66.40625 20.328125 58.90625 \nQ 16.5 51.421875 16.5 36.375 \nQ 16.5 21.390625 20.328125 13.890625 \nQ 24.171875 6.390625 31.78125 6.390625 \nQ 39.453125 6.390625 43.28125 13.890625 \nQ 47.125 21.390625 47.125 36.375 \nQ 47.125 51.421875 43.28125 58.90625 \nQ 39.453125 66.40625 31.78125 66.40625 \nz\nM 31.78125 74.21875 \nQ 44.046875 74.21875 50.515625 64.515625 \nQ 56.984375 54.828125 56.984375 36.375 \nQ 56.984375 17.96875 50.515625 8.265625 \nQ 44.046875 -1.421875 31.78125 -1.421875 \nQ 19.53125 -1.421875 13.0625 8.265625 \nQ 6.59375 17.96875 6.59375 36.375 \nQ 6.59375 54.828125 13.0625 64.515625 \nQ 19.53125 74.21875 31.78125 74.21875 \nz\n\" id=\"DejaVuSans-48\"/>\n       </defs>\n       <use xlink:href=\"#DejaVuSans-48\"/>\n      </g>\n     </g>\n    </g>\n    <g id=\"xtick_2\">\n     <g id=\"line2d_2\">\n      <g>\n       <use style=\"stroke:#000000;stroke-width:0.8;\" x=\"180.372376\" xlink:href=\"#m14a82ddff4\" y=\"565.918125\"/>\n      </g>\n     </g>\n     <g id=\"text_2\">\n      <!-- 500 -->\n      <g transform=\"translate(170.828626 580.516562)scale(0.1 -0.1)\">\n       <defs>\n        <path d=\"M 10.796875 72.90625 \nL 49.515625 72.90625 \nL 49.515625 64.59375 \nL 19.828125 64.59375 \nL 19.828125 46.734375 \nQ 21.96875 47.46875 24.109375 47.828125 \nQ 26.265625 48.1875 28.421875 48.1875 \nQ 40.625 48.1875 47.75 41.5 \nQ 54.890625 34.8125 54.890625 23.390625 \nQ 54.890625 11.625 47.5625 5.09375 \nQ 40.234375 -1.421875 26.90625 -1.421875 \nQ 22.3125 -1.421875 17.546875 -0.640625 \nQ 12.796875 0.140625 7.71875 1.703125 \nL 7.71875 11.625 \nQ 12.109375 9.234375 16.796875 8.0625 \nQ 21.484375 6.890625 26.703125 6.890625 \nQ 35.15625 6.890625 40.078125 11.328125 \nQ 45.015625 15.765625 45.015625 23.390625 \nQ 45.015625 31 40.078125 35.4375 \nQ 35.15625 39.890625 26.703125 39.890625 \nQ 22.75 39.890625 18.8125 39.015625 \nQ 14.890625 38.140625 10.796875 36.28125 \nz\n\" id=\"DejaVuSans-53\"/>\n       </defs>\n       <use xlink:href=\"#DejaVuSans-53\"/>\n       <use x=\"63.623047\" xlink:href=\"#DejaVuSans-48\"/>\n       <use x=\"127.246094\" xlink:href=\"#DejaVuSans-48\"/>\n      </g>\n     </g>\n    </g>\n    <g id=\"xtick_3\">\n     <g id=\"line2d_3\">\n      <g>\n       <use style=\"stroke:#000000;stroke-width:0.8;\" x=\"277.9561\" xlink:href=\"#m14a82ddff4\" y=\"565.918125\"/>\n      </g>\n     </g>\n     <g id=\"text_3\">\n      <!-- 1000 -->\n      <g transform=\"translate(265.2311 580.516562)scale(0.1 -0.1)\">\n       <defs>\n        <path d=\"M 12.40625 8.296875 \nL 28.515625 8.296875 \nL 28.515625 63.921875 \nL 10.984375 60.40625 \nL 10.984375 69.390625 \nL 28.421875 72.90625 \nL 38.28125 72.90625 \nL 38.28125 8.296875 \nL 54.390625 8.296875 \nL 54.390625 0 \nL 12.40625 0 \nz\n\" id=\"DejaVuSans-49\"/>\n       </defs>\n       <use xlink:href=\"#DejaVuSans-49\"/>\n       <use x=\"63.623047\" xlink:href=\"#DejaVuSans-48\"/>\n       <use x=\"127.246094\" xlink:href=\"#DejaVuSans-48\"/>\n       <use x=\"190.869141\" xlink:href=\"#DejaVuSans-48\"/>\n      </g>\n     </g>\n    </g>\n    <g id=\"xtick_4\">\n     <g id=\"line2d_4\">\n      <g>\n       <use style=\"stroke:#000000;stroke-width:0.8;\" x=\"375.539825\" xlink:href=\"#m14a82ddff4\" y=\"565.918125\"/>\n      </g>\n     </g>\n     <g id=\"text_4\">\n      <!-- 1500 -->\n      <g transform=\"translate(362.814825 580.516562)scale(0.1 -0.1)\">\n       <use xlink:href=\"#DejaVuSans-49\"/>\n       <use x=\"63.623047\" xlink:href=\"#DejaVuSans-53\"/>\n       <use x=\"127.246094\" xlink:href=\"#DejaVuSans-48\"/>\n       <use x=\"190.869141\" xlink:href=\"#DejaVuSans-48\"/>\n      </g>\n     </g>\n    </g>\n    <g id=\"xtick_5\">\n     <g id=\"line2d_5\">\n      <g>\n       <use style=\"stroke:#000000;stroke-width:0.8;\" x=\"473.123549\" xlink:href=\"#m14a82ddff4\" y=\"565.918125\"/>\n      </g>\n     </g>\n     <g id=\"text_5\">\n      <!-- 2000 -->\n      <g transform=\"translate(460.398549 580.516562)scale(0.1 -0.1)\">\n       <defs>\n        <path d=\"M 19.1875 8.296875 \nL 53.609375 8.296875 \nL 53.609375 0 \nL 7.328125 0 \nL 7.328125 8.296875 \nQ 12.9375 14.109375 22.625 23.890625 \nQ 32.328125 33.6875 34.8125 36.53125 \nQ 39.546875 41.84375 41.421875 45.53125 \nQ 43.3125 49.21875 43.3125 52.78125 \nQ 43.3125 58.59375 39.234375 62.25 \nQ 35.15625 65.921875 28.609375 65.921875 \nQ 23.96875 65.921875 18.8125 64.3125 \nQ 13.671875 62.703125 7.8125 59.421875 \nL 7.8125 69.390625 \nQ 13.765625 71.78125 18.9375 73 \nQ 24.125 74.21875 28.421875 74.21875 \nQ 39.75 74.21875 46.484375 68.546875 \nQ 53.21875 62.890625 53.21875 53.421875 \nQ 53.21875 48.921875 51.53125 44.890625 \nQ 49.859375 40.875 45.40625 35.40625 \nQ 44.1875 33.984375 37.640625 27.21875 \nQ 31.109375 20.453125 19.1875 8.296875 \nz\n\" id=\"DejaVuSans-50\"/>\n       </defs>\n       <use xlink:href=\"#DejaVuSans-50\"/>\n       <use x=\"63.623047\" xlink:href=\"#DejaVuSans-48\"/>\n       <use x=\"127.246094\" xlink:href=\"#DejaVuSans-48\"/>\n       <use x=\"190.869141\" xlink:href=\"#DejaVuSans-48\"/>\n      </g>\n     </g>\n    </g>\n    <g id=\"xtick_6\">\n     <g id=\"line2d_6\">\n      <g>\n       <use style=\"stroke:#000000;stroke-width:0.8;\" x=\"570.707273\" xlink:href=\"#m14a82ddff4\" y=\"565.918125\"/>\n      </g>\n     </g>\n     <g id=\"text_6\">\n      <!-- 2500 -->\n      <g transform=\"translate(557.982273 580.516562)scale(0.1 -0.1)\">\n       <use xlink:href=\"#DejaVuSans-50\"/>\n       <use x=\"63.623047\" xlink:href=\"#DejaVuSans-53\"/>\n       <use x=\"127.246094\" xlink:href=\"#DejaVuSans-48\"/>\n       <use x=\"190.869141\" xlink:href=\"#DejaVuSans-48\"/>\n      </g>\n     </g>\n    </g>\n    <g id=\"xtick_7\">\n     <g id=\"line2d_7\">\n      <g>\n       <use style=\"stroke:#000000;stroke-width:0.8;\" x=\"668.290998\" xlink:href=\"#m14a82ddff4\" y=\"565.918125\"/>\n      </g>\n     </g>\n     <g id=\"text_7\">\n      <!-- 3000 -->\n      <g transform=\"translate(655.565998 580.516562)scale(0.1 -0.1)\">\n       <defs>\n        <path d=\"M 40.578125 39.3125 \nQ 47.65625 37.796875 51.625 33 \nQ 55.609375 28.21875 55.609375 21.1875 \nQ 55.609375 10.40625 48.1875 4.484375 \nQ 40.765625 -1.421875 27.09375 -1.421875 \nQ 22.515625 -1.421875 17.65625 -0.515625 \nQ 12.796875 0.390625 7.625 2.203125 \nL 7.625 11.71875 \nQ 11.71875 9.328125 16.59375 8.109375 \nQ 21.484375 6.890625 26.8125 6.890625 \nQ 36.078125 6.890625 40.9375 10.546875 \nQ 45.796875 14.203125 45.796875 21.1875 \nQ 45.796875 27.640625 41.28125 31.265625 \nQ 36.765625 34.90625 28.71875 34.90625 \nL 20.21875 34.90625 \nL 20.21875 43.015625 \nL 29.109375 43.015625 \nQ 36.375 43.015625 40.234375 45.921875 \nQ 44.09375 48.828125 44.09375 54.296875 \nQ 44.09375 59.90625 40.109375 62.90625 \nQ 36.140625 65.921875 28.71875 65.921875 \nQ 24.65625 65.921875 20.015625 65.03125 \nQ 15.375 64.15625 9.8125 62.3125 \nL 9.8125 71.09375 \nQ 15.4375 72.65625 20.34375 73.4375 \nQ 25.25 74.21875 29.59375 74.21875 \nQ 40.828125 74.21875 47.359375 69.109375 \nQ 53.90625 64.015625 53.90625 55.328125 \nQ 53.90625 49.265625 50.4375 45.09375 \nQ 46.96875 40.921875 40.578125 39.3125 \nz\n\" id=\"DejaVuSans-51\"/>\n       </defs>\n       <use xlink:href=\"#DejaVuSans-51\"/>\n       <use x=\"63.623047\" xlink:href=\"#DejaVuSans-48\"/>\n       <use x=\"127.246094\" xlink:href=\"#DejaVuSans-48\"/>\n       <use x=\"190.869141\" xlink:href=\"#DejaVuSans-48\"/>\n      </g>\n     </g>\n    </g>\n    <g id=\"text_8\">\n     <!-- Words Count per Description -->\n     <g transform=\"translate(316.273438 594.194687)scale(0.1 -0.1)\">\n      <defs>\n       <path d=\"M 3.328125 72.90625 \nL 13.28125 72.90625 \nL 28.609375 11.28125 \nL 43.890625 72.90625 \nL 54.984375 72.90625 \nL 70.3125 11.28125 \nL 85.59375 72.90625 \nL 95.609375 72.90625 \nL 77.296875 0 \nL 64.890625 0 \nL 49.515625 63.28125 \nL 33.984375 0 \nL 21.578125 0 \nz\n\" id=\"DejaVuSans-87\"/>\n       <path d=\"M 30.609375 48.390625 \nQ 23.390625 48.390625 19.1875 42.75 \nQ 14.984375 37.109375 14.984375 27.296875 \nQ 14.984375 17.484375 19.15625 11.84375 \nQ 23.34375 6.203125 30.609375 6.203125 \nQ 37.796875 6.203125 41.984375 11.859375 \nQ 46.1875 17.53125 46.1875 27.296875 \nQ 46.1875 37.015625 41.984375 42.703125 \nQ 37.796875 48.390625 30.609375 48.390625 \nz\nM 30.609375 56 \nQ 42.328125 56 49.015625 48.375 \nQ 55.71875 40.765625 55.71875 27.296875 \nQ 55.71875 13.875 49.015625 6.21875 \nQ 42.328125 -1.421875 30.609375 -1.421875 \nQ 18.84375 -1.421875 12.171875 6.21875 \nQ 5.515625 13.875 5.515625 27.296875 \nQ 5.515625 40.765625 12.171875 48.375 \nQ 18.84375 56 30.609375 56 \nz\n\" id=\"DejaVuSans-111\"/>\n       <path d=\"M 41.109375 46.296875 \nQ 39.59375 47.171875 37.8125 47.578125 \nQ 36.03125 48 33.890625 48 \nQ 26.265625 48 22.1875 43.046875 \nQ 18.109375 38.09375 18.109375 28.8125 \nL 18.109375 0 \nL 9.078125 0 \nL 9.078125 54.6875 \nL 18.109375 54.6875 \nL 18.109375 46.1875 \nQ 20.953125 51.171875 25.484375 53.578125 \nQ 30.03125 56 36.53125 56 \nQ 37.453125 56 38.578125 55.875 \nQ 39.703125 55.765625 41.0625 55.515625 \nz\n\" id=\"DejaVuSans-114\"/>\n       <path d=\"M 45.40625 46.390625 \nL 45.40625 75.984375 \nL 54.390625 75.984375 \nL 54.390625 0 \nL 45.40625 0 \nL 45.40625 8.203125 \nQ 42.578125 3.328125 38.25 0.953125 \nQ 33.9375 -1.421875 27.875 -1.421875 \nQ 17.96875 -1.421875 11.734375 6.484375 \nQ 5.515625 14.40625 5.515625 27.296875 \nQ 5.515625 40.1875 11.734375 48.09375 \nQ 17.96875 56 27.875 56 \nQ 33.9375 56 38.25 53.625 \nQ 42.578125 51.265625 45.40625 46.390625 \nz\nM 14.796875 27.296875 \nQ 14.796875 17.390625 18.875 11.75 \nQ 22.953125 6.109375 30.078125 6.109375 \nQ 37.203125 6.109375 41.296875 11.75 \nQ 45.40625 17.390625 45.40625 27.296875 \nQ 45.40625 37.203125 41.296875 42.84375 \nQ 37.203125 48.484375 30.078125 48.484375 \nQ 22.953125 48.484375 18.875 42.84375 \nQ 14.796875 37.203125 14.796875 27.296875 \nz\n\" id=\"DejaVuSans-100\"/>\n       <path d=\"M 44.28125 53.078125 \nL 44.28125 44.578125 \nQ 40.484375 46.53125 36.375 47.5 \nQ 32.28125 48.484375 27.875 48.484375 \nQ 21.1875 48.484375 17.84375 46.4375 \nQ 14.5 44.390625 14.5 40.28125 \nQ 14.5 37.15625 16.890625 35.375 \nQ 19.28125 33.59375 26.515625 31.984375 \nL 29.59375 31.296875 \nQ 39.15625 29.25 43.1875 25.515625 \nQ 47.21875 21.78125 47.21875 15.09375 \nQ 47.21875 7.46875 41.1875 3.015625 \nQ 35.15625 -1.421875 24.609375 -1.421875 \nQ 20.21875 -1.421875 15.453125 -0.5625 \nQ 10.6875 0.296875 5.421875 2 \nL 5.421875 11.28125 \nQ 10.40625 8.6875 15.234375 7.390625 \nQ 20.0625 6.109375 24.8125 6.109375 \nQ 31.15625 6.109375 34.5625 8.28125 \nQ 37.984375 10.453125 37.984375 14.40625 \nQ 37.984375 18.0625 35.515625 20.015625 \nQ 33.0625 21.96875 24.703125 23.78125 \nL 21.578125 24.515625 \nQ 13.234375 26.265625 9.515625 29.90625 \nQ 5.8125 33.546875 5.8125 39.890625 \nQ 5.8125 47.609375 11.28125 51.796875 \nQ 16.75 56 26.8125 56 \nQ 31.78125 56 36.171875 55.265625 \nQ 40.578125 54.546875 44.28125 53.078125 \nz\n\" id=\"DejaVuSans-115\"/>\n       <path id=\"DejaVuSans-32\"/>\n       <path d=\"M 64.40625 67.28125 \nL 64.40625 56.890625 \nQ 59.421875 61.53125 53.78125 63.8125 \nQ 48.140625 66.109375 41.796875 66.109375 \nQ 29.296875 66.109375 22.65625 58.46875 \nQ 16.015625 50.828125 16.015625 36.375 \nQ 16.015625 21.96875 22.65625 14.328125 \nQ 29.296875 6.6875 41.796875 6.6875 \nQ 48.140625 6.6875 53.78125 8.984375 \nQ 59.421875 11.28125 64.40625 15.921875 \nL 64.40625 5.609375 \nQ 59.234375 2.09375 53.4375 0.328125 \nQ 47.65625 -1.421875 41.21875 -1.421875 \nQ 24.65625 -1.421875 15.125 8.703125 \nQ 5.609375 18.84375 5.609375 36.375 \nQ 5.609375 53.953125 15.125 64.078125 \nQ 24.65625 74.21875 41.21875 74.21875 \nQ 47.75 74.21875 53.53125 72.484375 \nQ 59.328125 70.75 64.40625 67.28125 \nz\n\" id=\"DejaVuSans-67\"/>\n       <path d=\"M 8.5 21.578125 \nL 8.5 54.6875 \nL 17.484375 54.6875 \nL 17.484375 21.921875 \nQ 17.484375 14.15625 20.5 10.265625 \nQ 23.53125 6.390625 29.59375 6.390625 \nQ 36.859375 6.390625 41.078125 11.03125 \nQ 45.3125 15.671875 45.3125 23.6875 \nL 45.3125 54.6875 \nL 54.296875 54.6875 \nL 54.296875 0 \nL 45.3125 0 \nL 45.3125 8.40625 \nQ 42.046875 3.421875 37.71875 1 \nQ 33.40625 -1.421875 27.6875 -1.421875 \nQ 18.265625 -1.421875 13.375 4.4375 \nQ 8.5 10.296875 8.5 21.578125 \nz\nM 31.109375 56 \nz\n\" id=\"DejaVuSans-117\"/>\n       <path d=\"M 54.890625 33.015625 \nL 54.890625 0 \nL 45.90625 0 \nL 45.90625 32.71875 \nQ 45.90625 40.484375 42.875 44.328125 \nQ 39.84375 48.1875 33.796875 48.1875 \nQ 26.515625 48.1875 22.3125 43.546875 \nQ 18.109375 38.921875 18.109375 30.90625 \nL 18.109375 0 \nL 9.078125 0 \nL 9.078125 54.6875 \nL 18.109375 54.6875 \nL 18.109375 46.1875 \nQ 21.34375 51.125 25.703125 53.5625 \nQ 30.078125 56 35.796875 56 \nQ 45.21875 56 50.046875 50.171875 \nQ 54.890625 44.34375 54.890625 33.015625 \nz\n\" id=\"DejaVuSans-110\"/>\n       <path d=\"M 18.3125 70.21875 \nL 18.3125 54.6875 \nL 36.8125 54.6875 \nL 36.8125 47.703125 \nL 18.3125 47.703125 \nL 18.3125 18.015625 \nQ 18.3125 11.328125 20.140625 9.421875 \nQ 21.96875 7.515625 27.59375 7.515625 \nL 36.8125 7.515625 \nL 36.8125 0 \nL 27.59375 0 \nQ 17.1875 0 13.234375 3.875 \nQ 9.28125 7.765625 9.28125 18.015625 \nL 9.28125 47.703125 \nL 2.6875 47.703125 \nL 2.6875 54.6875 \nL 9.28125 54.6875 \nL 9.28125 70.21875 \nz\n\" id=\"DejaVuSans-116\"/>\n       <path d=\"M 18.109375 8.203125 \nL 18.109375 -20.796875 \nL 9.078125 -20.796875 \nL 9.078125 54.6875 \nL 18.109375 54.6875 \nL 18.109375 46.390625 \nQ 20.953125 51.265625 25.265625 53.625 \nQ 29.59375 56 35.59375 56 \nQ 45.5625 56 51.78125 48.09375 \nQ 58.015625 40.1875 58.015625 27.296875 \nQ 58.015625 14.40625 51.78125 6.484375 \nQ 45.5625 -1.421875 35.59375 -1.421875 \nQ 29.59375 -1.421875 25.265625 0.953125 \nQ 20.953125 3.328125 18.109375 8.203125 \nz\nM 48.6875 27.296875 \nQ 48.6875 37.203125 44.609375 42.84375 \nQ 40.53125 48.484375 33.40625 48.484375 \nQ 26.265625 48.484375 22.1875 42.84375 \nQ 18.109375 37.203125 18.109375 27.296875 \nQ 18.109375 17.390625 22.1875 11.75 \nQ 26.265625 6.109375 33.40625 6.109375 \nQ 40.53125 6.109375 44.609375 11.75 \nQ 48.6875 17.390625 48.6875 27.296875 \nz\n\" id=\"DejaVuSans-112\"/>\n       <path d=\"M 56.203125 29.59375 \nL 56.203125 25.203125 \nL 14.890625 25.203125 \nQ 15.484375 15.921875 20.484375 11.0625 \nQ 25.484375 6.203125 34.421875 6.203125 \nQ 39.59375 6.203125 44.453125 7.46875 \nQ 49.3125 8.734375 54.109375 11.28125 \nL 54.109375 2.78125 \nQ 49.265625 0.734375 44.1875 -0.34375 \nQ 39.109375 -1.421875 33.890625 -1.421875 \nQ 20.796875 -1.421875 13.15625 6.1875 \nQ 5.515625 13.8125 5.515625 26.8125 \nQ 5.515625 40.234375 12.765625 48.109375 \nQ 20.015625 56 32.328125 56 \nQ 43.359375 56 49.78125 48.890625 \nQ 56.203125 41.796875 56.203125 29.59375 \nz\nM 47.21875 32.234375 \nQ 47.125 39.59375 43.09375 43.984375 \nQ 39.0625 48.390625 32.421875 48.390625 \nQ 24.90625 48.390625 20.390625 44.140625 \nQ 15.875 39.890625 15.1875 32.171875 \nz\n\" id=\"DejaVuSans-101\"/>\n       <path d=\"M 19.671875 64.796875 \nL 19.671875 8.109375 \nL 31.59375 8.109375 \nQ 46.6875 8.109375 53.6875 14.9375 \nQ 60.6875 21.78125 60.6875 36.53125 \nQ 60.6875 51.171875 53.6875 57.984375 \nQ 46.6875 64.796875 31.59375 64.796875 \nz\nM 9.8125 72.90625 \nL 30.078125 72.90625 \nQ 51.265625 72.90625 61.171875 64.09375 \nQ 71.09375 55.28125 71.09375 36.53125 \nQ 71.09375 17.671875 61.125 8.828125 \nQ 51.171875 0 30.078125 0 \nL 9.8125 0 \nz\n\" id=\"DejaVuSans-68\"/>\n       <path d=\"M 48.78125 52.59375 \nL 48.78125 44.1875 \nQ 44.96875 46.296875 41.140625 47.34375 \nQ 37.3125 48.390625 33.40625 48.390625 \nQ 24.65625 48.390625 19.8125 42.84375 \nQ 14.984375 37.3125 14.984375 27.296875 \nQ 14.984375 17.28125 19.8125 11.734375 \nQ 24.65625 6.203125 33.40625 6.203125 \nQ 37.3125 6.203125 41.140625 7.25 \nQ 44.96875 8.296875 48.78125 10.40625 \nL 48.78125 2.09375 \nQ 45.015625 0.34375 40.984375 -0.53125 \nQ 36.96875 -1.421875 32.421875 -1.421875 \nQ 20.0625 -1.421875 12.78125 6.34375 \nQ 5.515625 14.109375 5.515625 27.296875 \nQ 5.515625 40.671875 12.859375 48.328125 \nQ 20.21875 56 33.015625 56 \nQ 37.15625 56 41.109375 55.140625 \nQ 45.0625 54.296875 48.78125 52.59375 \nz\n\" id=\"DejaVuSans-99\"/>\n       <path d=\"M 9.421875 54.6875 \nL 18.40625 54.6875 \nL 18.40625 0 \nL 9.421875 0 \nz\nM 9.421875 75.984375 \nL 18.40625 75.984375 \nL 18.40625 64.59375 \nL 9.421875 64.59375 \nz\n\" id=\"DejaVuSans-105\"/>\n      </defs>\n      <use xlink:href=\"#DejaVuSans-87\"/>\n      <use x=\"93.001953\" xlink:href=\"#DejaVuSans-111\"/>\n      <use x=\"154.183594\" xlink:href=\"#DejaVuSans-114\"/>\n      <use x=\"193.546875\" xlink:href=\"#DejaVuSans-100\"/>\n      <use x=\"257.023438\" xlink:href=\"#DejaVuSans-115\"/>\n      <use x=\"309.123047\" xlink:href=\"#DejaVuSans-32\"/>\n      <use x=\"340.910156\" xlink:href=\"#DejaVuSans-67\"/>\n      <use x=\"410.734375\" xlink:href=\"#DejaVuSans-111\"/>\n      <use x=\"471.916016\" xlink:href=\"#DejaVuSans-117\"/>\n      <use x=\"535.294922\" xlink:href=\"#DejaVuSans-110\"/>\n      <use x=\"598.673828\" xlink:href=\"#DejaVuSans-116\"/>\n      <use x=\"637.882812\" xlink:href=\"#DejaVuSans-32\"/>\n      <use x=\"669.669922\" xlink:href=\"#DejaVuSans-112\"/>\n      <use x=\"733.146484\" xlink:href=\"#DejaVuSans-101\"/>\n      <use x=\"794.669922\" xlink:href=\"#DejaVuSans-114\"/>\n      <use x=\"835.783203\" xlink:href=\"#DejaVuSans-32\"/>\n      <use x=\"867.570312\" xlink:href=\"#DejaVuSans-68\"/>\n      <use x=\"944.572266\" xlink:href=\"#DejaVuSans-101\"/>\n      <use x=\"1006.095703\" xlink:href=\"#DejaVuSans-115\"/>\n      <use x=\"1058.195312\" xlink:href=\"#DejaVuSans-99\"/>\n      <use x=\"1113.175781\" xlink:href=\"#DejaVuSans-114\"/>\n      <use x=\"1154.289062\" xlink:href=\"#DejaVuSans-105\"/>\n      <use x=\"1182.072266\" xlink:href=\"#DejaVuSans-112\"/>\n      <use x=\"1245.548828\" xlink:href=\"#DejaVuSans-116\"/>\n      <use x=\"1284.757812\" xlink:href=\"#DejaVuSans-105\"/>\n      <use x=\"1312.541016\" xlink:href=\"#DejaVuSans-111\"/>\n      <use x=\"1373.722656\" xlink:href=\"#DejaVuSans-110\"/>\n     </g>\n    </g>\n   </g>\n   <g id=\"matplotlib.axis_2\">\n    <g id=\"ytick_1\">\n     <g id=\"line2d_8\">\n      <defs>\n       <path d=\"M 0 0 \nL -3.5 0 \n\" id=\"ma14ac2e129\" style=\"stroke:#000000;stroke-width:0.8;\"/>\n      </defs>\n      <g>\n       <use style=\"stroke:#000000;stroke-width:0.8;\" x=\"53.328125\" xlink:href=\"#ma14ac2e129\" y=\"565.918125\"/>\n      </g>\n     </g>\n     <g id=\"text_9\">\n      <!-- 0 -->\n      <g transform=\"translate(39.965625 569.717344)scale(0.1 -0.1)\">\n       <use xlink:href=\"#DejaVuSans-48\"/>\n      </g>\n     </g>\n    </g>\n    <g id=\"ytick_2\">\n     <g id=\"line2d_9\">\n      <g>\n       <use style=\"stroke:#000000;stroke-width:0.8;\" x=\"53.328125\" xlink:href=\"#ma14ac2e129\" y=\"459.282845\"/>\n      </g>\n     </g>\n     <g id=\"text_10\">\n      <!-- 1000 -->\n      <g transform=\"translate(20.878125 463.082063)scale(0.1 -0.1)\">\n       <use xlink:href=\"#DejaVuSans-49\"/>\n       <use x=\"63.623047\" xlink:href=\"#DejaVuSans-48\"/>\n       <use x=\"127.246094\" xlink:href=\"#DejaVuSans-48\"/>\n       <use x=\"190.869141\" xlink:href=\"#DejaVuSans-48\"/>\n      </g>\n     </g>\n    </g>\n    <g id=\"ytick_3\">\n     <g id=\"line2d_10\">\n      <g>\n       <use style=\"stroke:#000000;stroke-width:0.8;\" x=\"53.328125\" xlink:href=\"#ma14ac2e129\" y=\"352.647564\"/>\n      </g>\n     </g>\n     <g id=\"text_11\">\n      <!-- 2000 -->\n      <g transform=\"translate(20.878125 356.446783)scale(0.1 -0.1)\">\n       <use xlink:href=\"#DejaVuSans-50\"/>\n       <use x=\"63.623047\" xlink:href=\"#DejaVuSans-48\"/>\n       <use x=\"127.246094\" xlink:href=\"#DejaVuSans-48\"/>\n       <use x=\"190.869141\" xlink:href=\"#DejaVuSans-48\"/>\n      </g>\n     </g>\n    </g>\n    <g id=\"ytick_4\">\n     <g id=\"line2d_11\">\n      <g>\n       <use style=\"stroke:#000000;stroke-width:0.8;\" x=\"53.328125\" xlink:href=\"#ma14ac2e129\" y=\"246.012284\"/>\n      </g>\n     </g>\n     <g id=\"text_12\">\n      <!-- 3000 -->\n      <g transform=\"translate(20.878125 249.811503)scale(0.1 -0.1)\">\n       <use xlink:href=\"#DejaVuSans-51\"/>\n       <use x=\"63.623047\" xlink:href=\"#DejaVuSans-48\"/>\n       <use x=\"127.246094\" xlink:href=\"#DejaVuSans-48\"/>\n       <use x=\"190.869141\" xlink:href=\"#DejaVuSans-48\"/>\n      </g>\n     </g>\n    </g>\n    <g id=\"ytick_5\">\n     <g id=\"line2d_12\">\n      <g>\n       <use style=\"stroke:#000000;stroke-width:0.8;\" x=\"53.328125\" xlink:href=\"#ma14ac2e129\" y=\"139.377004\"/>\n      </g>\n     </g>\n     <g id=\"text_13\">\n      <!-- 4000 -->\n      <g transform=\"translate(20.878125 143.176223)scale(0.1 -0.1)\">\n       <defs>\n        <path d=\"M 37.796875 64.3125 \nL 12.890625 25.390625 \nL 37.796875 25.390625 \nz\nM 35.203125 72.90625 \nL 47.609375 72.90625 \nL 47.609375 25.390625 \nL 58.015625 25.390625 \nL 58.015625 17.1875 \nL 47.609375 17.1875 \nL 47.609375 0 \nL 37.796875 0 \nL 37.796875 17.1875 \nL 4.890625 17.1875 \nL 4.890625 26.703125 \nz\n\" id=\"DejaVuSans-52\"/>\n       </defs>\n       <use xlink:href=\"#DejaVuSans-52\"/>\n       <use x=\"63.623047\" xlink:href=\"#DejaVuSans-48\"/>\n       <use x=\"127.246094\" xlink:href=\"#DejaVuSans-48\"/>\n       <use x=\"190.869141\" xlink:href=\"#DejaVuSans-48\"/>\n      </g>\n     </g>\n    </g>\n    <g id=\"ytick_6\">\n     <g id=\"line2d_13\">\n      <g>\n       <use style=\"stroke:#000000;stroke-width:0.8;\" x=\"53.328125\" xlink:href=\"#ma14ac2e129\" y=\"32.741724\"/>\n      </g>\n     </g>\n     <g id=\"text_14\">\n      <!-- 5000 -->\n      <g transform=\"translate(20.878125 36.540942)scale(0.1 -0.1)\">\n       <use xlink:href=\"#DejaVuSans-53\"/>\n       <use x=\"63.623047\" xlink:href=\"#DejaVuSans-48\"/>\n       <use x=\"127.246094\" xlink:href=\"#DejaVuSans-48\"/>\n       <use x=\"190.869141\" xlink:href=\"#DejaVuSans-48\"/>\n      </g>\n     </g>\n    </g>\n    <g id=\"text_15\">\n     <!-- Number of Descriptions -->\n     <g transform=\"translate(14.798438 353.282969)rotate(-90)scale(0.1 -0.1)\">\n      <defs>\n       <path d=\"M 9.8125 72.90625 \nL 23.09375 72.90625 \nL 55.421875 11.921875 \nL 55.421875 72.90625 \nL 64.984375 72.90625 \nL 64.984375 0 \nL 51.703125 0 \nL 19.390625 60.984375 \nL 19.390625 0 \nL 9.8125 0 \nz\n\" id=\"DejaVuSans-78\"/>\n       <path d=\"M 52 44.1875 \nQ 55.375 50.25 60.0625 53.125 \nQ 64.75 56 71.09375 56 \nQ 79.640625 56 84.28125 50.015625 \nQ 88.921875 44.046875 88.921875 33.015625 \nL 88.921875 0 \nL 79.890625 0 \nL 79.890625 32.71875 \nQ 79.890625 40.578125 77.09375 44.375 \nQ 74.3125 48.1875 68.609375 48.1875 \nQ 61.625 48.1875 57.5625 43.546875 \nQ 53.515625 38.921875 53.515625 30.90625 \nL 53.515625 0 \nL 44.484375 0 \nL 44.484375 32.71875 \nQ 44.484375 40.625 41.703125 44.40625 \nQ 38.921875 48.1875 33.109375 48.1875 \nQ 26.21875 48.1875 22.15625 43.53125 \nQ 18.109375 38.875 18.109375 30.90625 \nL 18.109375 0 \nL 9.078125 0 \nL 9.078125 54.6875 \nL 18.109375 54.6875 \nL 18.109375 46.1875 \nQ 21.1875 51.21875 25.484375 53.609375 \nQ 29.78125 56 35.6875 56 \nQ 41.65625 56 45.828125 52.96875 \nQ 50 49.953125 52 44.1875 \nz\n\" id=\"DejaVuSans-109\"/>\n       <path d=\"M 48.6875 27.296875 \nQ 48.6875 37.203125 44.609375 42.84375 \nQ 40.53125 48.484375 33.40625 48.484375 \nQ 26.265625 48.484375 22.1875 42.84375 \nQ 18.109375 37.203125 18.109375 27.296875 \nQ 18.109375 17.390625 22.1875 11.75 \nQ 26.265625 6.109375 33.40625 6.109375 \nQ 40.53125 6.109375 44.609375 11.75 \nQ 48.6875 17.390625 48.6875 27.296875 \nz\nM 18.109375 46.390625 \nQ 20.953125 51.265625 25.265625 53.625 \nQ 29.59375 56 35.59375 56 \nQ 45.5625 56 51.78125 48.09375 \nQ 58.015625 40.1875 58.015625 27.296875 \nQ 58.015625 14.40625 51.78125 6.484375 \nQ 45.5625 -1.421875 35.59375 -1.421875 \nQ 29.59375 -1.421875 25.265625 0.953125 \nQ 20.953125 3.328125 18.109375 8.203125 \nL 18.109375 0 \nL 9.078125 0 \nL 9.078125 75.984375 \nL 18.109375 75.984375 \nz\n\" id=\"DejaVuSans-98\"/>\n       <path d=\"M 37.109375 75.984375 \nL 37.109375 68.5 \nL 28.515625 68.5 \nQ 23.6875 68.5 21.796875 66.546875 \nQ 19.921875 64.59375 19.921875 59.515625 \nL 19.921875 54.6875 \nL 34.71875 54.6875 \nL 34.71875 47.703125 \nL 19.921875 47.703125 \nL 19.921875 0 \nL 10.890625 0 \nL 10.890625 47.703125 \nL 2.296875 47.703125 \nL 2.296875 54.6875 \nL 10.890625 54.6875 \nL 10.890625 58.5 \nQ 10.890625 67.625 15.140625 71.796875 \nQ 19.390625 75.984375 28.609375 75.984375 \nz\n\" id=\"DejaVuSans-102\"/>\n      </defs>\n      <use xlink:href=\"#DejaVuSans-78\"/>\n      <use x=\"74.804688\" xlink:href=\"#DejaVuSans-117\"/>\n      <use x=\"138.183594\" xlink:href=\"#DejaVuSans-109\"/>\n      <use x=\"235.595703\" xlink:href=\"#DejaVuSans-98\"/>\n      <use x=\"299.072266\" xlink:href=\"#DejaVuSans-101\"/>\n      <use x=\"360.595703\" xlink:href=\"#DejaVuSans-114\"/>\n      <use x=\"401.708984\" xlink:href=\"#DejaVuSans-32\"/>\n      <use x=\"433.496094\" xlink:href=\"#DejaVuSans-111\"/>\n      <use x=\"494.677734\" xlink:href=\"#DejaVuSans-102\"/>\n      <use x=\"529.882812\" xlink:href=\"#DejaVuSans-32\"/>\n      <use x=\"561.669922\" xlink:href=\"#DejaVuSans-68\"/>\n      <use x=\"638.671875\" xlink:href=\"#DejaVuSans-101\"/>\n      <use x=\"700.195312\" xlink:href=\"#DejaVuSans-115\"/>\n      <use x=\"752.294922\" xlink:href=\"#DejaVuSans-99\"/>\n      <use x=\"807.275391\" xlink:href=\"#DejaVuSans-114\"/>\n      <use x=\"848.388672\" xlink:href=\"#DejaVuSans-105\"/>\n      <use x=\"876.171875\" xlink:href=\"#DejaVuSans-112\"/>\n      <use x=\"939.648438\" xlink:href=\"#DejaVuSans-116\"/>\n      <use x=\"978.857422\" xlink:href=\"#DejaVuSans-105\"/>\n      <use x=\"1006.640625\" xlink:href=\"#DejaVuSans-111\"/>\n      <use x=\"1067.822266\" xlink:href=\"#DejaVuSans-110\"/>\n      <use x=\"1131.201172\" xlink:href=\"#DejaVuSans-115\"/>\n     </g>\n    </g>\n   </g>\n   <g id=\"patch_53\">\n    <path d=\"M 53.328125 565.918125 \nL 53.328125 22.318125 \n\" style=\"fill:none;stroke:#000000;stroke-linecap:square;stroke-linejoin:miter;stroke-width:0.8;\"/>\n   </g>\n   <g id=\"patch_54\">\n    <path d=\"M 722.928125 565.918125 \nL 722.928125 22.318125 \n\" style=\"fill:none;stroke:#000000;stroke-linecap:square;stroke-linejoin:miter;stroke-width:0.8;\"/>\n   </g>\n   <g id=\"patch_55\">\n    <path d=\"M 53.328125 565.918125 \nL 722.928125 565.918125 \n\" style=\"fill:none;stroke:#000000;stroke-linecap:square;stroke-linejoin:miter;stroke-width:0.8;\"/>\n   </g>\n   <g id=\"patch_56\">\n    <path d=\"M 53.328125 22.318125 \nL 722.928125 22.318125 \n\" style=\"fill:none;stroke:#000000;stroke-linecap:square;stroke-linejoin:miter;stroke-width:0.8;\"/>\n   </g>\n   <g id=\"text_16\">\n    <!-- Words Count Distribution for book descriptions -->\n    <g transform=\"translate(247.863125 16.318125)scale(0.12 -0.12)\">\n     <defs>\n      <path d=\"M 9.078125 75.984375 \nL 18.109375 75.984375 \nL 18.109375 31.109375 \nL 44.921875 54.6875 \nL 56.390625 54.6875 \nL 27.390625 29.109375 \nL 57.625 0 \nL 45.90625 0 \nL 18.109375 26.703125 \nL 18.109375 0 \nL 9.078125 0 \nz\n\" id=\"DejaVuSans-107\"/>\n     </defs>\n     <use xlink:href=\"#DejaVuSans-87\"/>\n     <use x=\"93.001953\" xlink:href=\"#DejaVuSans-111\"/>\n     <use x=\"154.183594\" xlink:href=\"#DejaVuSans-114\"/>\n     <use x=\"193.546875\" xlink:href=\"#DejaVuSans-100\"/>\n     <use x=\"257.023438\" xlink:href=\"#DejaVuSans-115\"/>\n     <use x=\"309.123047\" xlink:href=\"#DejaVuSans-32\"/>\n     <use x=\"340.910156\" xlink:href=\"#DejaVuSans-67\"/>\n     <use x=\"410.734375\" xlink:href=\"#DejaVuSans-111\"/>\n     <use x=\"471.916016\" xlink:href=\"#DejaVuSans-117\"/>\n     <use x=\"535.294922\" xlink:href=\"#DejaVuSans-110\"/>\n     <use x=\"598.673828\" xlink:href=\"#DejaVuSans-116\"/>\n     <use x=\"637.882812\" xlink:href=\"#DejaVuSans-32\"/>\n     <use x=\"669.669922\" xlink:href=\"#DejaVuSans-68\"/>\n     <use x=\"746.671875\" xlink:href=\"#DejaVuSans-105\"/>\n     <use x=\"774.455078\" xlink:href=\"#DejaVuSans-115\"/>\n     <use x=\"826.554688\" xlink:href=\"#DejaVuSans-116\"/>\n     <use x=\"865.763672\" xlink:href=\"#DejaVuSans-114\"/>\n     <use x=\"906.876953\" xlink:href=\"#DejaVuSans-105\"/>\n     <use x=\"934.660156\" xlink:href=\"#DejaVuSans-98\"/>\n     <use x=\"998.136719\" xlink:href=\"#DejaVuSans-117\"/>\n     <use x=\"1061.515625\" xlink:href=\"#DejaVuSans-116\"/>\n     <use x=\"1100.724609\" xlink:href=\"#DejaVuSans-105\"/>\n     <use x=\"1128.507812\" xlink:href=\"#DejaVuSans-111\"/>\n     <use x=\"1189.689453\" xlink:href=\"#DejaVuSans-110\"/>\n     <use x=\"1253.068359\" xlink:href=\"#DejaVuSans-32\"/>\n     <use x=\"1284.855469\" xlink:href=\"#DejaVuSans-102\"/>\n     <use x=\"1320.060547\" xlink:href=\"#DejaVuSans-111\"/>\n     <use x=\"1381.242188\" xlink:href=\"#DejaVuSans-114\"/>\n     <use x=\"1422.355469\" xlink:href=\"#DejaVuSans-32\"/>\n     <use x=\"1454.142578\" xlink:href=\"#DejaVuSans-98\"/>\n     <use x=\"1517.619141\" xlink:href=\"#DejaVuSans-111\"/>\n     <use x=\"1578.800781\" xlink:href=\"#DejaVuSans-111\"/>\n     <use x=\"1639.982422\" xlink:href=\"#DejaVuSans-107\"/>\n     <use x=\"1697.892578\" xlink:href=\"#DejaVuSans-32\"/>\n     <use x=\"1729.679688\" xlink:href=\"#DejaVuSans-100\"/>\n     <use x=\"1793.15625\" xlink:href=\"#DejaVuSans-101\"/>\n     <use x=\"1854.679688\" xlink:href=\"#DejaVuSans-115\"/>\n     <use x=\"1906.779297\" xlink:href=\"#DejaVuSans-99\"/>\n     <use x=\"1961.759766\" xlink:href=\"#DejaVuSans-114\"/>\n     <use x=\"2002.873047\" xlink:href=\"#DejaVuSans-105\"/>\n     <use x=\"2030.65625\" xlink:href=\"#DejaVuSans-112\"/>\n     <use x=\"2094.132812\" xlink:href=\"#DejaVuSans-116\"/>\n     <use x=\"2133.341797\" xlink:href=\"#DejaVuSans-105\"/>\n     <use x=\"2161.125\" xlink:href=\"#DejaVuSans-111\"/>\n     <use x=\"2222.306641\" xlink:href=\"#DejaVuSans-110\"/>\n     <use x=\"2285.685547\" xlink:href=\"#DejaVuSans-115\"/>\n    </g>\n   </g>\n  </g>\n </g>\n <defs>\n  <clipPath id=\"p92aedbc4bf\">\n   <rect height=\"543.6\" width=\"669.6\" x=\"53.328125\" y=\"22.318125\"/>\n  </clipPath>\n </defs>\n</svg>\n",
      "image/png": "[encoded data removed]"
     },
     "metadata": {
      "needs_background": "light"
     }
    }
   ],
   "source": [
    "# Plotting the words count for book description\n",
    "import matplotlib.pyplot as plt\n",
    "plt.figure(figsize=(12,10))\n",
    "plt.title(\"Words Count Distribution for book descriptions\")\n",
    "plt.hist(books['word_count'], density=False, bins=50)  # `density=False` would make counts\n",
    "plt.ylabel('Number of Descriptions')\n",
    "plt.xlabel('Words Count per Description')\n",
    "plt.savefig('Plots/Wordscount_Distribution.png', dpi=100)"
   ]
  },
  {
   "cell_type": "code",
   "execution_count": 28,
   "metadata": {},
   "outputs": [
    {
     "output_type": "execute_result",
     "data": {
      "text/plain": [
       "(111, 11)"
      ]
     },
     "metadata": {},
     "execution_count": 28
    }
   ],
   "source": [
    "# As we see, we have only 112 books with more than 500 words for their descriptions. \n",
    "# So, we will remove them and only consider the books with descriptions less than 500 words \n",
    "books[books[\"word_count\"] > 500].shape"
   ]
  },
  {
   "cell_type": "code",
   "execution_count": 33,
   "metadata": {},
   "outputs": [],
   "source": [
    "books = books[books[\"word_count\"] < 500]"
   ]
  },
  {
   "cell_type": "code",
   "execution_count": 35,
   "metadata": {},
   "outputs": [
    {
     "output_type": "stream",
     "name": "stdout",
     "text": [
      "<class 'pandas.core.frame.DataFrame'>\nInt64Index: 13960 entries, 0 to 14199\nData columns (total 11 columns):\n #   Column             Non-Null Count  Dtype  \n---  ------             --------------  -----  \n 0   Title              13960 non-null  object \n 1   Author             13954 non-null  object \n 2   Description        13960 non-null  object \n 3   Genres             13193 non-null  object \n 4   URL                13960 non-null  object \n 5   Cover_URL          13956 non-null  object \n 6   word_count         13960 non-null  int64  \n 7   char_count         13960 non-null  int64  \n 8   avg_char_per_word  13960 non-null  float64\n 9   stopwords          13960 non-null  int64  \n 10  emoji_count        13960 non-null  int64  \ndtypes: float64(1), int64(4), object(6)\nmemory usage: 1.3+ MB\n"
     ]
    }
   ],
   "source": [
    "books.info()"
   ]
  },
  {
   "cell_type": "code",
   "execution_count": 36,
   "metadata": {},
   "outputs": [],
   "source": [
    "# Save the pre-processed dataset\n",
    "books.to_csv('Data/Books_Data/Preprocessed_Dataset.csv',index=False)"
   ]
  },
  {
   "cell_type": "code",
   "execution_count": 42,
   "metadata": {},
   "outputs": [],
   "source": [
    "#https://amueller.github.io/word_cloud/auto_examples/arabic.html\n",
    "#https://stackoverflow.com/questions/49384111/reflect-arabic-word-cloud"
   ]
  },
  {
   "cell_type": "code",
   "execution_count": 43,
   "metadata": {},
   "outputs": [
    {
     "output_type": "execute_result",
     "data": {
      "text/plain": [
       "<AxesSubplot:title={'center':'Top 20 Part-of-speech tagging for comments'}>"
      ]
     },
     "metadata": {},
     "execution_count": 43
    },
    {
     "output_type": "display_data",
     "data": {
      "text/plain": "<Figure size 720x576 with 1 Axes>",
      "image/svg+xml": "<?xml version=\"1.0\" encoding=\"utf-8\" standalone=\"no\"?>\n<!DOCTYPE svg PUBLIC \"-//W3C//DTD SVG 1.1//EN\"\n  \"http://www.w3.org/Graphics/SVG/1.1/DTD/svg11.dtd\">\n<!-- Created with matplotlib (https://matplotlib.org/) -->\n<svg height=\"492.390312pt\" version=\"1.1\" viewBox=\"0 0 598.4875 492.390312\" width=\"598.4875pt\" xmlns=\"http://www.w3.org/2000/svg\" xmlns:xlink=\"http://www.w3.org/1999/xlink\">\n <metadata>\n  <rdf:RDF xmlns:cc=\"http://creativecommons.org/ns#\" xmlns:dc=\"http://purl.org/dc/elements/1.1/\" xmlns:rdf=\"http://www.w3.org/1999/02/22-rdf-syntax-ns#\">\n   <cc:Work>\n    <dc:type rdf:resource=\"http://purl.org/dc/dcmitype/StillImage\"/>\n    <dc:date>2020-12-16T19:56:59.480074</dc:date>\n    <dc:format>image/svg+xml</dc:format>\n    <dc:creator>\n     <cc:Agent>\n      <dc:title>Matplotlib v3.3.3, https://matplotlib.org/</dc:title>\n     </cc:Agent>\n    </dc:creator>\n   </cc:Work>\n  </rdf:RDF>\n </metadata>\n <defs>\n  <style type=\"text/css\">*{stroke-linecap:butt;stroke-linejoin:round;}</style>\n </defs>\n <g id=\"figure_1\">\n  <g id=\"patch_1\">\n   <path d=\"M 0 492.390312 \nL 598.4875 492.390312 \nL 598.4875 0 \nL 0 0 \nz\n\" style=\"fill:none;\"/>\n  </g>\n  <g id=\"axes_1\">\n   <g id=\"patch_2\">\n    <path d=\"M 33.2875 457.198125 \nL 591.2875 457.198125 \nL 591.2875 22.318125 \nL 33.2875 22.318125 \nz\n\" style=\"fill:#ffffff;\"/>\n   </g>\n   <g id=\"patch_3\">\n    <path clip-path=\"url(#p672801a46d)\" d=\"M 68.1625 457.198125 \nL 137.9125 457.198125 \nL 137.9125 43.026696 \nL 68.1625 43.026696 \nz\n\" style=\"fill:#1f77b4;\"/>\n   </g>\n   <g id=\"patch_4\">\n    <path clip-path=\"url(#p672801a46d)\" d=\"M 207.6625 457.198125 \nL 277.4125 457.198125 \nL 277.4125 407.817858 \nL 207.6625 407.817858 \nz\n\" style=\"fill:#1f77b4;\"/>\n   </g>\n   <g id=\"patch_5\">\n    <path clip-path=\"url(#p672801a46d)\" d=\"M 347.1625 457.198125 \nL 416.9125 457.198125 \nL 416.9125 426.502283 \nL 347.1625 426.502283 \nz\n\" style=\"fill:#1f77b4;\"/>\n   </g>\n   <g id=\"patch_6\">\n    <path clip-path=\"url(#p672801a46d)\" d=\"M 486.6625 457.198125 \nL 556.4125 457.198125 \nL 556.4125 436.734231 \nL 486.6625 436.734231 \nz\n\" style=\"fill:#1f77b4;\"/>\n   </g>\n   <g id=\"matplotlib.axis_1\">\n    <g id=\"xtick_1\">\n     <g id=\"line2d_1\">\n      <defs>\n       <path d=\"M 0 0 \nL 0 3.5 \n\" id=\"mf1011f1554\" style=\"stroke:#000000;stroke-width:0.8;\"/>\n      </defs>\n      <g>\n       <use style=\"stroke:#000000;stroke-width:0.8;\" x=\"103.0375\" xlink:href=\"#mf1011f1554\" y=\"457.198125\"/>\n      </g>\n     </g>\n     <g id=\"text_1\">\n      <!-- NNP -->\n      <g transform=\"translate(105.796875 485.190312)rotate(-90)scale(0.1 -0.1)\">\n       <defs>\n        <path d=\"M 9.8125 72.90625 \nL 23.09375 72.90625 \nL 55.421875 11.921875 \nL 55.421875 72.90625 \nL 64.984375 72.90625 \nL 64.984375 0 \nL 51.703125 0 \nL 19.390625 60.984375 \nL 19.390625 0 \nL 9.8125 0 \nz\n\" id=\"DejaVuSans-78\"/>\n        <path d=\"M 19.671875 64.796875 \nL 19.671875 37.40625 \nL 32.078125 37.40625 \nQ 38.96875 37.40625 42.71875 40.96875 \nQ 46.484375 44.53125 46.484375 51.125 \nQ 46.484375 57.671875 42.71875 61.234375 \nQ 38.96875 64.796875 32.078125 64.796875 \nz\nM 9.8125 72.90625 \nL 32.078125 72.90625 \nQ 44.34375 72.90625 50.609375 67.359375 \nQ 56.890625 61.8125 56.890625 51.125 \nQ 56.890625 40.328125 50.609375 34.8125 \nQ 44.34375 29.296875 32.078125 29.296875 \nL 19.671875 29.296875 \nL 19.671875 0 \nL 9.8125 0 \nz\n\" id=\"DejaVuSans-80\"/>\n       </defs>\n       <use xlink:href=\"#DejaVuSans-78\"/>\n       <use x=\"74.804688\" xlink:href=\"#DejaVuSans-78\"/>\n       <use x=\"149.609375\" xlink:href=\"#DejaVuSans-80\"/>\n      </g>\n     </g>\n    </g>\n    <g id=\"xtick_2\">\n     <g id=\"line2d_2\">\n      <g>\n       <use style=\"stroke:#000000;stroke-width:0.8;\" x=\"242.5375\" xlink:href=\"#mf1011f1554\" y=\"457.198125\"/>\n      </g>\n     </g>\n     <g id=\"text_2\">\n      <!-- CD -->\n      <g transform=\"translate(245.296875 478.880937)rotate(-90)scale(0.1 -0.1)\">\n       <defs>\n        <path d=\"M 64.40625 67.28125 \nL 64.40625 56.890625 \nQ 59.421875 61.53125 53.78125 63.8125 \nQ 48.140625 66.109375 41.796875 66.109375 \nQ 29.296875 66.109375 22.65625 58.46875 \nQ 16.015625 50.828125 16.015625 36.375 \nQ 16.015625 21.96875 22.65625 14.328125 \nQ 29.296875 6.6875 41.796875 6.6875 \nQ 48.140625 6.6875 53.78125 8.984375 \nQ 59.421875 11.28125 64.40625 15.921875 \nL 64.40625 5.609375 \nQ 59.234375 2.09375 53.4375 0.328125 \nQ 47.65625 -1.421875 41.21875 -1.421875 \nQ 24.65625 -1.421875 15.125 8.703125 \nQ 5.609375 18.84375 5.609375 36.375 \nQ 5.609375 53.953125 15.125 64.078125 \nQ 24.65625 74.21875 41.21875 74.21875 \nQ 47.75 74.21875 53.53125 72.484375 \nQ 59.328125 70.75 64.40625 67.28125 \nz\n\" id=\"DejaVuSans-67\"/>\n        <path d=\"M 19.671875 64.796875 \nL 19.671875 8.109375 \nL 31.59375 8.109375 \nQ 46.6875 8.109375 53.6875 14.9375 \nQ 60.6875 21.78125 60.6875 36.53125 \nQ 60.6875 51.171875 53.6875 57.984375 \nQ 46.6875 64.796875 31.59375 64.796875 \nz\nM 9.8125 72.90625 \nL 30.078125 72.90625 \nQ 51.265625 72.90625 61.171875 64.09375 \nQ 71.09375 55.28125 71.09375 36.53125 \nQ 71.09375 17.671875 61.125 8.828125 \nQ 51.171875 0 30.078125 0 \nL 9.8125 0 \nz\n\" id=\"DejaVuSans-68\"/>\n       </defs>\n       <use xlink:href=\"#DejaVuSans-67\"/>\n       <use x=\"69.824219\" xlink:href=\"#DejaVuSans-68\"/>\n      </g>\n     </g>\n    </g>\n    <g id=\"xtick_3\">\n     <g id=\"line2d_3\">\n      <g>\n       <use style=\"stroke:#000000;stroke-width:0.8;\" x=\"382.0375\" xlink:href=\"#mf1011f1554\" y=\"457.198125\"/>\n      </g>\n     </g>\n     <g id=\"text_3\">\n      <!-- NN -->\n      <g transform=\"translate(384.796875 479.160625)rotate(-90)scale(0.1 -0.1)\">\n       <use xlink:href=\"#DejaVuSans-78\"/>\n       <use x=\"74.804688\" xlink:href=\"#DejaVuSans-78\"/>\n      </g>\n     </g>\n    </g>\n    <g id=\"xtick_4\">\n     <g id=\"line2d_4\">\n      <g>\n       <use style=\"stroke:#000000;stroke-width:0.8;\" x=\"521.5375\" xlink:href=\"#mf1011f1554\" y=\"457.198125\"/>\n      </g>\n     </g>\n     <g id=\"text_4\">\n      <!-- JJ -->\n      <g transform=\"translate(524.296875 470.098125)rotate(-90)scale(0.1 -0.1)\">\n       <defs>\n        <path d=\"M 9.8125 72.90625 \nL 19.671875 72.90625 \nL 19.671875 5.078125 \nQ 19.671875 -8.109375 14.671875 -14.0625 \nQ 9.671875 -20.015625 -1.421875 -20.015625 \nL -5.171875 -20.015625 \nL -5.171875 -11.71875 \nL -2.09375 -11.71875 \nQ 4.4375 -11.71875 7.125 -8.046875 \nQ 9.8125 -4.390625 9.8125 5.078125 \nz\n\" id=\"DejaVuSans-74\"/>\n       </defs>\n       <use xlink:href=\"#DejaVuSans-74\"/>\n       <use x=\"29.492188\" xlink:href=\"#DejaVuSans-74\"/>\n      </g>\n     </g>\n    </g>\n   </g>\n   <g id=\"matplotlib.axis_2\">\n    <g id=\"ytick_1\">\n     <g id=\"line2d_5\">\n      <defs>\n       <path d=\"M 0 0 \nL -3.5 0 \n\" id=\"m46241ad2c4\" style=\"stroke:#000000;stroke-width:0.8;\"/>\n      </defs>\n      <g>\n       <use style=\"stroke:#000000;stroke-width:0.8;\" x=\"33.2875\" xlink:href=\"#m46241ad2c4\" y=\"457.198125\"/>\n      </g>\n     </g>\n     <g id=\"text_5\">\n      <!-- 0 -->\n      <g transform=\"translate(19.925 460.997344)scale(0.1 -0.1)\">\n       <defs>\n        <path d=\"M 31.78125 66.40625 \nQ 24.171875 66.40625 20.328125 58.90625 \nQ 16.5 51.421875 16.5 36.375 \nQ 16.5 21.390625 20.328125 13.890625 \nQ 24.171875 6.390625 31.78125 6.390625 \nQ 39.453125 6.390625 43.28125 13.890625 \nQ 47.125 21.390625 47.125 36.375 \nQ 47.125 51.421875 43.28125 58.90625 \nQ 39.453125 66.40625 31.78125 66.40625 \nz\nM 31.78125 74.21875 \nQ 44.046875 74.21875 50.515625 64.515625 \nQ 56.984375 54.828125 56.984375 36.375 \nQ 56.984375 17.96875 50.515625 8.265625 \nQ 44.046875 -1.421875 31.78125 -1.421875 \nQ 19.53125 -1.421875 13.0625 8.265625 \nQ 6.59375 17.96875 6.59375 36.375 \nQ 6.59375 54.828125 13.0625 64.515625 \nQ 19.53125 74.21875 31.78125 74.21875 \nz\n\" id=\"DejaVuSans-48\"/>\n       </defs>\n       <use xlink:href=\"#DejaVuSans-48\"/>\n      </g>\n     </g>\n    </g>\n    <g id=\"ytick_2\">\n     <g id=\"line2d_6\">\n      <g>\n       <use style=\"stroke:#000000;stroke-width:0.8;\" x=\"33.2875\" xlink:href=\"#m46241ad2c4\" y=\"368.224671\"/>\n      </g>\n     </g>\n     <g id=\"text_6\">\n      <!-- 200 -->\n      <g transform=\"translate(7.2 372.02389)scale(0.1 -0.1)\">\n       <defs>\n        <path d=\"M 19.1875 8.296875 \nL 53.609375 8.296875 \nL 53.609375 0 \nL 7.328125 0 \nL 7.328125 8.296875 \nQ 12.9375 14.109375 22.625 23.890625 \nQ 32.328125 33.6875 34.8125 36.53125 \nQ 39.546875 41.84375 41.421875 45.53125 \nQ 43.3125 49.21875 43.3125 52.78125 \nQ 43.3125 58.59375 39.234375 62.25 \nQ 35.15625 65.921875 28.609375 65.921875 \nQ 23.96875 65.921875 18.8125 64.3125 \nQ 13.671875 62.703125 7.8125 59.421875 \nL 7.8125 69.390625 \nQ 13.765625 71.78125 18.9375 73 \nQ 24.125 74.21875 28.421875 74.21875 \nQ 39.75 74.21875 46.484375 68.546875 \nQ 53.21875 62.890625 53.21875 53.421875 \nQ 53.21875 48.921875 51.53125 44.890625 \nQ 49.859375 40.875 45.40625 35.40625 \nQ 44.1875 33.984375 37.640625 27.21875 \nQ 31.109375 20.453125 19.1875 8.296875 \nz\n\" id=\"DejaVuSans-50\"/>\n       </defs>\n       <use xlink:href=\"#DejaVuSans-50\"/>\n       <use x=\"63.623047\" xlink:href=\"#DejaVuSans-48\"/>\n       <use x=\"127.246094\" xlink:href=\"#DejaVuSans-48\"/>\n      </g>\n     </g>\n    </g>\n    <g id=\"ytick_3\">\n     <g id=\"line2d_7\">\n      <g>\n       <use style=\"stroke:#000000;stroke-width:0.8;\" x=\"33.2875\" xlink:href=\"#m46241ad2c4\" y=\"279.251217\"/>\n      </g>\n     </g>\n     <g id=\"text_7\">\n      <!-- 400 -->\n      <g transform=\"translate(7.2 283.050436)scale(0.1 -0.1)\">\n       <defs>\n        <path d=\"M 37.796875 64.3125 \nL 12.890625 25.390625 \nL 37.796875 25.390625 \nz\nM 35.203125 72.90625 \nL 47.609375 72.90625 \nL 47.609375 25.390625 \nL 58.015625 25.390625 \nL 58.015625 17.1875 \nL 47.609375 17.1875 \nL 47.609375 0 \nL 37.796875 0 \nL 37.796875 17.1875 \nL 4.890625 17.1875 \nL 4.890625 26.703125 \nz\n\" id=\"DejaVuSans-52\"/>\n       </defs>\n       <use xlink:href=\"#DejaVuSans-52\"/>\n       <use x=\"63.623047\" xlink:href=\"#DejaVuSans-48\"/>\n       <use x=\"127.246094\" xlink:href=\"#DejaVuSans-48\"/>\n      </g>\n     </g>\n    </g>\n    <g id=\"ytick_4\">\n     <g id=\"line2d_8\">\n      <g>\n       <use style=\"stroke:#000000;stroke-width:0.8;\" x=\"33.2875\" xlink:href=\"#m46241ad2c4\" y=\"190.277763\"/>\n      </g>\n     </g>\n     <g id=\"text_8\">\n      <!-- 600 -->\n      <g transform=\"translate(7.2 194.076982)scale(0.1 -0.1)\">\n       <defs>\n        <path d=\"M 33.015625 40.375 \nQ 26.375 40.375 22.484375 35.828125 \nQ 18.609375 31.296875 18.609375 23.390625 \nQ 18.609375 15.53125 22.484375 10.953125 \nQ 26.375 6.390625 33.015625 6.390625 \nQ 39.65625 6.390625 43.53125 10.953125 \nQ 47.40625 15.53125 47.40625 23.390625 \nQ 47.40625 31.296875 43.53125 35.828125 \nQ 39.65625 40.375 33.015625 40.375 \nz\nM 52.59375 71.296875 \nL 52.59375 62.3125 \nQ 48.875 64.0625 45.09375 64.984375 \nQ 41.3125 65.921875 37.59375 65.921875 \nQ 27.828125 65.921875 22.671875 59.328125 \nQ 17.53125 52.734375 16.796875 39.40625 \nQ 19.671875 43.65625 24.015625 45.921875 \nQ 28.375 48.1875 33.59375 48.1875 \nQ 44.578125 48.1875 50.953125 41.515625 \nQ 57.328125 34.859375 57.328125 23.390625 \nQ 57.328125 12.15625 50.6875 5.359375 \nQ 44.046875 -1.421875 33.015625 -1.421875 \nQ 20.359375 -1.421875 13.671875 8.265625 \nQ 6.984375 17.96875 6.984375 36.375 \nQ 6.984375 53.65625 15.1875 63.9375 \nQ 23.390625 74.21875 37.203125 74.21875 \nQ 40.921875 74.21875 44.703125 73.484375 \nQ 48.484375 72.75 52.59375 71.296875 \nz\n\" id=\"DejaVuSans-54\"/>\n       </defs>\n       <use xlink:href=\"#DejaVuSans-54\"/>\n       <use x=\"63.623047\" xlink:href=\"#DejaVuSans-48\"/>\n       <use x=\"127.246094\" xlink:href=\"#DejaVuSans-48\"/>\n      </g>\n     </g>\n    </g>\n    <g id=\"ytick_5\">\n     <g id=\"line2d_9\">\n      <g>\n       <use style=\"stroke:#000000;stroke-width:0.8;\" x=\"33.2875\" xlink:href=\"#m46241ad2c4\" y=\"101.304309\"/>\n      </g>\n     </g>\n     <g id=\"text_9\">\n      <!-- 800 -->\n      <g transform=\"translate(7.2 105.103528)scale(0.1 -0.1)\">\n       <defs>\n        <path d=\"M 31.78125 34.625 \nQ 24.75 34.625 20.71875 30.859375 \nQ 16.703125 27.09375 16.703125 20.515625 \nQ 16.703125 13.921875 20.71875 10.15625 \nQ 24.75 6.390625 31.78125 6.390625 \nQ 38.8125 6.390625 42.859375 10.171875 \nQ 46.921875 13.96875 46.921875 20.515625 \nQ 46.921875 27.09375 42.890625 30.859375 \nQ 38.875 34.625 31.78125 34.625 \nz\nM 21.921875 38.8125 \nQ 15.578125 40.375 12.03125 44.71875 \nQ 8.5 49.078125 8.5 55.328125 \nQ 8.5 64.0625 14.71875 69.140625 \nQ 20.953125 74.21875 31.78125 74.21875 \nQ 42.671875 74.21875 48.875 69.140625 \nQ 55.078125 64.0625 55.078125 55.328125 \nQ 55.078125 49.078125 51.53125 44.71875 \nQ 48 40.375 41.703125 38.8125 \nQ 48.828125 37.15625 52.796875 32.3125 \nQ 56.78125 27.484375 56.78125 20.515625 \nQ 56.78125 9.90625 50.3125 4.234375 \nQ 43.84375 -1.421875 31.78125 -1.421875 \nQ 19.734375 -1.421875 13.25 4.234375 \nQ 6.78125 9.90625 6.78125 20.515625 \nQ 6.78125 27.484375 10.78125 32.3125 \nQ 14.796875 37.15625 21.921875 38.8125 \nz\nM 18.3125 54.390625 \nQ 18.3125 48.734375 21.84375 45.5625 \nQ 25.390625 42.390625 31.78125 42.390625 \nQ 38.140625 42.390625 41.71875 45.5625 \nQ 45.3125 48.734375 45.3125 54.390625 \nQ 45.3125 60.0625 41.71875 63.234375 \nQ 38.140625 66.40625 31.78125 66.40625 \nQ 25.390625 66.40625 21.84375 63.234375 \nQ 18.3125 60.0625 18.3125 54.390625 \nz\n\" id=\"DejaVuSans-56\"/>\n       </defs>\n       <use xlink:href=\"#DejaVuSans-56\"/>\n       <use x=\"63.623047\" xlink:href=\"#DejaVuSans-48\"/>\n       <use x=\"127.246094\" xlink:href=\"#DejaVuSans-48\"/>\n      </g>\n     </g>\n    </g>\n   </g>\n   <g id=\"patch_7\">\n    <path d=\"M 33.2875 457.198125 \nL 33.2875 22.318125 \n\" style=\"fill:none;stroke:#000000;stroke-linecap:square;stroke-linejoin:miter;stroke-width:0.8;\"/>\n   </g>\n   <g id=\"patch_8\">\n    <path d=\"M 591.2875 457.198125 \nL 591.2875 22.318125 \n\" style=\"fill:none;stroke:#000000;stroke-linecap:square;stroke-linejoin:miter;stroke-width:0.8;\"/>\n   </g>\n   <g id=\"patch_9\">\n    <path d=\"M 33.2875 457.198125 \nL 591.2875 457.198125 \n\" style=\"fill:none;stroke:#000000;stroke-linecap:square;stroke-linejoin:miter;stroke-width:0.8;\"/>\n   </g>\n   <g id=\"patch_10\">\n    <path d=\"M 33.2875 22.318125 \nL 591.2875 22.318125 \n\" style=\"fill:none;stroke:#000000;stroke-linecap:square;stroke-linejoin:miter;stroke-width:0.8;\"/>\n   </g>\n   <g id=\"text_10\">\n    <!-- Top 20 Part-of-speech tagging for comments -->\n    <g transform=\"translate(179.0275 16.318125)scale(0.12 -0.12)\">\n     <defs>\n      <path d=\"M -0.296875 72.90625 \nL 61.375 72.90625 \nL 61.375 64.59375 \nL 35.5 64.59375 \nL 35.5 0 \nL 25.59375 0 \nL 25.59375 64.59375 \nL -0.296875 64.59375 \nz\n\" id=\"DejaVuSans-84\"/>\n      <path d=\"M 30.609375 48.390625 \nQ 23.390625 48.390625 19.1875 42.75 \nQ 14.984375 37.109375 14.984375 27.296875 \nQ 14.984375 17.484375 19.15625 11.84375 \nQ 23.34375 6.203125 30.609375 6.203125 \nQ 37.796875 6.203125 41.984375 11.859375 \nQ 46.1875 17.53125 46.1875 27.296875 \nQ 46.1875 37.015625 41.984375 42.703125 \nQ 37.796875 48.390625 30.609375 48.390625 \nz\nM 30.609375 56 \nQ 42.328125 56 49.015625 48.375 \nQ 55.71875 40.765625 55.71875 27.296875 \nQ 55.71875 13.875 49.015625 6.21875 \nQ 42.328125 -1.421875 30.609375 -1.421875 \nQ 18.84375 -1.421875 12.171875 6.21875 \nQ 5.515625 13.875 5.515625 27.296875 \nQ 5.515625 40.765625 12.171875 48.375 \nQ 18.84375 56 30.609375 56 \nz\n\" id=\"DejaVuSans-111\"/>\n      <path d=\"M 18.109375 8.203125 \nL 18.109375 -20.796875 \nL 9.078125 -20.796875 \nL 9.078125 54.6875 \nL 18.109375 54.6875 \nL 18.109375 46.390625 \nQ 20.953125 51.265625 25.265625 53.625 \nQ 29.59375 56 35.59375 56 \nQ 45.5625 56 51.78125 48.09375 \nQ 58.015625 40.1875 58.015625 27.296875 \nQ 58.015625 14.40625 51.78125 6.484375 \nQ 45.5625 -1.421875 35.59375 -1.421875 \nQ 29.59375 -1.421875 25.265625 0.953125 \nQ 20.953125 3.328125 18.109375 8.203125 \nz\nM 48.6875 27.296875 \nQ 48.6875 37.203125 44.609375 42.84375 \nQ 40.53125 48.484375 33.40625 48.484375 \nQ 26.265625 48.484375 22.1875 42.84375 \nQ 18.109375 37.203125 18.109375 27.296875 \nQ 18.109375 17.390625 22.1875 11.75 \nQ 26.265625 6.109375 33.40625 6.109375 \nQ 40.53125 6.109375 44.609375 11.75 \nQ 48.6875 17.390625 48.6875 27.296875 \nz\n\" id=\"DejaVuSans-112\"/>\n      <path id=\"DejaVuSans-32\"/>\n      <path d=\"M 34.28125 27.484375 \nQ 23.390625 27.484375 19.1875 25 \nQ 14.984375 22.515625 14.984375 16.5 \nQ 14.984375 11.71875 18.140625 8.90625 \nQ 21.296875 6.109375 26.703125 6.109375 \nQ 34.1875 6.109375 38.703125 11.40625 \nQ 43.21875 16.703125 43.21875 25.484375 \nL 43.21875 27.484375 \nz\nM 52.203125 31.203125 \nL 52.203125 0 \nL 43.21875 0 \nL 43.21875 8.296875 \nQ 40.140625 3.328125 35.546875 0.953125 \nQ 30.953125 -1.421875 24.3125 -1.421875 \nQ 15.921875 -1.421875 10.953125 3.296875 \nQ 6 8.015625 6 15.921875 \nQ 6 25.140625 12.171875 29.828125 \nQ 18.359375 34.515625 30.609375 34.515625 \nL 43.21875 34.515625 \nL 43.21875 35.40625 \nQ 43.21875 41.609375 39.140625 45 \nQ 35.0625 48.390625 27.6875 48.390625 \nQ 23 48.390625 18.546875 47.265625 \nQ 14.109375 46.140625 10.015625 43.890625 \nL 10.015625 52.203125 \nQ 14.9375 54.109375 19.578125 55.046875 \nQ 24.21875 56 28.609375 56 \nQ 40.484375 56 46.34375 49.84375 \nQ 52.203125 43.703125 52.203125 31.203125 \nz\n\" id=\"DejaVuSans-97\"/>\n      <path d=\"M 41.109375 46.296875 \nQ 39.59375 47.171875 37.8125 47.578125 \nQ 36.03125 48 33.890625 48 \nQ 26.265625 48 22.1875 43.046875 \nQ 18.109375 38.09375 18.109375 28.8125 \nL 18.109375 0 \nL 9.078125 0 \nL 9.078125 54.6875 \nL 18.109375 54.6875 \nL 18.109375 46.1875 \nQ 20.953125 51.171875 25.484375 53.578125 \nQ 30.03125 56 36.53125 56 \nQ 37.453125 56 38.578125 55.875 \nQ 39.703125 55.765625 41.0625 55.515625 \nz\n\" id=\"DejaVuSans-114\"/>\n      <path d=\"M 18.3125 70.21875 \nL 18.3125 54.6875 \nL 36.8125 54.6875 \nL 36.8125 47.703125 \nL 18.3125 47.703125 \nL 18.3125 18.015625 \nQ 18.3125 11.328125 20.140625 9.421875 \nQ 21.96875 7.515625 27.59375 7.515625 \nL 36.8125 7.515625 \nL 36.8125 0 \nL 27.59375 0 \nQ 17.1875 0 13.234375 3.875 \nQ 9.28125 7.765625 9.28125 18.015625 \nL 9.28125 47.703125 \nL 2.6875 47.703125 \nL 2.6875 54.6875 \nL 9.28125 54.6875 \nL 9.28125 70.21875 \nz\n\" id=\"DejaVuSans-116\"/>\n      <path d=\"M 4.890625 31.390625 \nL 31.203125 31.390625 \nL 31.203125 23.390625 \nL 4.890625 23.390625 \nz\n\" id=\"DejaVuSans-45\"/>\n      <path d=\"M 37.109375 75.984375 \nL 37.109375 68.5 \nL 28.515625 68.5 \nQ 23.6875 68.5 21.796875 66.546875 \nQ 19.921875 64.59375 19.921875 59.515625 \nL 19.921875 54.6875 \nL 34.71875 54.6875 \nL 34.71875 47.703125 \nL 19.921875 47.703125 \nL 19.921875 0 \nL 10.890625 0 \nL 10.890625 47.703125 \nL 2.296875 47.703125 \nL 2.296875 54.6875 \nL 10.890625 54.6875 \nL 10.890625 58.5 \nQ 10.890625 67.625 15.140625 71.796875 \nQ 19.390625 75.984375 28.609375 75.984375 \nz\n\" id=\"DejaVuSans-102\"/>\n      <path d=\"M 44.28125 53.078125 \nL 44.28125 44.578125 \nQ 40.484375 46.53125 36.375 47.5 \nQ 32.28125 48.484375 27.875 48.484375 \nQ 21.1875 48.484375 17.84375 46.4375 \nQ 14.5 44.390625 14.5 40.28125 \nQ 14.5 37.15625 16.890625 35.375 \nQ 19.28125 33.59375 26.515625 31.984375 \nL 29.59375 31.296875 \nQ 39.15625 29.25 43.1875 25.515625 \nQ 47.21875 21.78125 47.21875 15.09375 \nQ 47.21875 7.46875 41.1875 3.015625 \nQ 35.15625 -1.421875 24.609375 -1.421875 \nQ 20.21875 -1.421875 15.453125 -0.5625 \nQ 10.6875 0.296875 5.421875 2 \nL 5.421875 11.28125 \nQ 10.40625 8.6875 15.234375 7.390625 \nQ 20.0625 6.109375 24.8125 6.109375 \nQ 31.15625 6.109375 34.5625 8.28125 \nQ 37.984375 10.453125 37.984375 14.40625 \nQ 37.984375 18.0625 35.515625 20.015625 \nQ 33.0625 21.96875 24.703125 23.78125 \nL 21.578125 24.515625 \nQ 13.234375 26.265625 9.515625 29.90625 \nQ 5.8125 33.546875 5.8125 39.890625 \nQ 5.8125 47.609375 11.28125 51.796875 \nQ 16.75 56 26.8125 56 \nQ 31.78125 56 36.171875 55.265625 \nQ 40.578125 54.546875 44.28125 53.078125 \nz\n\" id=\"DejaVuSans-115\"/>\n      <path d=\"M 56.203125 29.59375 \nL 56.203125 25.203125 \nL 14.890625 25.203125 \nQ 15.484375 15.921875 20.484375 11.0625 \nQ 25.484375 6.203125 34.421875 6.203125 \nQ 39.59375 6.203125 44.453125 7.46875 \nQ 49.3125 8.734375 54.109375 11.28125 \nL 54.109375 2.78125 \nQ 49.265625 0.734375 44.1875 -0.34375 \nQ 39.109375 -1.421875 33.890625 -1.421875 \nQ 20.796875 -1.421875 13.15625 6.1875 \nQ 5.515625 13.8125 5.515625 26.8125 \nQ 5.515625 40.234375 12.765625 48.109375 \nQ 20.015625 56 32.328125 56 \nQ 43.359375 56 49.78125 48.890625 \nQ 56.203125 41.796875 56.203125 29.59375 \nz\nM 47.21875 32.234375 \nQ 47.125 39.59375 43.09375 43.984375 \nQ 39.0625 48.390625 32.421875 48.390625 \nQ 24.90625 48.390625 20.390625 44.140625 \nQ 15.875 39.890625 15.1875 32.171875 \nz\n\" id=\"DejaVuSans-101\"/>\n      <path d=\"M 48.78125 52.59375 \nL 48.78125 44.1875 \nQ 44.96875 46.296875 41.140625 47.34375 \nQ 37.3125 48.390625 33.40625 48.390625 \nQ 24.65625 48.390625 19.8125 42.84375 \nQ 14.984375 37.3125 14.984375 27.296875 \nQ 14.984375 17.28125 19.8125 11.734375 \nQ 24.65625 6.203125 33.40625 6.203125 \nQ 37.3125 6.203125 41.140625 7.25 \nQ 44.96875 8.296875 48.78125 10.40625 \nL 48.78125 2.09375 \nQ 45.015625 0.34375 40.984375 -0.53125 \nQ 36.96875 -1.421875 32.421875 -1.421875 \nQ 20.0625 -1.421875 12.78125 6.34375 \nQ 5.515625 14.109375 5.515625 27.296875 \nQ 5.515625 40.671875 12.859375 48.328125 \nQ 20.21875 56 33.015625 56 \nQ 37.15625 56 41.109375 55.140625 \nQ 45.0625 54.296875 48.78125 52.59375 \nz\n\" id=\"DejaVuSans-99\"/>\n      <path d=\"M 54.890625 33.015625 \nL 54.890625 0 \nL 45.90625 0 \nL 45.90625 32.71875 \nQ 45.90625 40.484375 42.875 44.328125 \nQ 39.84375 48.1875 33.796875 48.1875 \nQ 26.515625 48.1875 22.3125 43.546875 \nQ 18.109375 38.921875 18.109375 30.90625 \nL 18.109375 0 \nL 9.078125 0 \nL 9.078125 75.984375 \nL 18.109375 75.984375 \nL 18.109375 46.1875 \nQ 21.34375 51.125 25.703125 53.5625 \nQ 30.078125 56 35.796875 56 \nQ 45.21875 56 50.046875 50.171875 \nQ 54.890625 44.34375 54.890625 33.015625 \nz\n\" id=\"DejaVuSans-104\"/>\n      <path d=\"M 45.40625 27.984375 \nQ 45.40625 37.75 41.375 43.109375 \nQ 37.359375 48.484375 30.078125 48.484375 \nQ 22.859375 48.484375 18.828125 43.109375 \nQ 14.796875 37.75 14.796875 27.984375 \nQ 14.796875 18.265625 18.828125 12.890625 \nQ 22.859375 7.515625 30.078125 7.515625 \nQ 37.359375 7.515625 41.375 12.890625 \nQ 45.40625 18.265625 45.40625 27.984375 \nz\nM 54.390625 6.78125 \nQ 54.390625 -7.171875 48.1875 -13.984375 \nQ 42 -20.796875 29.203125 -20.796875 \nQ 24.46875 -20.796875 20.265625 -20.09375 \nQ 16.0625 -19.390625 12.109375 -17.921875 \nL 12.109375 -9.1875 \nQ 16.0625 -11.328125 19.921875 -12.34375 \nQ 23.78125 -13.375 27.78125 -13.375 \nQ 36.625 -13.375 41.015625 -8.765625 \nQ 45.40625 -4.15625 45.40625 5.171875 \nL 45.40625 9.625 \nQ 42.625 4.78125 38.28125 2.390625 \nQ 33.9375 0 27.875 0 \nQ 17.828125 0 11.671875 7.65625 \nQ 5.515625 15.328125 5.515625 27.984375 \nQ 5.515625 40.671875 11.671875 48.328125 \nQ 17.828125 56 27.875 56 \nQ 33.9375 56 38.28125 53.609375 \nQ 42.625 51.21875 45.40625 46.390625 \nL 45.40625 54.6875 \nL 54.390625 54.6875 \nz\n\" id=\"DejaVuSans-103\"/>\n      <path d=\"M 9.421875 54.6875 \nL 18.40625 54.6875 \nL 18.40625 0 \nL 9.421875 0 \nz\nM 9.421875 75.984375 \nL 18.40625 75.984375 \nL 18.40625 64.59375 \nL 9.421875 64.59375 \nz\n\" id=\"DejaVuSans-105\"/>\n      <path d=\"M 54.890625 33.015625 \nL 54.890625 0 \nL 45.90625 0 \nL 45.90625 32.71875 \nQ 45.90625 40.484375 42.875 44.328125 \nQ 39.84375 48.1875 33.796875 48.1875 \nQ 26.515625 48.1875 22.3125 43.546875 \nQ 18.109375 38.921875 18.109375 30.90625 \nL 18.109375 0 \nL 9.078125 0 \nL 9.078125 54.6875 \nL 18.109375 54.6875 \nL 18.109375 46.1875 \nQ 21.34375 51.125 25.703125 53.5625 \nQ 30.078125 56 35.796875 56 \nQ 45.21875 56 50.046875 50.171875 \nQ 54.890625 44.34375 54.890625 33.015625 \nz\n\" id=\"DejaVuSans-110\"/>\n      <path d=\"M 52 44.1875 \nQ 55.375 50.25 60.0625 53.125 \nQ 64.75 56 71.09375 56 \nQ 79.640625 56 84.28125 50.015625 \nQ 88.921875 44.046875 88.921875 33.015625 \nL 88.921875 0 \nL 79.890625 0 \nL 79.890625 32.71875 \nQ 79.890625 40.578125 77.09375 44.375 \nQ 74.3125 48.1875 68.609375 48.1875 \nQ 61.625 48.1875 57.5625 43.546875 \nQ 53.515625 38.921875 53.515625 30.90625 \nL 53.515625 0 \nL 44.484375 0 \nL 44.484375 32.71875 \nQ 44.484375 40.625 41.703125 44.40625 \nQ 38.921875 48.1875 33.109375 48.1875 \nQ 26.21875 48.1875 22.15625 43.53125 \nQ 18.109375 38.875 18.109375 30.90625 \nL 18.109375 0 \nL 9.078125 0 \nL 9.078125 54.6875 \nL 18.109375 54.6875 \nL 18.109375 46.1875 \nQ 21.1875 51.21875 25.484375 53.609375 \nQ 29.78125 56 35.6875 56 \nQ 41.65625 56 45.828125 52.96875 \nQ 50 49.953125 52 44.1875 \nz\n\" id=\"DejaVuSans-109\"/>\n     </defs>\n     <use xlink:href=\"#DejaVuSans-84\"/>\n     <use x=\"44.083984\" xlink:href=\"#DejaVuSans-111\"/>\n     <use x=\"105.265625\" xlink:href=\"#DejaVuSans-112\"/>\n     <use x=\"168.742188\" xlink:href=\"#DejaVuSans-32\"/>\n     <use x=\"200.529297\" xlink:href=\"#DejaVuSans-50\"/>\n     <use x=\"264.152344\" xlink:href=\"#DejaVuSans-48\"/>\n     <use x=\"327.775391\" xlink:href=\"#DejaVuSans-32\"/>\n     <use x=\"359.5625\" xlink:href=\"#DejaVuSans-80\"/>\n     <use x=\"415.365234\" xlink:href=\"#DejaVuSans-97\"/>\n     <use x=\"476.644531\" xlink:href=\"#DejaVuSans-114\"/>\n     <use x=\"517.757812\" xlink:href=\"#DejaVuSans-116\"/>\n     <use x=\"556.966797\" xlink:href=\"#DejaVuSans-45\"/>\n     <use x=\"594.925781\" xlink:href=\"#DejaVuSans-111\"/>\n     <use x=\"656.107422\" xlink:href=\"#DejaVuSans-102\"/>\n     <use x=\"685.8125\" xlink:href=\"#DejaVuSans-45\"/>\n     <use x=\"721.896484\" xlink:href=\"#DejaVuSans-115\"/>\n     <use x=\"773.996094\" xlink:href=\"#DejaVuSans-112\"/>\n     <use x=\"837.472656\" xlink:href=\"#DejaVuSans-101\"/>\n     <use x=\"898.996094\" xlink:href=\"#DejaVuSans-101\"/>\n     <use x=\"960.519531\" xlink:href=\"#DejaVuSans-99\"/>\n     <use x=\"1015.5\" xlink:href=\"#DejaVuSans-104\"/>\n     <use x=\"1078.878906\" xlink:href=\"#DejaVuSans-32\"/>\n     <use x=\"1110.666016\" xlink:href=\"#DejaVuSans-116\"/>\n     <use x=\"1149.875\" xlink:href=\"#DejaVuSans-97\"/>\n     <use x=\"1211.154297\" xlink:href=\"#DejaVuSans-103\"/>\n     <use x=\"1274.630859\" xlink:href=\"#DejaVuSans-103\"/>\n     <use x=\"1338.107422\" xlink:href=\"#DejaVuSans-105\"/>\n     <use x=\"1365.890625\" xlink:href=\"#DejaVuSans-110\"/>\n     <use x=\"1429.269531\" xlink:href=\"#DejaVuSans-103\"/>\n     <use x=\"1492.746094\" xlink:href=\"#DejaVuSans-32\"/>\n     <use x=\"1524.533203\" xlink:href=\"#DejaVuSans-102\"/>\n     <use x=\"1559.738281\" xlink:href=\"#DejaVuSans-111\"/>\n     <use x=\"1620.919922\" xlink:href=\"#DejaVuSans-114\"/>\n     <use x=\"1662.033203\" xlink:href=\"#DejaVuSans-32\"/>\n     <use x=\"1693.820312\" xlink:href=\"#DejaVuSans-99\"/>\n     <use x=\"1748.800781\" xlink:href=\"#DejaVuSans-111\"/>\n     <use x=\"1809.982422\" xlink:href=\"#DejaVuSans-109\"/>\n     <use x=\"1907.394531\" xlink:href=\"#DejaVuSans-109\"/>\n     <use x=\"2004.806641\" xlink:href=\"#DejaVuSans-101\"/>\n     <use x=\"2066.330078\" xlink:href=\"#DejaVuSans-110\"/>\n     <use x=\"2129.708984\" xlink:href=\"#DejaVuSans-116\"/>\n     <use x=\"2168.917969\" xlink:href=\"#DejaVuSans-115\"/>\n    </g>\n   </g>\n  </g>\n </g>\n <defs>\n  <clipPath id=\"p672801a46d\">\n   <rect height=\"434.88\" width=\"558\" x=\"33.2875\" y=\"22.318125\"/>\n  </clipPath>\n </defs>\n</svg>\n",
      "image/png": "[encoded data removed]"
     },
     "metadata": {
      "needs_background": "light"
     }
    }
   ],
   "source": [
    "from textblob import TextBlob\n",
    "blob = TextBlob(str(books['Description']))\n",
    "pos_df = pd.DataFrame(blob.tags, columns = ['word' , 'pos'])\n",
    "pos_df = pos_df.pos.value_counts()[:20]\n",
    "pos_df.plot(kind = 'bar', figsize=(10, 8), title = \"Top 20 Part-of-speech tagging for comments\")"
   ]
  },
  {
   "cell_type": "code",
   "execution_count": null,
   "metadata": {},
   "outputs": [],
   "source": []
  }
 ]
}