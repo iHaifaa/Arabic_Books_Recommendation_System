{
 "metadata": {
  "language_info": {
   "codemirror_mode": {
    "name": "ipython",
    "version": 3
   },
   "file_extension": ".py",
   "mimetype": "text/x-python",
   "name": "python",
   "nbconvert_exporter": "python",
   "pygments_lexer": "ipython3",
   "version": "3.8.6-final"
  },
  "orig_nbformat": 2,
  "kernelspec": {
   "name": "python3",
   "display_name": "Python 3",
   "language": "python"
  }
 },
 "nbformat": 4,
 "nbformat_minor": 2,
 "cells": [
  {
   "source": [
    "# Dataset Preparation\n",
    "This notebook aims to create 2 separated datasets. \n",
    "\n",
    "1. **Prepared_Dataset.csv**, which consists of the books with their metadata including the description texts, for general use. \n",
    "\n",
    "2.  **Descriptions_Dataset.csv**, which only consists of the books with their description texts, to NLP-based projects.\n",
    "\n",
    "You will find them in [Data/Books_Data](https://github.com/iHaifaa/Arabic_Books_Recommendation_System/tree/main/Data/Books_Data) folder."
   ],
   "cell_type": "markdown",
   "metadata": {}
  },
  {
   "cell_type": "code",
   "execution_count": 1,
   "metadata": {},
   "outputs": [],
   "source": [
    "# Required pakages\n",
    "import pandas as pd\n",
    "import numpy as np\n",
    "import os\n",
    "import glob # To browse the floders"
   ]
  },
  {
   "source": [
    "## 1. Loading the dataset/s"
   ],
   "cell_type": "markdown",
   "metadata": {}
  },
  {
   "cell_type": "code",
   "execution_count": 8,
   "metadata": {},
   "outputs": [],
   "source": [
    "path = 'Data/Books_Data'\n",
    "\n",
    "all_files = glob.glob(path + \"/Books_Category*.csv\")   \n",
    "#print(len(all_files))\n",
    "li = []\n",
    "\n",
    "for filename in all_files:\n",
    "    df = pd.read_csv(filename, index_col=None, header=0) # dtype={'Average_Ratings': 'category'} to rid off out of memory\n",
    "    li.append(df)\n",
    "\n",
    "full_dataset = pd.concat(li, axis=0, ignore_index=True)"
   ]
  },
  {
   "cell_type": "code",
   "execution_count": 9,
   "metadata": {},
   "outputs": [
    {
     "output_type": "execute_result",
     "data": {
      "text/plain": [
       "(17869, 19)"
      ]
     },
     "metadata": {},
     "execution_count": 9
    }
   ],
   "source": [
    "full_dataset.shape"
   ]
  },
  {
   "cell_type": "code",
   "execution_count": 10,
   "metadata": {},
   "outputs": [
    {
     "output_type": "execute_result",
     "data": {
      "text/plain": [
       "   Unnamed: 0                        ISBN  \\\n",
       "0           0             ISBN 9774416333   \n",
       "1           1       ISBN 13 9789777195522   \n",
       "2           2       ISBN 13 9789777195331   \n",
       "3           3  دار الحضارة للنشر والتوزيع   \n",
       "4           4       ISBN 13 9789777194693   \n",
       "\n",
       "                                 Title  \\\n",
       "0                        استمتع بحياتك   \n",
       "1                           عبقرية عمر   \n",
       "2                          عبقرية محمد   \n",
       "3  لأنك الله : رحلة إلى السماء السابعة   \n",
       "4                    عبقرية الإمام علي   \n",
       "\n",
       "                                              Author Authors_Number  \\\n",
       "0              تأليف محمد عبد الرحمن العريفي (تأليف)    المؤلفون\\n1   \n",
       "1                    تأليف عباس محمود العقاد (تأليف)    المؤلفون\\n1   \n",
       "2                    تأليف عباس محمود العقاد (تأليف)    المؤلفون\\n1   \n",
       "3  تأليف علي بن جابر الفيفي (تأليف) علي بن جابر ا...    المؤلفون\\n2   \n",
       "4                    تأليف عباس محمود العقاد (تأليف)    المؤلفون\\n1   \n",
       "\n",
       "                                         Description  \\\n",
       "0  لما كنت فى السادسة عشرة من عمري وقع فى يدي كتا...   \n",
       "1  يزخر التاريخ الإسلامي برجال عِظام سطروا حوادثه...   \n",
       "2  احتفى التاريخ العربي بالسيرة المُحمدية؛ فأفرد ...   \n",
       "3  كتاب يتحدث عن بعض أسماء الله الحسنى وكيف نعيشه...   \n",
       "4  بَرَع «عباس محمود العقاد» في تناول شخصية الإما...   \n",
       "\n",
       "                        Genres Average_Ratings Reviews_Number  Quotes_Number  \\\n",
       "0           علوم إسلامية رقائق               4    مراجعات\\n97   اقتباسات\\n39   \n",
       "1    علوم إسلامية سيرة الصحابة             4.1    مراجعات\\n64  اقتباسات\\n114   \n",
       "2  علوم إسلامية السيرة النبوية             4.3    مراجعات\\n45   اقتباسات\\n62   \n",
       "3           علوم إسلامية رقائق             4.7    مراجعات\\n83   اقتباسات\\n99   \n",
       "4    علوم إسلامية سيرة الصحابة             4.3    مراجعات\\n30   اقتباسات\\n25   \n",
       "\n",
       "  Community_Size Pages_Number  Editions Publication_Year  \\\n",
       "0  القرّاء\\n7945     344 صفحة  طبعات\\n4     نشر سنة 2009   \n",
       "1  القرّاء\\n7337     497 صفحة  طبعات\\n3     نشر سنة 2014   \n",
       "2  القرّاء\\n4151     238 صفحة  طبعات\\n2     نشر سنة 2013   \n",
       "3  القرّاء\\n3133     192 صفحة  طبعات\\n1     نشر سنة 2016   \n",
       "4  القرّاء\\n2592      87 صفحة  طبعات\\n4     نشر سنة 2013   \n",
       "\n",
       "                       Publisher  \\\n",
       "0                            NaN   \n",
       "1  مؤسسة هنداوي للتعليم والثقافة   \n",
       "2  مؤسسة هنداوي للتعليم والثقافة   \n",
       "3                            NaN   \n",
       "4  مؤسسة هنداوي للتعليم والثقافة   \n",
       "\n",
       "                                                 URL  \\\n",
       "0  https://www.abjjad.com/book/15445916/%D8%A7%D8...   \n",
       "1  https://www.abjjad.com/book/15445340/%D8%B9%D8...   \n",
       "2  https://www.abjjad.com/book/15445339/%D8%B9%D8...   \n",
       "3  https://www.abjjad.com/book/2653683959/%D9%84%...   \n",
       "4  https://www.abjjad.com/book/15445343/%D8%B9%D8...   \n",
       "\n",
       "                                           Cover_URL  Unnamed: 0.1  \\\n",
       "0  https://abjjadst.blob.core.windows.net/pub/2f2...           NaN   \n",
       "1  https://abjjadst.blob.core.windows.net/pub/e5f...           NaN   \n",
       "2  https://abjjadst.blob.core.windows.net/pub/7df...           NaN   \n",
       "3  https://abjjadst.blob.core.windows.net/pub/c35...           NaN   \n",
       "4  https://abjjadst.blob.core.windows.net/pub/0b2...           NaN   \n",
       "\n",
       "   Readers_Number  \n",
       "0             NaN  \n",
       "1             NaN  \n",
       "2             NaN  \n",
       "3             NaN  \n",
       "4             NaN  "
      ],
      "text/html": "<div>\n<style scoped>\n    .dataframe tbody tr th:only-of-type {\n        vertical-align: middle;\n    }\n\n    .dataframe tbody tr th {\n        vertical-align: top;\n    }\n\n    .dataframe thead th {\n        text-align: right;\n    }\n</style>\n<table border=\"1\" class=\"dataframe\">\n  <thead>\n    <tr style=\"text-align: right;\">\n      <th></th>\n      <th>Unnamed: 0</th>\n      <th>ISBN</th>\n      <th>Title</th>\n      <th>Author</th>\n      <th>Authors_Number</th>\n      <th>Description</th>\n      <th>Genres</th>\n      <th>Average_Ratings</th>\n      <th>Reviews_Number</th>\n      <th>Quotes_Number</th>\n      <th>Community_Size</th>\n      <th>Pages_Number</th>\n      <th>Editions</th>\n      <th>Publication_Year</th>\n      <th>Publisher</th>\n      <th>URL</th>\n      <th>Cover_URL</th>\n      <th>Unnamed: 0.1</th>\n      <th>Readers_Number</th>\n    </tr>\n  </thead>\n  <tbody>\n    <tr>\n      <th>0</th>\n      <td>0</td>\n      <td>ISBN 9774416333</td>\n      <td>استمتع بحياتك</td>\n      <td>تأليف محمد عبد الرحمن العريفي (تأليف)</td>\n      <td>المؤلفون\\n1</td>\n      <td>لما كنت فى السادسة عشرة من عمري وقع فى يدي كتا...</td>\n      <td>علوم إسلامية رقائق</td>\n      <td>4</td>\n      <td>مراجعات\\n97</td>\n      <td>اقتباسات\\n39</td>\n      <td>القرّاء\\n7945</td>\n      <td>344 صفحة</td>\n      <td>طبعات\\n4</td>\n      <td>نشر سنة 2009</td>\n      <td>NaN</td>\n      <td>https://www.abjjad.com/book/15445916/%D8%A7%D8...</td>\n      <td>https://abjjadst.blob.core.windows.net/pub/2f2...</td>\n      <td>NaN</td>\n      <td>NaN</td>\n    </tr>\n    <tr>\n      <th>1</th>\n      <td>1</td>\n      <td>ISBN 13 9789777195522</td>\n      <td>عبقرية عمر</td>\n      <td>تأليف عباس محمود العقاد (تأليف)</td>\n      <td>المؤلفون\\n1</td>\n      <td>يزخر التاريخ الإسلامي برجال عِظام سطروا حوادثه...</td>\n      <td>علوم إسلامية سيرة الصحابة</td>\n      <td>4.1</td>\n      <td>مراجعات\\n64</td>\n      <td>اقتباسات\\n114</td>\n      <td>القرّاء\\n7337</td>\n      <td>497 صفحة</td>\n      <td>طبعات\\n3</td>\n      <td>نشر سنة 2014</td>\n      <td>مؤسسة هنداوي للتعليم والثقافة</td>\n      <td>https://www.abjjad.com/book/15445340/%D8%B9%D8...</td>\n      <td>https://abjjadst.blob.core.windows.net/pub/e5f...</td>\n      <td>NaN</td>\n      <td>NaN</td>\n    </tr>\n    <tr>\n      <th>2</th>\n      <td>2</td>\n      <td>ISBN 13 9789777195331</td>\n      <td>عبقرية محمد</td>\n      <td>تأليف عباس محمود العقاد (تأليف)</td>\n      <td>المؤلفون\\n1</td>\n      <td>احتفى التاريخ العربي بالسيرة المُحمدية؛ فأفرد ...</td>\n      <td>علوم إسلامية السيرة النبوية</td>\n      <td>4.3</td>\n      <td>مراجعات\\n45</td>\n      <td>اقتباسات\\n62</td>\n      <td>القرّاء\\n4151</td>\n      <td>238 صفحة</td>\n      <td>طبعات\\n2</td>\n      <td>نشر سنة 2013</td>\n      <td>مؤسسة هنداوي للتعليم والثقافة</td>\n      <td>https://www.abjjad.com/book/15445339/%D8%B9%D8...</td>\n      <td>https://abjjadst.blob.core.windows.net/pub/7df...</td>\n      <td>NaN</td>\n      <td>NaN</td>\n    </tr>\n    <tr>\n      <th>3</th>\n      <td>3</td>\n      <td>دار الحضارة للنشر والتوزيع</td>\n      <td>لأنك الله : رحلة إلى السماء السابعة</td>\n      <td>تأليف علي بن جابر الفيفي (تأليف) علي بن جابر ا...</td>\n      <td>المؤلفون\\n2</td>\n      <td>كتاب يتحدث عن بعض أسماء الله الحسنى وكيف نعيشه...</td>\n      <td>علوم إسلامية رقائق</td>\n      <td>4.7</td>\n      <td>مراجعات\\n83</td>\n      <td>اقتباسات\\n99</td>\n      <td>القرّاء\\n3133</td>\n      <td>192 صفحة</td>\n      <td>طبعات\\n1</td>\n      <td>نشر سنة 2016</td>\n      <td>NaN</td>\n      <td>https://www.abjjad.com/book/2653683959/%D9%84%...</td>\n      <td>https://abjjadst.blob.core.windows.net/pub/c35...</td>\n      <td>NaN</td>\n      <td>NaN</td>\n    </tr>\n    <tr>\n      <th>4</th>\n      <td>4</td>\n      <td>ISBN 13 9789777194693</td>\n      <td>عبقرية الإمام علي</td>\n      <td>تأليف عباس محمود العقاد (تأليف)</td>\n      <td>المؤلفون\\n1</td>\n      <td>بَرَع «عباس محمود العقاد» في تناول شخصية الإما...</td>\n      <td>علوم إسلامية سيرة الصحابة</td>\n      <td>4.3</td>\n      <td>مراجعات\\n30</td>\n      <td>اقتباسات\\n25</td>\n      <td>القرّاء\\n2592</td>\n      <td>87 صفحة</td>\n      <td>طبعات\\n4</td>\n      <td>نشر سنة 2013</td>\n      <td>مؤسسة هنداوي للتعليم والثقافة</td>\n      <td>https://www.abjjad.com/book/15445343/%D8%B9%D8...</td>\n      <td>https://abjjadst.blob.core.windows.net/pub/0b2...</td>\n      <td>NaN</td>\n      <td>NaN</td>\n    </tr>\n  </tbody>\n</table>\n</div>"
     },
     "metadata": {},
     "execution_count": 10
    }
   ],
   "source": [
    "full_dataset.head()"
   ]
  },
  {
   "source": [
    "## 2. Drop unwanted columns and rows"
   ],
   "cell_type": "markdown",
   "metadata": {}
  },
  {
   "cell_type": "code",
   "execution_count": 11,
   "metadata": {},
   "outputs": [],
   "source": [
    "full_dataset = full_dataset.drop(columns=['Unnamed: 0', 'Unnamed: 0.1', 'Readers_Number'])"
   ]
  },
  {
   "cell_type": "code",
   "execution_count": 12,
   "metadata": {},
   "outputs": [],
   "source": [
    "# Remove empties\n",
    "full_dataset = full_dataset.dropna(axis=1, how='all') #drop any column filled only with NaN \n",
    "full_dataset = full_dataset.dropna(axis=0, how='all') #drop any rows filled only with NaN \n",
    "\n",
    "# Remove duplicated observations \n",
    "full_dataset = full_dataset.drop_duplicates() # was 10242 rows - became 9815 rows"
   ]
  },
  {
   "cell_type": "code",
   "execution_count": 13,
   "metadata": {},
   "outputs": [
    {
     "output_type": "execute_result",
     "data": {
      "text/plain": [
       "(16558, 16)"
      ]
     },
     "metadata": {},
     "execution_count": 13
    }
   ],
   "source": [
    "full_dataset.shape"
   ]
  },
  {
   "source": [
    "## 3. Correcting the wrong data\n",
    "Some data was mistakely observed to be in wrong collumn, so I fixed the wrong data by place them in their correspondig columns and fill the empties with None."
   ],
   "cell_type": "markdown",
   "metadata": {}
  },
  {
   "cell_type": "code",
   "execution_count": 14,
   "metadata": {},
   "outputs": [],
   "source": [
    "# Some ISBN data have publisher information\n",
    "# I preserved the data from the ISBN column if it does not contain word 'ISBN'. In other words, they are publisher information\n",
    "publisher_info = full_dataset[full_dataset[\"ISBN\"].str.contains('ISBN')==False]['ISBN']\n",
    "# I assigned the preserved data to be filled in Publisher column\n",
    "full_dataset.loc[full_dataset['ISBN'].str.contains('ISBN')==False, 'Publisher'] = publisher_info\n",
    "# Just display the Publisher column after modifying \n",
    "full_dataset[full_dataset[\"ISBN\"].str.contains('ISBN')==False]['Publisher']\n",
    "# Finally, we will fill the corresponding ISBN with None\n",
    "full_dataset.loc[full_dataset['ISBN'].str.contains('ISBN')==False, 'ISBN'] = None"
   ]
  },
  {
   "cell_type": "code",
   "execution_count": 15,
   "metadata": {},
   "outputs": [],
   "source": [
    "# Some Publication_Year data have ISBN information\n",
    "# I preserved the data from the Publication_Year column if it contain word 'ISBN'. In other words, they are ISBN information\n",
    "isbn_info = full_dataset[full_dataset[\"Publication_Year\"].str.contains('ISBN')==True]['Publication_Year']\n",
    "# I assigned the preserved data to be filled in ISBN column\n",
    "full_dataset.loc[full_dataset['Publication_Year'].str.contains('ISBN')==True, 'ISBN'] = isbn_info\n",
    "# Just display the ISBN column after modifying \n",
    "full_dataset[full_dataset[\"Publication_Year\"].str.contains('ISBN')==True]['ISBN']\n",
    "# Finally, we will fill the corresponding Publication_Year with None\n",
    "full_dataset.loc[full_dataset['Publication_Year'].str.contains('ISBN')==True, 'Publication_Year'] = None"
   ]
  },
  {
   "cell_type": "code",
   "execution_count": 16,
   "metadata": {},
   "outputs": [],
   "source": [
    "# Some Publication_Year data have publisher information\n",
    "# I preserved the data from the Publication_Year column if it does not contain word 'نشر سنة'. In other words, they are publisher information\n",
    "publisher_info2 = full_dataset[full_dataset[\"Publication_Year\"].str.contains('نشر سنة')==False]['Publication_Year']\n",
    "# I assigned the preserved data to be filled in Publisher column\n",
    "full_dataset.loc[full_dataset['Publication_Year'].str.contains('Publication_Year')==False, 'Publisher'] = publisher_info2\n",
    "# Just display the Publisher column after modifying \n",
    "full_dataset[full_dataset[\"Publication_Year\"].str.contains('نشر سنة')==False]['Publisher']\n",
    "# Finally, we will fill the corresponding ISBN with None\n",
    "full_dataset.loc[full_dataset['Publication_Year'].str.contains('نشر سنة')==False, 'Publication_Year'] = None"
   ]
  },
  {
   "cell_type": "code",
   "execution_count": 17,
   "metadata": {},
   "outputs": [],
   "source": [
    "# Some Pages_Number data have publisher information\n",
    "# I preserved the data from the Pages_Number column if it does not contain word 'صفحة'. In other words, they are publisher information\n",
    "publisher_info3 = full_dataset[full_dataset[\"Pages_Number\"].str.contains('صفحة')==False]['Pages_Number']\n",
    "# I assigned the preserved data to be filled in Publisher column\n",
    "full_dataset.loc[full_dataset['Pages_Number'].str.contains('صفحة')==False, 'Publisher'] = publisher_info3\n",
    "# Just display the Publisher column after modifying \n",
    "full_dataset[full_dataset[\"Pages_Number\"].str.contains('صفحة')==False]['Publisher']\n",
    "# Finally, we will fill the corresponding ISBN with None\n",
    "full_dataset.loc[full_dataset['Pages_Number'].str.contains('صفحة')==False, 'Pages_Number'] = None"
   ]
  },
  {
   "cell_type": "code",
   "execution_count": 18,
   "metadata": {},
   "outputs": [],
   "source": [
    "# To check if we still have wrong data in the wrong column\n",
    "# full_dataset.sort_values(by=['Publication_Year'], ascending=False)"
   ]
  },
  {
   "source": [
    "## 4. Remove meaningless data or words "
   ],
   "cell_type": "markdown",
   "metadata": {}
  },
  {
   "cell_type": "code",
   "execution_count": 19,
   "metadata": {},
   "outputs": [],
   "source": [
    "# Keep only the first author, since the second one might be a translator or co-author but appear as main author\n",
    "full_dataset['Author'] = full_dataset['Author'].str.split('\\(تأليف\\)').str[0].str.strip()"
   ]
  },
  {
   "cell_type": "code",
   "execution_count": 20,
   "metadata": {},
   "outputs": [
    {
     "output_type": "execute_result",
     "data": {
      "text/plain": [
       "                    ISBN                                Title  \\\n",
       "0        ISBN 9774416333                        استمتع بحياتك   \n",
       "1  ISBN 13 9789777195522                           عبقرية عمر   \n",
       "2  ISBN 13 9789777195331                          عبقرية محمد   \n",
       "3                   None  لأنك الله : رحلة إلى السماء السابعة   \n",
       "4  ISBN 13 9789777194693                    عبقرية الإمام علي   \n",
       "\n",
       "                          Author Authors_Number  \\\n",
       "0  تأليف محمد عبد الرحمن العريفي    المؤلفون\\n1   \n",
       "1        تأليف عباس محمود العقاد    المؤلفون\\n1   \n",
       "2        تأليف عباس محمود العقاد    المؤلفون\\n1   \n",
       "3       تأليف علي بن جابر الفيفي    المؤلفون\\n2   \n",
       "4        تأليف عباس محمود العقاد    المؤلفون\\n1   \n",
       "\n",
       "                                         Description  \\\n",
       "0  لما كنت فى السادسة عشرة من عمري وقع فى يدي كتا...   \n",
       "1  يزخر التاريخ الإسلامي برجال عِظام سطروا حوادثه...   \n",
       "2  احتفى التاريخ العربي بالسيرة المُحمدية؛ فأفرد ...   \n",
       "3  كتاب يتحدث عن بعض أسماء الله الحسنى وكيف نعيشه...   \n",
       "4  بَرَع «عباس محمود العقاد» في تناول شخصية الإما...   \n",
       "\n",
       "                        Genres Average_Ratings Reviews_Number  Quotes_Number  \\\n",
       "0           علوم إسلامية رقائق               4    مراجعات\\n97   اقتباسات\\n39   \n",
       "1    علوم إسلامية سيرة الصحابة             4.1    مراجعات\\n64  اقتباسات\\n114   \n",
       "2  علوم إسلامية السيرة النبوية             4.3    مراجعات\\n45   اقتباسات\\n62   \n",
       "3           علوم إسلامية رقائق             4.7    مراجعات\\n83   اقتباسات\\n99   \n",
       "4    علوم إسلامية سيرة الصحابة             4.3    مراجعات\\n30   اقتباسات\\n25   \n",
       "\n",
       "  Community_Size Pages_Number  Editions Publication_Year Publisher  \\\n",
       "0  القرّاء\\n7945     344 صفحة  طبعات\\n4     نشر سنة 2009       NaN   \n",
       "1  القرّاء\\n7337     497 صفحة  طبعات\\n3     نشر سنة 2014       NaN   \n",
       "2  القرّاء\\n4151     238 صفحة  طبعات\\n2     نشر سنة 2013       NaN   \n",
       "3  القرّاء\\n3133     192 صفحة  طبعات\\n1     نشر سنة 2016       NaN   \n",
       "4  القرّاء\\n2592      87 صفحة  طبعات\\n4     نشر سنة 2013       NaN   \n",
       "\n",
       "                                                 URL  \\\n",
       "0  https://www.abjjad.com/book/15445916/%D8%A7%D8...   \n",
       "1  https://www.abjjad.com/book/15445340/%D8%B9%D8...   \n",
       "2  https://www.abjjad.com/book/15445339/%D8%B9%D8...   \n",
       "3  https://www.abjjad.com/book/2653683959/%D9%84%...   \n",
       "4  https://www.abjjad.com/book/15445343/%D8%B9%D8...   \n",
       "\n",
       "                                           Cover_URL  \n",
       "0  https://abjjadst.blob.core.windows.net/pub/2f2...  \n",
       "1  https://abjjadst.blob.core.windows.net/pub/e5f...  \n",
       "2  https://abjjadst.blob.core.windows.net/pub/7df...  \n",
       "3  https://abjjadst.blob.core.windows.net/pub/c35...  \n",
       "4  https://abjjadst.blob.core.windows.net/pub/0b2...  "
      ],
      "text/html": "<div>\n<style scoped>\n    .dataframe tbody tr th:only-of-type {\n        vertical-align: middle;\n    }\n\n    .dataframe tbody tr th {\n        vertical-align: top;\n    }\n\n    .dataframe thead th {\n        text-align: right;\n    }\n</style>\n<table border=\"1\" class=\"dataframe\">\n  <thead>\n    <tr style=\"text-align: right;\">\n      <th></th>\n      <th>ISBN</th>\n      <th>Title</th>\n      <th>Author</th>\n      <th>Authors_Number</th>\n      <th>Description</th>\n      <th>Genres</th>\n      <th>Average_Ratings</th>\n      <th>Reviews_Number</th>\n      <th>Quotes_Number</th>\n      <th>Community_Size</th>\n      <th>Pages_Number</th>\n      <th>Editions</th>\n      <th>Publication_Year</th>\n      <th>Publisher</th>\n      <th>URL</th>\n      <th>Cover_URL</th>\n    </tr>\n  </thead>\n  <tbody>\n    <tr>\n      <th>0</th>\n      <td>ISBN 9774416333</td>\n      <td>استمتع بحياتك</td>\n      <td>تأليف محمد عبد الرحمن العريفي</td>\n      <td>المؤلفون\\n1</td>\n      <td>لما كنت فى السادسة عشرة من عمري وقع فى يدي كتا...</td>\n      <td>علوم إسلامية رقائق</td>\n      <td>4</td>\n      <td>مراجعات\\n97</td>\n      <td>اقتباسات\\n39</td>\n      <td>القرّاء\\n7945</td>\n      <td>344 صفحة</td>\n      <td>طبعات\\n4</td>\n      <td>نشر سنة 2009</td>\n      <td>NaN</td>\n      <td>https://www.abjjad.com/book/15445916/%D8%A7%D8...</td>\n      <td>https://abjjadst.blob.core.windows.net/pub/2f2...</td>\n    </tr>\n    <tr>\n      <th>1</th>\n      <td>ISBN 13 9789777195522</td>\n      <td>عبقرية عمر</td>\n      <td>تأليف عباس محمود العقاد</td>\n      <td>المؤلفون\\n1</td>\n      <td>يزخر التاريخ الإسلامي برجال عِظام سطروا حوادثه...</td>\n      <td>علوم إسلامية سيرة الصحابة</td>\n      <td>4.1</td>\n      <td>مراجعات\\n64</td>\n      <td>اقتباسات\\n114</td>\n      <td>القرّاء\\n7337</td>\n      <td>497 صفحة</td>\n      <td>طبعات\\n3</td>\n      <td>نشر سنة 2014</td>\n      <td>NaN</td>\n      <td>https://www.abjjad.com/book/15445340/%D8%B9%D8...</td>\n      <td>https://abjjadst.blob.core.windows.net/pub/e5f...</td>\n    </tr>\n    <tr>\n      <th>2</th>\n      <td>ISBN 13 9789777195331</td>\n      <td>عبقرية محمد</td>\n      <td>تأليف عباس محمود العقاد</td>\n      <td>المؤلفون\\n1</td>\n      <td>احتفى التاريخ العربي بالسيرة المُحمدية؛ فأفرد ...</td>\n      <td>علوم إسلامية السيرة النبوية</td>\n      <td>4.3</td>\n      <td>مراجعات\\n45</td>\n      <td>اقتباسات\\n62</td>\n      <td>القرّاء\\n4151</td>\n      <td>238 صفحة</td>\n      <td>طبعات\\n2</td>\n      <td>نشر سنة 2013</td>\n      <td>NaN</td>\n      <td>https://www.abjjad.com/book/15445339/%D8%B9%D8...</td>\n      <td>https://abjjadst.blob.core.windows.net/pub/7df...</td>\n    </tr>\n    <tr>\n      <th>3</th>\n      <td>None</td>\n      <td>لأنك الله : رحلة إلى السماء السابعة</td>\n      <td>تأليف علي بن جابر الفيفي</td>\n      <td>المؤلفون\\n2</td>\n      <td>كتاب يتحدث عن بعض أسماء الله الحسنى وكيف نعيشه...</td>\n      <td>علوم إسلامية رقائق</td>\n      <td>4.7</td>\n      <td>مراجعات\\n83</td>\n      <td>اقتباسات\\n99</td>\n      <td>القرّاء\\n3133</td>\n      <td>192 صفحة</td>\n      <td>طبعات\\n1</td>\n      <td>نشر سنة 2016</td>\n      <td>NaN</td>\n      <td>https://www.abjjad.com/book/2653683959/%D9%84%...</td>\n      <td>https://abjjadst.blob.core.windows.net/pub/c35...</td>\n    </tr>\n    <tr>\n      <th>4</th>\n      <td>ISBN 13 9789777194693</td>\n      <td>عبقرية الإمام علي</td>\n      <td>تأليف عباس محمود العقاد</td>\n      <td>المؤلفون\\n1</td>\n      <td>بَرَع «عباس محمود العقاد» في تناول شخصية الإما...</td>\n      <td>علوم إسلامية سيرة الصحابة</td>\n      <td>4.3</td>\n      <td>مراجعات\\n30</td>\n      <td>اقتباسات\\n25</td>\n      <td>القرّاء\\n2592</td>\n      <td>87 صفحة</td>\n      <td>طبعات\\n4</td>\n      <td>نشر سنة 2013</td>\n      <td>NaN</td>\n      <td>https://www.abjjad.com/book/15445343/%D8%B9%D8...</td>\n      <td>https://abjjadst.blob.core.windows.net/pub/0b2...</td>\n    </tr>\n  </tbody>\n</table>\n</div>"
     },
     "metadata": {},
     "execution_count": 20
    }
   ],
   "source": [
    "full_dataset.head()"
   ]
  },
  {
   "cell_type": "code",
   "execution_count": 21,
   "metadata": {},
   "outputs": [],
   "source": [
    "full_dataset['ISBN'] = full_dataset['ISBN'].str.replace('ISBN 13', '')\n",
    "full_dataset['ISBN'] = full_dataset['ISBN'].str.replace('ISBN', '')"
   ]
  },
  {
   "cell_type": "code",
   "execution_count": 22,
   "metadata": {},
   "outputs": [],
   "source": [
    "#see: https://stackoverflow.com/questions/20894525/how-to-remove-parentheses-and-all-data-within-using-pandas-python\n",
    "full_dataset['Author'] = full_dataset['Author'].str.replace('\\s*\\([^()]*\\)', '') \n",
    "full_dataset['Author'] = full_dataset['Author'].str.replace('تأليف', '')\n",
    "#full_dataset.loc[full_dataset['Author'].str.contains('Author')==True, 'تأليف']\n",
    "#full_dataset.loc[full_dataset['Author'] == 'مشاركة']\n",
    "#full_dataset[full_dataset.Authors_Number == 'المؤلفون\\n3']"
   ]
  },
  {
   "cell_type": "code",
   "execution_count": 23,
   "metadata": {},
   "outputs": [],
   "source": [
    "full_dataset['Authors_Number'] = full_dataset['Authors_Number'].str.replace('المؤلفون\\n', '')\n",
    "full_dataset['Authors_Number'] = full_dataset['Authors_Number'].str.replace('المؤلفون', '')"
   ]
  },
  {
   "cell_type": "code",
   "execution_count": 24,
   "metadata": {},
   "outputs": [],
   "source": [
    "full_dataset['Reviews_Number'] = full_dataset['Reviews_Number'].str.replace('مراجعات\\n', '')\n",
    "full_dataset['Reviews_Number'] = full_dataset['Reviews_Number'].str.replace('مراجعات', '')"
   ]
  },
  {
   "cell_type": "code",
   "execution_count": 25,
   "metadata": {},
   "outputs": [],
   "source": [
    "full_dataset['Quotes_Number'] = full_dataset['Quotes_Number'].str.replace('اقتباسات\\n', '')\n",
    "full_dataset['Quotes_Number'] = full_dataset['Quotes_Number'].str.replace('اقتباسات', '')"
   ]
  },
  {
   "cell_type": "code",
   "execution_count": 26,
   "metadata": {},
   "outputs": [],
   "source": [
    "full_dataset['Community_Size'] = full_dataset['Community_Size'].str.replace('القرّاء\\n', '')\n",
    "full_dataset['Community_Size'] = full_dataset['Community_Size'].str.replace('القرّاء', '')"
   ]
  },
  {
   "cell_type": "code",
   "execution_count": 27,
   "metadata": {},
   "outputs": [],
   "source": [
    "full_dataset['Pages_Number'] = full_dataset['Pages_Number'].str.replace('صفحة', '')"
   ]
  },
  {
   "cell_type": "code",
   "execution_count": 28,
   "metadata": {},
   "outputs": [],
   "source": [
    "full_dataset['Editions'] = full_dataset['Editions'].str.replace('طبعات\\n', '')\n",
    "full_dataset['Editions'] = full_dataset['Editions'].str.replace('طبعات', '')"
   ]
  },
  {
   "cell_type": "code",
   "execution_count": 29,
   "metadata": {},
   "outputs": [],
   "source": [
    "full_dataset['Publication_Year'] = full_dataset['Publication_Year'].str.replace('نشر سنة', '')"
   ]
  },
  {
   "cell_type": "code",
   "execution_count": 30,
   "metadata": {},
   "outputs": [],
   "source": [
    "full_dataset['URL'] = full_dataset['URL'].str.replace('\\/reviews', '')"
   ]
  },
  {
   "cell_type": "code",
   "execution_count": 31,
   "metadata": {},
   "outputs": [
    {
     "output_type": "execute_result",
     "data": {
      "text/plain": [
       "             ISBN                                Title  \\\n",
       "0      9774416333                        استمتع بحياتك   \n",
       "1   9789777195522                           عبقرية عمر   \n",
       "2   9789777195331                          عبقرية محمد   \n",
       "3            None  لأنك الله : رحلة إلى السماء السابعة   \n",
       "4   9789777194693                    عبقرية الإمام علي   \n",
       "\n",
       "                     Author Authors_Number  \\\n",
       "0   محمد عبد الرحمن العريفي              1   \n",
       "1         عباس محمود العقاد              1   \n",
       "2         عباس محمود العقاد              1   \n",
       "3        علي بن جابر الفيفي              2   \n",
       "4         عباس محمود العقاد              1   \n",
       "\n",
       "                                         Description  \\\n",
       "0  لما كنت فى السادسة عشرة من عمري وقع فى يدي كتا...   \n",
       "1  يزخر التاريخ الإسلامي برجال عِظام سطروا حوادثه...   \n",
       "2  احتفى التاريخ العربي بالسيرة المُحمدية؛ فأفرد ...   \n",
       "3  كتاب يتحدث عن بعض أسماء الله الحسنى وكيف نعيشه...   \n",
       "4  بَرَع «عباس محمود العقاد» في تناول شخصية الإما...   \n",
       "\n",
       "                        Genres Average_Ratings Reviews_Number Quotes_Number  \\\n",
       "0           علوم إسلامية رقائق               4             97            39   \n",
       "1    علوم إسلامية سيرة الصحابة             4.1             64           114   \n",
       "2  علوم إسلامية السيرة النبوية             4.3             45            62   \n",
       "3           علوم إسلامية رقائق             4.7             83            99   \n",
       "4    علوم إسلامية سيرة الصحابة             4.3             30            25   \n",
       "\n",
       "  Community_Size Pages_Number Editions Publication_Year Publisher  \\\n",
       "0           7945         344         4             2009       NaN   \n",
       "1           7337         497         3             2014       NaN   \n",
       "2           4151         238         2             2013       NaN   \n",
       "3           3133         192         1             2016       NaN   \n",
       "4           2592          87         4             2013       NaN   \n",
       "\n",
       "                                                 URL  \\\n",
       "0  https://www.abjjad.com/book/15445916/%D8%A7%D8...   \n",
       "1  https://www.abjjad.com/book/15445340/%D8%B9%D8...   \n",
       "2  https://www.abjjad.com/book/15445339/%D8%B9%D8...   \n",
       "3  https://www.abjjad.com/book/2653683959/%D9%84%...   \n",
       "4  https://www.abjjad.com/book/15445343/%D8%B9%D8...   \n",
       "\n",
       "                                           Cover_URL  \n",
       "0  https://abjjadst.blob.core.windows.net/pub/2f2...  \n",
       "1  https://abjjadst.blob.core.windows.net/pub/e5f...  \n",
       "2  https://abjjadst.blob.core.windows.net/pub/7df...  \n",
       "3  https://abjjadst.blob.core.windows.net/pub/c35...  \n",
       "4  https://abjjadst.blob.core.windows.net/pub/0b2...  "
      ],
      "text/html": "<div>\n<style scoped>\n    .dataframe tbody tr th:only-of-type {\n        vertical-align: middle;\n    }\n\n    .dataframe tbody tr th {\n        vertical-align: top;\n    }\n\n    .dataframe thead th {\n        text-align: right;\n    }\n</style>\n<table border=\"1\" class=\"dataframe\">\n  <thead>\n    <tr style=\"text-align: right;\">\n      <th></th>\n      <th>ISBN</th>\n      <th>Title</th>\n      <th>Author</th>\n      <th>Authors_Number</th>\n      <th>Description</th>\n      <th>Genres</th>\n      <th>Average_Ratings</th>\n      <th>Reviews_Number</th>\n      <th>Quotes_Number</th>\n      <th>Community_Size</th>\n      <th>Pages_Number</th>\n      <th>Editions</th>\n      <th>Publication_Year</th>\n      <th>Publisher</th>\n      <th>URL</th>\n      <th>Cover_URL</th>\n    </tr>\n  </thead>\n  <tbody>\n    <tr>\n      <th>0</th>\n      <td>9774416333</td>\n      <td>استمتع بحياتك</td>\n      <td>محمد عبد الرحمن العريفي</td>\n      <td>1</td>\n      <td>لما كنت فى السادسة عشرة من عمري وقع فى يدي كتا...</td>\n      <td>علوم إسلامية رقائق</td>\n      <td>4</td>\n      <td>97</td>\n      <td>39</td>\n      <td>7945</td>\n      <td>344</td>\n      <td>4</td>\n      <td>2009</td>\n      <td>NaN</td>\n      <td>https://www.abjjad.com/book/15445916/%D8%A7%D8...</td>\n      <td>https://abjjadst.blob.core.windows.net/pub/2f2...</td>\n    </tr>\n    <tr>\n      <th>1</th>\n      <td>9789777195522</td>\n      <td>عبقرية عمر</td>\n      <td>عباس محمود العقاد</td>\n      <td>1</td>\n      <td>يزخر التاريخ الإسلامي برجال عِظام سطروا حوادثه...</td>\n      <td>علوم إسلامية سيرة الصحابة</td>\n      <td>4.1</td>\n      <td>64</td>\n      <td>114</td>\n      <td>7337</td>\n      <td>497</td>\n      <td>3</td>\n      <td>2014</td>\n      <td>NaN</td>\n      <td>https://www.abjjad.com/book/15445340/%D8%B9%D8...</td>\n      <td>https://abjjadst.blob.core.windows.net/pub/e5f...</td>\n    </tr>\n    <tr>\n      <th>2</th>\n      <td>9789777195331</td>\n      <td>عبقرية محمد</td>\n      <td>عباس محمود العقاد</td>\n      <td>1</td>\n      <td>احتفى التاريخ العربي بالسيرة المُحمدية؛ فأفرد ...</td>\n      <td>علوم إسلامية السيرة النبوية</td>\n      <td>4.3</td>\n      <td>45</td>\n      <td>62</td>\n      <td>4151</td>\n      <td>238</td>\n      <td>2</td>\n      <td>2013</td>\n      <td>NaN</td>\n      <td>https://www.abjjad.com/book/15445339/%D8%B9%D8...</td>\n      <td>https://abjjadst.blob.core.windows.net/pub/7df...</td>\n    </tr>\n    <tr>\n      <th>3</th>\n      <td>None</td>\n      <td>لأنك الله : رحلة إلى السماء السابعة</td>\n      <td>علي بن جابر الفيفي</td>\n      <td>2</td>\n      <td>كتاب يتحدث عن بعض أسماء الله الحسنى وكيف نعيشه...</td>\n      <td>علوم إسلامية رقائق</td>\n      <td>4.7</td>\n      <td>83</td>\n      <td>99</td>\n      <td>3133</td>\n      <td>192</td>\n      <td>1</td>\n      <td>2016</td>\n      <td>NaN</td>\n      <td>https://www.abjjad.com/book/2653683959/%D9%84%...</td>\n      <td>https://abjjadst.blob.core.windows.net/pub/c35...</td>\n    </tr>\n    <tr>\n      <th>4</th>\n      <td>9789777194693</td>\n      <td>عبقرية الإمام علي</td>\n      <td>عباس محمود العقاد</td>\n      <td>1</td>\n      <td>بَرَع «عباس محمود العقاد» في تناول شخصية الإما...</td>\n      <td>علوم إسلامية سيرة الصحابة</td>\n      <td>4.3</td>\n      <td>30</td>\n      <td>25</td>\n      <td>2592</td>\n      <td>87</td>\n      <td>4</td>\n      <td>2013</td>\n      <td>NaN</td>\n      <td>https://www.abjjad.com/book/15445343/%D8%B9%D8...</td>\n      <td>https://abjjadst.blob.core.windows.net/pub/0b2...</td>\n    </tr>\n  </tbody>\n</table>\n</div>"
     },
     "metadata": {},
     "execution_count": 31
    }
   ],
   "source": [
    "full_dataset.head()"
   ]
  },
  {
   "source": [
    "## 5. Convert data type"
   ],
   "cell_type": "markdown",
   "metadata": {}
  },
  {
   "cell_type": "code",
   "execution_count": 32,
   "metadata": {},
   "outputs": [],
   "source": [
    "full_dataset.update(full_dataset[['Average_Ratings','Reviews_Number','Quotes_Number', 'Community_Size', 'Pages_Number']].fillna(0))\n",
    "full_dataset.update(full_dataset[['Authors_Number','Editions']].fillna(1))\n",
    "#full_dataset['Average_Ratings'] = full_dataset['Average_Ratings'].fillna(0)\n",
    "#full_dataset['Average_Ratings'] = full_dataset['Average_Ratings'].replace(np.nan, 0)"
   ]
  },
  {
   "cell_type": "code",
   "execution_count": 33,
   "metadata": {},
   "outputs": [],
   "source": [
    "# Convert data types\n",
    "full_dataset['Authors_Number'] = pd.to_numeric(full_dataset['Authors_Number']) # OR: full_dataset['Authors_Number'].apply(pd.to_numeric)\n",
    "full_dataset['Reviews_Number'] = pd.to_numeric(full_dataset['Reviews_Number'])\n",
    "full_dataset['Quotes_Number'] = pd.to_numeric(full_dataset['Quotes_Number'])\n",
    "full_dataset['Community_Size'] = pd.to_numeric(full_dataset['Community_Size'])\n",
    "full_dataset['Pages_Number'] = pd.to_numeric(full_dataset['Pages_Number'])\n",
    "full_dataset['Editions'] = pd.to_numeric(full_dataset['Editions'])\n",
    "full_dataset['Publication_Year'] = pd.to_numeric(full_dataset['Publication_Year'])"
   ]
  },
  {
   "cell_type": "code",
   "execution_count": 34,
   "metadata": {},
   "outputs": [
    {
     "output_type": "execute_result",
     "data": {
      "text/plain": [
       "'full_dataset = full_dataset.astype({\"Authors_Number\": int, \\n                                    \"Reviews_Number\": int,\\n                                    \"Quotes_Number\": int,\\n                                    \"Community_Size\": int,\\n                                    \"Publication_Year\": int})'"
      ]
     },
     "metadata": {},
     "execution_count": 34
    }
   ],
   "source": [
    "# Convert them into integers instead of float\n",
    "'''full_dataset = full_dataset.astype({\"Authors_Number\": int, \n",
    "                                    \"Reviews_Number\": int,\n",
    "                                    \"Quotes_Number\": int,\n",
    "                                    \"Community_Size\": int,\n",
    "                                    \"Publication_Year\": int})'''"
   ]
  },
  {
   "cell_type": "code",
   "execution_count": 35,
   "metadata": {},
   "outputs": [
    {
     "output_type": "stream",
     "name": "stdout",
     "text": [
      "<class 'pandas.core.frame.DataFrame'>\nInt64Index: 16558 entries, 0 to 17868\nData columns (total 16 columns):\n #   Column            Non-Null Count  Dtype  \n---  ------            --------------  -----  \n 0   ISBN              8562 non-null   object \n 1   Title             16558 non-null  object \n 2   Author            16557 non-null  object \n 3   Authors_Number    16551 non-null  float64\n 4   Description       16558 non-null  object \n 5   Genres            15178 non-null  object \n 6   Average_Ratings   16558 non-null  object \n 7   Reviews_Number    7627 non-null   float64\n 8   Quotes_Number     4555 non-null   float64\n 9   Community_Size    15777 non-null  float64\n 10  Pages_Number      16558 non-null  int64  \n 11  Editions          16558 non-null  int64  \n 12  Publication_Year  14154 non-null  float64\n 13  Publisher         1461 non-null   object \n 14  URL               16558 non-null  object \n 15  Cover_URL         16554 non-null  object \ndtypes: float64(5), int64(2), object(9)\nmemory usage: 2.1+ MB\n"
     ]
    }
   ],
   "source": [
    "full_dataset.info()"
   ]
  },
  {
   "cell_type": "code",
   "execution_count": 36,
   "metadata": {},
   "outputs": [],
   "source": [
    "full_dataset.to_csv('Data/Books_Data/Prepared_Dataset.csv') # To publish on Kaggle as Arabic books dataset"
   ]
  },
  {
   "cell_type": "code",
   "execution_count": 37,
   "metadata": {},
   "outputs": [],
   "source": [
    "final_dataset = pd.read_csv('Data/Books_Data/Prepared_Dataset.csv', skipinitialspace=True) "
   ]
  },
  {
   "source": [
    "## 6. Prepare the data for this project"
   ],
   "cell_type": "markdown",
   "metadata": {}
  },
  {
   "source": [
    "### 6.1 Remove unwanted columns"
   ],
   "cell_type": "markdown",
   "metadata": {}
  },
  {
   "cell_type": "code",
   "execution_count": 38,
   "metadata": {},
   "outputs": [],
   "source": [
    "final_dataset = final_dataset.drop(['Unnamed: 0', 'ISBN', 'Authors_Number', 'Average_Ratings', 'Reviews_Number', 'Quotes_Number', 'Community_Size', 'Pages_Number', 'Editions', 'Publication_Year', 'Publisher'], axis = 1)"
   ]
  },
  {
   "source": [
    "### 6.2 Remove books with non Arabic description"
   ],
   "cell_type": "markdown",
   "metadata": {}
  },
  {
   "cell_type": "code",
   "execution_count": 39,
   "metadata": {},
   "outputs": [
    {
     "output_type": "execute_result",
     "data": {
      "text/plain": [
       "                                                   Title  \\\n",
       "1937                             العلاقة بين الجن والإنس   \n",
       "12657        رحلة الشيخ علي الليثي ببلاد النمسا وألمانيا   \n",
       "1483              معجم البيولوجيا انجليزى - فرنسى - عربى   \n",
       "1564              معجم الجيولوجيا انجليزى - فرنسى - عربى   \n",
       "6314                   الطريقة السهلة للإقلاع عن التدخين   \n",
       "...                                                  ...   \n",
       "16524  القرار الإداري السلبي - دراسة مقارنة بالفقه ال...   \n",
       "16525  الرقابة القضائية على العقود الإدارية في مرحلتي...   \n",
       "16526  إنقضاء الخصومة الإدارية بالإرادة المنفردة للخص...   \n",
       "16531  الإجراءات الجنائية قي النظم القانونية العربية ...   \n",
       "16535          التعسف في استعمال الحق في الأحوال الشخصية   \n",
       "\n",
       "                            Author  \\\n",
       "1937             إبراهيم كمال أدهم   \n",
       "12657               علي حسن الليثي   \n",
       "1483              هلا فلاح الخنساء   \n",
       "1564          حسين عبد المحسن حسين   \n",
       "6314                      ألان كار   \n",
       "...                            ...   \n",
       "16524       شعبان عبد الحكيم سلامة   \n",
       "16525  محمد بن سعيد بن حمد المعمري   \n",
       "16526           محمد باهي أبو يونس   \n",
       "16531            محمود شريف بسيوني   \n",
       "16535       عبير ربحي شاكر القدومي   \n",
       "\n",
       "                                             Description  \\\n",
       "1937   👿 كتاب العلاقة بين الجن والإنس، تأليف: إبراهيم...   \n",
       "12657  ﻳﺸﻜﻞ أدب اﻟﺮﺣﻼت، ﻣﺎدة ﻏﻨﯿﺔ وﻣﻤﺘﻌﺔ ﻓﻲ اﻟﺘﺮاث اﻟ...   \n",
       "1483   ﻳﺤﺘﻮي ھﺬا اﻟﻤﻌﺠﻢ ﻋﻠﻰ أﻛﺜﺮ ﻣﻦ 5600 ﻣﺪﺧﻞ ﻣﻌﺮف ﻓﻲ...   \n",
       "1564   ﻳﺤﺘﻮي ھﺬا اﻟﻤﻌﺠﻢ ﻋﻠﻰ أﻛﺜﺮ ﻣﻦ 2000 ﻣﺼﻄﻠﺢ ﻣﻌﺮف ﻓ...   \n",
       "6314   ﻳﺘﻨـﺎول أﻻن ﻛﺎر ﻳﺘﻨـﺎول أﻻن ﻛﺎر، اﻟﺨﺒﻴﺮ ذاﺋﻊ ا...   \n",
       "...                                                  ...   \n",
       "16524                                                NaN   \n",
       "16525                                                NaN   \n",
       "16526                                                NaN   \n",
       "16531                                                NaN   \n",
       "16535                                                NaN   \n",
       "\n",
       "                            Genres  \\\n",
       "1937             غرائب وأساطير سحر   \n",
       "12657         سفر ورحلات أدب رحلات   \n",
       "1483                   مراجع معاجم   \n",
       "1564                           NaN   \n",
       "6314                  صحة وطب علاج   \n",
       "...                            ...   \n",
       "16524            قانون قانون إداري   \n",
       "16525            قانون قانون إداري   \n",
       "16526            قانون قانون إداري   \n",
       "16531            قانون قانون جنائي   \n",
       "16535  قانون قانون الأحوال الشخصية   \n",
       "\n",
       "                                                     URL  \\\n",
       "1937   https://www.abjjad.com/book/2660139008/%D8%A7%...   \n",
       "12657  https://www.abjjad.com/book/2177305009/%D8%B1%...   \n",
       "1483   https://www.abjjad.com/book/2178909847/%D9%85%...   \n",
       "1564   https://www.abjjad.com/book/2178877181/%D9%85%...   \n",
       "6314   https://www.abjjad.com/book/2206794146/%D8%A7%...   \n",
       "...                                                  ...   \n",
       "16524  https://www.abjjad.com/book/2486305117/%D8%A7%...   \n",
       "16525  https://www.abjjad.com/book/2486468610/%D8%A7%...   \n",
       "16526  https://www.abjjad.com/book/2486501423/%D8%A7%...   \n",
       "16531  https://www.abjjad.com/book/15446889/%D8%A7%D9...   \n",
       "16535  https://www.abjjad.com/book/2175735098/%D8%A7%...   \n",
       "\n",
       "                                               Cover_URL  \n",
       "1937   https://abjjadst.blob.core.windows.net/pub/ef0...  \n",
       "12657  https://abjjadst.blob.core.windows.net/pub/650...  \n",
       "1483   https://abjjadst.blob.core.windows.net/pub/8c4...  \n",
       "1564   https://abjjadst.blob.core.windows.net/pub/993...  \n",
       "6314   https://abjjadst.blob.core.windows.net/pub/ef1...  \n",
       "...                                                  ...  \n",
       "16524  https://abjjadst.blob.core.windows.net/pub/86a...  \n",
       "16525  https://abjjadst.blob.core.windows.net/pub/11a...  \n",
       "16526  https://abjjadst.blob.core.windows.net/pub/bf8...  \n",
       "16531  https://abjjadst.blob.core.windows.net/pub/559...  \n",
       "16535  https://abjjadst.blob.core.windows.net/pub/dd6...  \n",
       "\n",
       "[16558 rows x 6 columns]"
      ],
      "text/html": "<div>\n<style scoped>\n    .dataframe tbody tr th:only-of-type {\n        vertical-align: middle;\n    }\n\n    .dataframe tbody tr th {\n        vertical-align: top;\n    }\n\n    .dataframe thead th {\n        text-align: right;\n    }\n</style>\n<table border=\"1\" class=\"dataframe\">\n  <thead>\n    <tr style=\"text-align: right;\">\n      <th></th>\n      <th>Title</th>\n      <th>Author</th>\n      <th>Description</th>\n      <th>Genres</th>\n      <th>URL</th>\n      <th>Cover_URL</th>\n    </tr>\n  </thead>\n  <tbody>\n    <tr>\n      <th>1937</th>\n      <td>العلاقة بين الجن والإنس</td>\n      <td>إبراهيم كمال أدهم</td>\n      <td>👿 كتاب العلاقة بين الجن والإنس، تأليف: إبراهيم...</td>\n      <td>غرائب وأساطير سحر</td>\n      <td>https://www.abjjad.com/book/2660139008/%D8%A7%...</td>\n      <td>https://abjjadst.blob.core.windows.net/pub/ef0...</td>\n    </tr>\n    <tr>\n      <th>12657</th>\n      <td>رحلة الشيخ علي الليثي ببلاد النمسا وألمانيا</td>\n      <td>علي حسن الليثي</td>\n      <td>ﻳﺸﻜﻞ أدب اﻟﺮﺣﻼت، ﻣﺎدة ﻏﻨﯿﺔ وﻣﻤﺘﻌﺔ ﻓﻲ اﻟﺘﺮاث اﻟ...</td>\n      <td>سفر ورحلات أدب رحلات</td>\n      <td>https://www.abjjad.com/book/2177305009/%D8%B1%...</td>\n      <td>https://abjjadst.blob.core.windows.net/pub/650...</td>\n    </tr>\n    <tr>\n      <th>1483</th>\n      <td>معجم البيولوجيا انجليزى - فرنسى - عربى</td>\n      <td>هلا فلاح الخنساء</td>\n      <td>ﻳﺤﺘﻮي ھﺬا اﻟﻤﻌﺠﻢ ﻋﻠﻰ أﻛﺜﺮ ﻣﻦ 5600 ﻣﺪﺧﻞ ﻣﻌﺮف ﻓﻲ...</td>\n      <td>مراجع معاجم</td>\n      <td>https://www.abjjad.com/book/2178909847/%D9%85%...</td>\n      <td>https://abjjadst.blob.core.windows.net/pub/8c4...</td>\n    </tr>\n    <tr>\n      <th>1564</th>\n      <td>معجم الجيولوجيا انجليزى - فرنسى - عربى</td>\n      <td>حسين عبد المحسن حسين</td>\n      <td>ﻳﺤﺘﻮي ھﺬا اﻟﻤﻌﺠﻢ ﻋﻠﻰ أﻛﺜﺮ ﻣﻦ 2000 ﻣﺼﻄﻠﺢ ﻣﻌﺮف ﻓ...</td>\n      <td>NaN</td>\n      <td>https://www.abjjad.com/book/2178877181/%D9%85%...</td>\n      <td>https://abjjadst.blob.core.windows.net/pub/993...</td>\n    </tr>\n    <tr>\n      <th>6314</th>\n      <td>الطريقة السهلة للإقلاع عن التدخين</td>\n      <td>ألان كار</td>\n      <td>ﻳﺘﻨـﺎول أﻻن ﻛﺎر ﻳﺘﻨـﺎول أﻻن ﻛﺎر، اﻟﺨﺒﻴﺮ ذاﺋﻊ ا...</td>\n      <td>صحة وطب علاج</td>\n      <td>https://www.abjjad.com/book/2206794146/%D8%A7%...</td>\n      <td>https://abjjadst.blob.core.windows.net/pub/ef1...</td>\n    </tr>\n    <tr>\n      <th>...</th>\n      <td>...</td>\n      <td>...</td>\n      <td>...</td>\n      <td>...</td>\n      <td>...</td>\n      <td>...</td>\n    </tr>\n    <tr>\n      <th>16524</th>\n      <td>القرار الإداري السلبي - دراسة مقارنة بالفقه ال...</td>\n      <td>شعبان عبد الحكيم سلامة</td>\n      <td>NaN</td>\n      <td>قانون قانون إداري</td>\n      <td>https://www.abjjad.com/book/2486305117/%D8%A7%...</td>\n      <td>https://abjjadst.blob.core.windows.net/pub/86a...</td>\n    </tr>\n    <tr>\n      <th>16525</th>\n      <td>الرقابة القضائية على العقود الإدارية في مرحلتي...</td>\n      <td>محمد بن سعيد بن حمد المعمري</td>\n      <td>NaN</td>\n      <td>قانون قانون إداري</td>\n      <td>https://www.abjjad.com/book/2486468610/%D8%A7%...</td>\n      <td>https://abjjadst.blob.core.windows.net/pub/11a...</td>\n    </tr>\n    <tr>\n      <th>16526</th>\n      <td>إنقضاء الخصومة الإدارية بالإرادة المنفردة للخص...</td>\n      <td>محمد باهي أبو يونس</td>\n      <td>NaN</td>\n      <td>قانون قانون إداري</td>\n      <td>https://www.abjjad.com/book/2486501423/%D8%A7%...</td>\n      <td>https://abjjadst.blob.core.windows.net/pub/bf8...</td>\n    </tr>\n    <tr>\n      <th>16531</th>\n      <td>الإجراءات الجنائية قي النظم القانونية العربية ...</td>\n      <td>محمود شريف بسيوني</td>\n      <td>NaN</td>\n      <td>قانون قانون جنائي</td>\n      <td>https://www.abjjad.com/book/15446889/%D8%A7%D9...</td>\n      <td>https://abjjadst.blob.core.windows.net/pub/559...</td>\n    </tr>\n    <tr>\n      <th>16535</th>\n      <td>التعسف في استعمال الحق في الأحوال الشخصية</td>\n      <td>عبير ربحي شاكر القدومي</td>\n      <td>NaN</td>\n      <td>قانون قانون الأحوال الشخصية</td>\n      <td>https://www.abjjad.com/book/2175735098/%D8%A7%...</td>\n      <td>https://abjjadst.blob.core.windows.net/pub/dd6...</td>\n    </tr>\n  </tbody>\n</table>\n<p>16558 rows × 6 columns</p>\n</div>"
     },
     "metadata": {},
     "execution_count": 39
    }
   ],
   "source": [
    "final_dataset.sort_values(by=['Description'], ascending=[0])"
   ]
  },
  {
   "cell_type": "code",
   "execution_count": 40,
   "metadata": {},
   "outputs": [],
   "source": [
    "# Keep only the rows that contain description\n",
    "final_dataset = final_dataset[final_dataset['Description'].notna()] "
   ]
  },
  {
   "cell_type": "code",
   "execution_count": 41,
   "metadata": {},
   "outputs": [
    {
     "output_type": "execute_result",
     "data": {
      "text/plain": [
       "(14200, 6)"
      ]
     },
     "metadata": {},
     "execution_count": 41
    }
   ],
   "source": [
    "final_dataset.shape"
   ]
  },
  {
   "cell_type": "code",
   "execution_count": 43,
   "metadata": {},
   "outputs": [],
   "source": [
    "#detect(final_dataset['Description'][3]) != 'ar'"
   ]
  },
  {
   "cell_type": "code",
   "execution_count": 44,
   "metadata": {},
   "outputs": [],
   "source": [
    "from langdetect import detect\n",
    "\n",
    "#https://stackoverflow.com/questions/60930935/exclude-non-english-rows-in-pandas\n",
    "\n",
    "def is_ar(txt):\n",
    "    try:\n",
    "        return detect(txt)=='ar'\n",
    "    except:\n",
    "        return False\n",
    "\n",
    "full_dataset = full_dataset[full_dataset['Description'].apply(is_ar)]"
   ]
  },
  {
   "cell_type": "code",
   "execution_count": 45,
   "metadata": {},
   "outputs": [
    {
     "output_type": "execute_result",
     "data": {
      "text/plain": [
       "(14160, 16)"
      ]
     },
     "metadata": {},
     "execution_count": 45
    }
   ],
   "source": [
    "full_dataset.shape"
   ]
  },
  {
   "cell_type": "code",
   "execution_count": 82,
   "metadata": {},
   "outputs": [
    {
     "output_type": "execute_result",
     "data": {
      "text/plain": [
       "'for index, i in enumerate(full_dataset[\\'Description\\']):\\n    print(index)\\n    try:\\n        if detect(full_dataset[\\'Description\\'][index]) != \\'ar\\':\\n            print(\"Book number: \", index, \"was dropped due to using another language\")\\n            full_dataset.drop(index)\\n    except:\\n            print(\"Book number: \", index, \"was dropped due to an exception\")\\n            full_dataset.drop(index)\\n            continue'"
      ]
     },
     "metadata": {},
     "execution_count": 82
    }
   ],
   "source": [
    "'''for index, i in enumerate(full_dataset['Description']):\n",
    "    print(index)\n",
    "    try:\n",
    "        if detect(full_dataset['Description'][index]) != 'ar':\n",
    "            print(\"Book number: \", index, \"was dropped due to using another language\")\n",
    "            full_dataset.drop(index)\n",
    "    except:\n",
    "            print(\"Book number: \", index, \"was dropped due to an exception\")\n",
    "            full_dataset.drop(index)\n",
    "            continue'''"
   ]
  },
  {
   "cell_type": "code",
   "execution_count": 46,
   "metadata": {},
   "outputs": [],
   "source": [
    "final_dataset.to_csv('Data/Descriptions_Dataset.csv') # To be used for recommendation system"
   ]
  }
 ]
}